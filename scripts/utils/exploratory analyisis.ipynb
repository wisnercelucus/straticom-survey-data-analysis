{
 "cells": [
  {
   "cell_type": "code",
   "execution_count": 1,
   "metadata": {},
   "outputs": [],
   "source": [
    "import pandas as pd\n",
    "import re\n",
    "import datetime\n",
    "import matplotlib.pyplot as plt\n"
   ]
  },
  {
   "cell_type": "code",
   "execution_count": 2,
   "metadata": {},
   "outputs": [],
   "source": [
    "df = pd.read_csv('survey.csv', sep=',', encoding='latin-1')"
   ]
  },
  {
   "cell_type": "code",
   "execution_count": 3,
   "metadata": {},
   "outputs": [
    {
     "data": {
      "text/html": [
       "<div>\n",
       "<style scoped>\n",
       "    .dataframe tbody tr th:only-of-type {\n",
       "        vertical-align: middle;\n",
       "    }\n",
       "\n",
       "    .dataframe tbody tr th {\n",
       "        vertical-align: top;\n",
       "    }\n",
       "\n",
       "    .dataframe thead th {\n",
       "        text-align: right;\n",
       "    }\n",
       "</style>\n",
       "<table border=\"1\" class=\"dataframe\">\n",
       "  <thead>\n",
       "    <tr style=\"text-align: right;\">\n",
       "      <th></th>\n",
       "      <th>startDate</th>\n",
       "      <th>endDate</th>\n",
       "      <th>Date</th>\n",
       "      <th>gps x</th>\n",
       "      <th>gps y</th>\n",
       "      <th>Surveyor</th>\n",
       "      <th>A.1 NIMEWO SERI A</th>\n",
       "      <th>A.2 Non anketè a.</th>\n",
       "      <th>A.3 MOUN Y'AP POZE KESYON YO.</th>\n",
       "      <th>A.4 Non chèf kay la.</th>\n",
       "      <th>...</th>\n",
       "      <th>G.2 Eske fatra ki mal jere ka bay maladi?</th>\n",
       "      <th>G.3 Kòman nou jere dlo ki pa bon yo?</th>\n",
       "      <th>G.4 Eske nou vle ankouraje paran nou pou pran desizyon ki ka pèmèt nou aplike tout règ ijèn yo ?</th>\n",
       "      <th>G.5 Eske paran nou deja pran kèk desizyon sou kesyon ijèn?</th>\n",
       "      <th>G.6 Ki desizyon paran nou konn pran deja sou kesyon ijèn ?</th>\n",
       "      <th>G.7 Obsèvasyon : veye konpòtman moun yo avan epi aprè entèvyou a.</th>\n",
       "      <th>G.8 Pran GPS kay oubyen kote wap kolekte done yo. latitude and longitude</th>\n",
       "      <th>G.8 Pran GPS kay oubyen kote wap kolekte done yo. altitude</th>\n",
       "      <th>G.8 Pran GPS kay oubyen kote wap kolekte done yo. accuracy</th>\n",
       "      <th>G.9 Dat ak lè ou fin ranpli kesyonè a.</th>\n",
       "    </tr>\n",
       "  </thead>\n",
       "  <tbody>\n",
       "    <tr>\n",
       "      <th>0</th>\n",
       "      <td>startDate</td>\n",
       "      <td>endDate</td>\n",
       "      <td>Date</td>\n",
       "      <td>gps x</td>\n",
       "      <td>gps y</td>\n",
       "      <td>Surveyor</td>\n",
       "      <td>a1_nimewo_seri_a</td>\n",
       "      <td>non_anket_a</td>\n",
       "      <td>moun_yap_poze_kesyon_yo</td>\n",
       "      <td>non_chf_kay_la</td>\n",
       "      <td>...</td>\n",
       "      <td>eske_fatra_ki_mal_jere_ka_bay_maladi</td>\n",
       "      <td>kman_nou_jere_dlo_ki_pa_bon_yo</td>\n",
       "      <td>eske_nou_vle_ankouraje_paran_nou_pou_pra</td>\n",
       "      <td>eske_paran_nou_deja_pran_kk_desizyon_sou</td>\n",
       "      <td>ki_desizyon_paran_nou_konn_pran_deja_sou</td>\n",
       "      <td>obsvasyon</td>\n",
       "      <td>pran_gps_kay_oubyen_kote_wap_kolekte_don latit...</td>\n",
       "      <td>pran_gps_kay_oubyen_kote_wap_kolekte_don altitude</td>\n",
       "      <td>pran_gps_kay_oubyen_kote_wap_kolekte_don accuracy</td>\n",
       "      <td>dat_ou_fin_ranpli_kesyon_a</td>\n",
       "    </tr>\n",
       "    <tr>\n",
       "      <th>1</th>\n",
       "      <td>3/21/2018 9:09</td>\n",
       "      <td>3/22/2018 9:23</td>\n",
       "      <td>3/21/2018</td>\n",
       "      <td>NaN</td>\n",
       "      <td>NaN</td>\n",
       "      <td>Campteam2</td>\n",
       "      <td>1.00E+101</td>\n",
       "      <td>Valencia</td>\n",
       "      <td>1. Elèv</td>\n",
       "      <td>Guicio Pricien</td>\n",
       "      <td>...</td>\n",
       "      <td>0. Mwen dakò</td>\n",
       "      <td>1. Jete l tout kote</td>\n",
       "      <td>1. Wi</td>\n",
       "      <td>1. Wi</td>\n",
       "      <td>Pap jete fatra nan lari</td>\n",
       "      <td>ap panse</td>\n",
       "      <td>NaN</td>\n",
       "      <td>NaN</td>\n",
       "      <td>NaN</td>\n",
       "      <td>18:00.0</td>\n",
       "    </tr>\n",
       "  </tbody>\n",
       "</table>\n",
       "<p>2 rows × 80 columns</p>\n",
       "</div>"
      ],
      "text/plain": [
       "        startDate         endDate       Date  gps x  gps y   Surveyor  \\\n",
       "0       startDate         endDate       Date  gps x  gps y   Surveyor   \n",
       "1  3/21/2018 9:09  3/22/2018 9:23  3/21/2018    NaN    NaN  Campteam2   \n",
       "\n",
       "  A.1 NIMEWO SERI A A.2 Non anketè a. A.3 MOUN Y'AP POZE KESYON YO.  \\\n",
       "0  a1_nimewo_seri_a       non_anket_a       moun_yap_poze_kesyon_yo   \n",
       "1         1.00E+101          Valencia                       1. Elèv   \n",
       "\n",
       "  A.4 Non chèf kay la.                  ...                    \\\n",
       "0       non_chf_kay_la                  ...                     \n",
       "1       Guicio Pricien                  ...                     \n",
       "\n",
       "  G.2 Eske fatra ki mal jere ka bay maladi?  \\\n",
       "0      eske_fatra_ki_mal_jere_ka_bay_maladi   \n",
       "1                              0. Mwen dakò   \n",
       "\n",
       "  G.3 Kòman nou jere dlo ki pa bon yo?  \\\n",
       "0       kman_nou_jere_dlo_ki_pa_bon_yo   \n",
       "1                  1. Jete l tout kote   \n",
       "\n",
       "  G.4 Eske nou vle ankouraje paran nou pou pran desizyon ki ka pèmèt nou aplike tout règ ijèn yo ?  \\\n",
       "0           eske_nou_vle_ankouraje_paran_nou_pou_pra                                                 \n",
       "1                                              1. Wi                                                 \n",
       "\n",
       "  G.5 Eske paran nou deja pran kèk desizyon sou kesyon ijèn?  \\\n",
       "0           eske_paran_nou_deja_pran_kk_desizyon_sou           \n",
       "1                                              1. Wi           \n",
       "\n",
       "  G.6 Ki desizyon paran nou konn pran deja sou kesyon ijèn ?  \\\n",
       "0           ki_desizyon_paran_nou_konn_pran_deja_sou           \n",
       "1                            Pap jete fatra nan lari           \n",
       "\n",
       "  G.7 Obsèvasyon : veye konpòtman moun yo avan epi aprè entèvyou a.  \\\n",
       "0                                          obsvasyon                  \n",
       "1                                           ap panse                  \n",
       "\n",
       "  G.8 Pran GPS kay oubyen kote wap kolekte done yo. latitude and longitude  \\\n",
       "0  pran_gps_kay_oubyen_kote_wap_kolekte_don latit...                         \n",
       "1                                                NaN                         \n",
       "\n",
       "  G.8 Pran GPS kay oubyen kote wap kolekte done yo. altitude  \\\n",
       "0  pran_gps_kay_oubyen_kote_wap_kolekte_don altitude           \n",
       "1                                                NaN           \n",
       "\n",
       "  G.8 Pran GPS kay oubyen kote wap kolekte done yo. accuracy  \\\n",
       "0  pran_gps_kay_oubyen_kote_wap_kolekte_don accuracy           \n",
       "1                                                NaN           \n",
       "\n",
       "  G.9 Dat ak lè ou fin ranpli kesyonè a.  \n",
       "0             dat_ou_fin_ranpli_kesyon_a  \n",
       "1                                18:00.0  \n",
       "\n",
       "[2 rows x 80 columns]"
      ]
     },
     "execution_count": 3,
     "metadata": {},
     "output_type": "execute_result"
    }
   ],
   "source": [
    "df.head(2)"
   ]
  },
  {
   "cell_type": "markdown",
   "metadata": {},
   "source": [
    "## Jean Marck"
   ]
  },
  {
   "cell_type": "markdown",
   "metadata": {},
   "source": [
    "Hello, I will e"
   ]
  },
  {
   "cell_type": "code",
   "execution_count": 4,
   "metadata": {},
   "outputs": [],
   "source": [
    "df = df.drop(df.columns[[0, 1, 3, 4, 5, 6, 7]], axis = 1)"
   ]
  },
  {
   "cell_type": "code",
   "execution_count": 5,
   "metadata": {},
   "outputs": [
    {
     "data": {
      "text/html": [
       "<div>\n",
       "<style scoped>\n",
       "    .dataframe tbody tr th:only-of-type {\n",
       "        vertical-align: middle;\n",
       "    }\n",
       "\n",
       "    .dataframe tbody tr th {\n",
       "        vertical-align: top;\n",
       "    }\n",
       "\n",
       "    .dataframe thead th {\n",
       "        text-align: right;\n",
       "    }\n",
       "</style>\n",
       "<table border=\"1\" class=\"dataframe\">\n",
       "  <thead>\n",
       "    <tr style=\"text-align: right;\">\n",
       "      <th></th>\n",
       "      <th>Date</th>\n",
       "      <th>A.3 MOUN Y'AP POZE KESYON YO.</th>\n",
       "      <th>A.4 Non chèf kay la.</th>\n",
       "      <th>A.5 Non pwofesè a.</th>\n",
       "      <th>Non direktè a</th>\n",
       "      <th>A.6 Zòn kote moun nan rete a.</th>\n",
       "      <th>A.7 Nan ki lekòl ou ye?</th>\n",
       "      <th>A.8 DAT ENTEVYOU A AK LE LI KOUMANSE.</th>\n",
       "      <th>B.1 Non papa oubyen manman oubyen Gadyen an. 1</th>\n",
       "      <th>B.1 Non papa oubyen manman oubyen Gadyen an. 2</th>\n",
       "      <th>...</th>\n",
       "      <th>G.2 Eske fatra ki mal jere ka bay maladi?</th>\n",
       "      <th>G.3 Kòman nou jere dlo ki pa bon yo?</th>\n",
       "      <th>G.4 Eske nou vle ankouraje paran nou pou pran desizyon ki ka pèmèt nou aplike tout règ ijèn yo ?</th>\n",
       "      <th>G.5 Eske paran nou deja pran kèk desizyon sou kesyon ijèn?</th>\n",
       "      <th>G.6 Ki desizyon paran nou konn pran deja sou kesyon ijèn ?</th>\n",
       "      <th>G.7 Obsèvasyon : veye konpòtman moun yo avan epi aprè entèvyou a.</th>\n",
       "      <th>G.8 Pran GPS kay oubyen kote wap kolekte done yo. latitude and longitude</th>\n",
       "      <th>G.8 Pran GPS kay oubyen kote wap kolekte done yo. altitude</th>\n",
       "      <th>G.8 Pran GPS kay oubyen kote wap kolekte done yo. accuracy</th>\n",
       "      <th>G.9 Dat ak lè ou fin ranpli kesyonè a.</th>\n",
       "    </tr>\n",
       "  </thead>\n",
       "  <tbody>\n",
       "    <tr>\n",
       "      <th>0</th>\n",
       "      <td>Date</td>\n",
       "      <td>moun_yap_poze_kesyon_yo</td>\n",
       "      <td>non_chf_kay_la</td>\n",
       "      <td>non_pwofes_a</td>\n",
       "      <td>directoname</td>\n",
       "      <td>zn_kote_moun_nan_rete_a_1</td>\n",
       "      <td>nan_ki_lekl_ou_ye</td>\n",
       "      <td>dat_entevyou_a_ak_le_li_koumanse</td>\n",
       "      <td>b1_non_papa_oubyen_manman_oubyen_gadyen__1</td>\n",
       "      <td>b1_non_papa_oubyen_manman_oubyen_gadyen__2</td>\n",
       "      <td>...</td>\n",
       "      <td>eske_fatra_ki_mal_jere_ka_bay_maladi</td>\n",
       "      <td>kman_nou_jere_dlo_ki_pa_bon_yo</td>\n",
       "      <td>eske_nou_vle_ankouraje_paran_nou_pou_pra</td>\n",
       "      <td>eske_paran_nou_deja_pran_kk_desizyon_sou</td>\n",
       "      <td>ki_desizyon_paran_nou_konn_pran_deja_sou</td>\n",
       "      <td>obsvasyon</td>\n",
       "      <td>pran_gps_kay_oubyen_kote_wap_kolekte_don latit...</td>\n",
       "      <td>pran_gps_kay_oubyen_kote_wap_kolekte_don altitude</td>\n",
       "      <td>pran_gps_kay_oubyen_kote_wap_kolekte_don accuracy</td>\n",
       "      <td>dat_ou_fin_ranpli_kesyon_a</td>\n",
       "    </tr>\n",
       "    <tr>\n",
       "      <th>1</th>\n",
       "      <td>3/21/2018</td>\n",
       "      <td>1. Elèv</td>\n",
       "      <td>Guicio Pricien</td>\n",
       "      <td>NaN</td>\n",
       "      <td>NaN</td>\n",
       "      <td>Corail</td>\n",
       "      <td>5. Institution Mixte Espoir</td>\n",
       "      <td>00:00.0</td>\n",
       "      <td>Guicio Pricien</td>\n",
       "      <td>NaN</td>\n",
       "      <td>...</td>\n",
       "      <td>0. Mwen dakò</td>\n",
       "      <td>1. Jete l tout kote</td>\n",
       "      <td>1. Wi</td>\n",
       "      <td>1. Wi</td>\n",
       "      <td>Pap jete fatra nan lari</td>\n",
       "      <td>ap panse</td>\n",
       "      <td>NaN</td>\n",
       "      <td>NaN</td>\n",
       "      <td>NaN</td>\n",
       "      <td>18:00.0</td>\n",
       "    </tr>\n",
       "  </tbody>\n",
       "</table>\n",
       "<p>2 rows × 73 columns</p>\n",
       "</div>"
      ],
      "text/plain": [
       "        Date A.3 MOUN Y'AP POZE KESYON YO. A.4 Non chèf kay la.  \\\n",
       "0       Date       moun_yap_poze_kesyon_yo       non_chf_kay_la   \n",
       "1  3/21/2018                       1. Elèv       Guicio Pricien   \n",
       "\n",
       "  A.5 Non pwofesè a. Non direktè a A.6 Zòn kote moun nan rete a.  \\\n",
       "0       non_pwofes_a   directoname     zn_kote_moun_nan_rete_a_1   \n",
       "1                NaN           NaN                        Corail   \n",
       "\n",
       "       A.7 Nan ki lekòl ou ye? A.8 DAT ENTEVYOU A AK LE LI KOUMANSE.  \\\n",
       "0            nan_ki_lekl_ou_ye      dat_entevyou_a_ak_le_li_koumanse   \n",
       "1  5. Institution Mixte Espoir                               00:00.0   \n",
       "\n",
       "  B.1 Non papa oubyen manman oubyen Gadyen an. 1  \\\n",
       "0     b1_non_papa_oubyen_manman_oubyen_gadyen__1   \n",
       "1                                 Guicio Pricien   \n",
       "\n",
       "  B.1 Non papa oubyen manman oubyen Gadyen an. 2  \\\n",
       "0     b1_non_papa_oubyen_manman_oubyen_gadyen__2   \n",
       "1                                            NaN   \n",
       "\n",
       "                   ...                    \\\n",
       "0                  ...                     \n",
       "1                  ...                     \n",
       "\n",
       "  G.2 Eske fatra ki mal jere ka bay maladi?  \\\n",
       "0      eske_fatra_ki_mal_jere_ka_bay_maladi   \n",
       "1                              0. Mwen dakò   \n",
       "\n",
       "  G.3 Kòman nou jere dlo ki pa bon yo?  \\\n",
       "0       kman_nou_jere_dlo_ki_pa_bon_yo   \n",
       "1                  1. Jete l tout kote   \n",
       "\n",
       "  G.4 Eske nou vle ankouraje paran nou pou pran desizyon ki ka pèmèt nou aplike tout règ ijèn yo ?  \\\n",
       "0           eske_nou_vle_ankouraje_paran_nou_pou_pra                                                 \n",
       "1                                              1. Wi                                                 \n",
       "\n",
       "  G.5 Eske paran nou deja pran kèk desizyon sou kesyon ijèn?  \\\n",
       "0           eske_paran_nou_deja_pran_kk_desizyon_sou           \n",
       "1                                              1. Wi           \n",
       "\n",
       "  G.6 Ki desizyon paran nou konn pran deja sou kesyon ijèn ?  \\\n",
       "0           ki_desizyon_paran_nou_konn_pran_deja_sou           \n",
       "1                            Pap jete fatra nan lari           \n",
       "\n",
       "  G.7 Obsèvasyon : veye konpòtman moun yo avan epi aprè entèvyou a.  \\\n",
       "0                                          obsvasyon                  \n",
       "1                                           ap panse                  \n",
       "\n",
       "  G.8 Pran GPS kay oubyen kote wap kolekte done yo. latitude and longitude  \\\n",
       "0  pran_gps_kay_oubyen_kote_wap_kolekte_don latit...                         \n",
       "1                                                NaN                         \n",
       "\n",
       "  G.8 Pran GPS kay oubyen kote wap kolekte done yo. altitude  \\\n",
       "0  pran_gps_kay_oubyen_kote_wap_kolekte_don altitude           \n",
       "1                                                NaN           \n",
       "\n",
       "  G.8 Pran GPS kay oubyen kote wap kolekte done yo. accuracy  \\\n",
       "0  pran_gps_kay_oubyen_kote_wap_kolekte_don accuracy           \n",
       "1                                                NaN           \n",
       "\n",
       "  G.9 Dat ak lè ou fin ranpli kesyonè a.  \n",
       "0             dat_ou_fin_ranpli_kesyon_a  \n",
       "1                                18:00.0  \n",
       "\n",
       "[2 rows x 73 columns]"
      ]
     },
     "execution_count": 5,
     "metadata": {},
     "output_type": "execute_result"
    }
   ],
   "source": [
    "df.head(2)"
   ]
  },
  {
   "cell_type": "code",
   "execution_count": 5,
   "metadata": {},
   "outputs": [],
   "source": [
    "df = df.drop([0])"
   ]
  },
  {
   "cell_type": "code",
   "execution_count": 9,
   "metadata": {},
   "outputs": [],
   "source": [
    "#df.head(2)"
   ]
  },
  {
   "cell_type": "code",
   "execution_count": 10,
   "metadata": {},
   "outputs": [],
   "source": [
    "#df.info()"
   ]
  },
  {
   "cell_type": "code",
   "execution_count": 1,
   "metadata": {},
   "outputs": [],
   "source": [
    "#df.columns"
   ]
  },
  {
   "cell_type": "code",
   "execution_count": 6,
   "metadata": {},
   "outputs": [
    {
     "data": {
      "text/plain": [
       "B.2 Sèks 1    False\n",
       "dtype: bool"
      ]
     },
     "execution_count": 6,
     "metadata": {},
     "output_type": "execute_result"
    }
   ],
   "source": [
    "df[['B.2 Sèks 1']].isnull().any()"
   ]
  },
  {
   "cell_type": "code",
   "execution_count": 7,
   "metadata": {},
   "outputs": [],
   "source": [
    "s = df[['B.2 Sèks 1']].dropna()['B.2 Sèks 1'].apply(lambda x: str(x).split('. '))"
   ]
  },
  {
   "cell_type": "code",
   "execution_count": 8,
   "metadata": {},
   "outputs": [],
   "source": [
    "sex = []\n",
    "for i in s:\n",
    "    sex.append(i[1])"
   ]
  },
  {
   "cell_type": "code",
   "execution_count": 9,
   "metadata": {},
   "outputs": [],
   "source": [
    "df['sex'] = sex"
   ]
  },
  {
   "cell_type": "code",
   "execution_count": 11,
   "metadata": {},
   "outputs": [],
   "source": [
    "#df.sex"
   ]
  },
  {
   "cell_type": "code",
   "execution_count": 10,
   "metadata": {},
   "outputs": [],
   "source": [
    "import numpy as np\n",
    "cols = df.columns"
   ]
  },
  {
   "cell_type": "code",
   "execution_count": 11,
   "metadata": {},
   "outputs": [],
   "source": [
    "cols = np.array(cols)"
   ]
  },
  {
   "cell_type": "code",
   "execution_count": 12,
   "metadata": {},
   "outputs": [
    {
     "name": "stdout",
     "output_type": "stream",
     "text": [
      "Date\n",
      "A.3 MOUN Y'AP POZE KESYON YO.\n",
      "A.4 Non chèf kay la.\n",
      "A.5 Non pwofesè a.\n",
      "Non direktè a\n"
     ]
    }
   ],
   "source": [
    "i = 0\n",
    "for c in cols:\n",
    "    if i < 5:\n",
    "        print(c)\n",
    "        i += 1"
   ]
  },
  {
   "cell_type": "code",
   "execution_count": 13,
   "metadata": {},
   "outputs": [],
   "source": [
    "matches = []\n",
    "for c in cols:\n",
    "        matches.append(re.findall(r'[\\w\\.\\d]+', c))"
   ]
  },
  {
   "cell_type": "code",
   "execution_count": 25,
   "metadata": {},
   "outputs": [],
   "source": [
    "#matches"
   ]
  },
  {
   "cell_type": "code",
   "execution_count": 14,
   "metadata": {},
   "outputs": [],
   "source": [
    "matches1 = []\n",
    "for m in matches:\n",
    "    if re.search(r'\\d', m[0]):\n",
    "        del m[0]\n",
    "        matches1.append(m)\n",
    "    else:\n",
    "        matches1.append(m)\n",
    "        "
   ]
  },
  {
   "cell_type": "code",
   "execution_count": 28,
   "metadata": {},
   "outputs": [],
   "source": [
    "#matches1"
   ]
  },
  {
   "cell_type": "code",
   "execution_count": 15,
   "metadata": {},
   "outputs": [],
   "source": [
    "cols1 = []\n",
    "for m1 in matches1:\n",
    "    cols1.append(' '.join(m1))"
   ]
  },
  {
   "cell_type": "code",
   "execution_count": 2,
   "metadata": {},
   "outputs": [],
   "source": [
    "#cols1"
   ]
  },
  {
   "cell_type": "code",
   "execution_count": 3,
   "metadata": {},
   "outputs": [],
   "source": [
    "#df.head()"
   ]
  },
  {
   "cell_type": "code",
   "execution_count": 16,
   "metadata": {},
   "outputs": [],
   "source": [
    "df.columns = cols1"
   ]
  },
  {
   "cell_type": "code",
   "execution_count": 4,
   "metadata": {},
   "outputs": [],
   "source": [
    "#df.head()"
   ]
  },
  {
   "cell_type": "code",
   "execution_count": 17,
   "metadata": {},
   "outputs": [],
   "source": [
    "sex_homme = []\n",
    "sex_list = list(df['sex'])\n",
    "for g in sex_list:\n",
    "    if g == 'Gason':\n",
    "        sex_homme.append(1)\n",
    "    else:\n",
    "        sex_homme.append(0)"
   ]
  },
  {
   "cell_type": "code",
   "execution_count": 19,
   "metadata": {},
   "outputs": [
    {
     "data": {
      "text/plain": [
       "[0, 1, 0, 0, 0, 0, 0, 0, 0]"
      ]
     },
     "execution_count": 19,
     "metadata": {},
     "output_type": "execute_result"
    }
   ],
   "source": [
    "sex_homme[:9]"
   ]
  },
  {
   "cell_type": "code",
   "execution_count": 18,
   "metadata": {},
   "outputs": [],
   "source": [
    "sex_femme= []\n",
    "sex_list = list(df['sex'])\n",
    "for f in sex_list:\n",
    "    if f == 'Fi':\n",
    "        sex_femme.append(1)\n",
    "    else:\n",
    "        sex_femme.append(0)"
   ]
  },
  {
   "cell_type": "code",
   "execution_count": 19,
   "metadata": {},
   "outputs": [
    {
     "data": {
      "text/plain": [
       "[1, 0, 1, 1, 1, 1, 1, 1, 1]"
      ]
     },
     "execution_count": 19,
     "metadata": {},
     "output_type": "execute_result"
    }
   ],
   "source": [
    "sex_femme[:9]"
   ]
  },
  {
   "cell_type": "code",
   "execution_count": 22,
   "metadata": {},
   "outputs": [
    {
     "data": {
      "text/plain": [
       "778"
      ]
     },
     "execution_count": 22,
     "metadata": {},
     "output_type": "execute_result"
    }
   ],
   "source": [
    "sum(sex_femme) + sum(sex_homme)"
   ]
  },
  {
   "cell_type": "code",
   "execution_count": 23,
   "metadata": {},
   "outputs": [],
   "source": [
    "sex_femme = np.array(sex_femme)\n",
    "sex_homme = np.array(sex_homme)"
   ]
  },
  {
   "cell_type": "code",
   "execution_count": 24,
   "metadata": {},
   "outputs": [],
   "source": [
    "df['sex/male'] = sex_homme\n",
    "df['sex/female'] = sex_femme"
   ]
  },
  {
   "cell_type": "code",
   "execution_count": 25,
   "metadata": {},
   "outputs": [
    {
     "data": {
      "text/html": [
       "<div>\n",
       "<style scoped>\n",
       "    .dataframe tbody tr th:only-of-type {\n",
       "        vertical-align: middle;\n",
       "    }\n",
       "\n",
       "    .dataframe tbody tr th {\n",
       "        vertical-align: top;\n",
       "    }\n",
       "\n",
       "    .dataframe thead th {\n",
       "        text-align: right;\n",
       "    }\n",
       "</style>\n",
       "<table border=\"1\" class=\"dataframe\">\n",
       "  <thead>\n",
       "    <tr style=\"text-align: right;\">\n",
       "      <th></th>\n",
       "      <th>Date</th>\n",
       "      <th>MOUN Y AP POZE KESYON YO.</th>\n",
       "      <th>Non chèf kay la.</th>\n",
       "      <th>Non pwofesè a.</th>\n",
       "      <th>Non direktè a</th>\n",
       "      <th>Zòn kote moun nan rete a.</th>\n",
       "      <th>Nan ki lekòl ou ye</th>\n",
       "      <th>DAT ENTEVYOU A AK LE LI KOUMANSE.</th>\n",
       "      <th>Non papa oubyen manman oubyen Gadyen an. 1</th>\n",
       "      <th>Non papa oubyen manman oubyen Gadyen an. 2</th>\n",
       "      <th>...</th>\n",
       "      <th>Eske paran nou deja pran kèk desizyon sou kesyon ijèn</th>\n",
       "      <th>Ki desizyon paran nou konn pran deja sou kesyon ijèn</th>\n",
       "      <th>Obsèvasyon veye konpòtman moun yo avan epi aprè entèvyou a.</th>\n",
       "      <th>Pran GPS kay oubyen kote wap kolekte done yo. latitude and longitude</th>\n",
       "      <th>Pran GPS kay oubyen kote wap kolekte done yo. altitude</th>\n",
       "      <th>Pran GPS kay oubyen kote wap kolekte done yo. accuracy</th>\n",
       "      <th>Dat ak lè ou fin ranpli kesyonè a.</th>\n",
       "      <th>sex</th>\n",
       "      <th>sex/male</th>\n",
       "      <th>sex/female</th>\n",
       "    </tr>\n",
       "  </thead>\n",
       "  <tbody>\n",
       "    <tr>\n",
       "      <th>1</th>\n",
       "      <td>3/21/2018</td>\n",
       "      <td>1. Elèv</td>\n",
       "      <td>Guicio Pricien</td>\n",
       "      <td>NaN</td>\n",
       "      <td>NaN</td>\n",
       "      <td>Corail</td>\n",
       "      <td>5. Institution Mixte Espoir</td>\n",
       "      <td>00:00.0</td>\n",
       "      <td>Guicio Pricien</td>\n",
       "      <td>NaN</td>\n",
       "      <td>...</td>\n",
       "      <td>1. Wi</td>\n",
       "      <td>Pap jete fatra nan lari</td>\n",
       "      <td>ap panse</td>\n",
       "      <td>NaN</td>\n",
       "      <td>NaN</td>\n",
       "      <td>NaN</td>\n",
       "      <td>18:00.0</td>\n",
       "      <td>Fi</td>\n",
       "      <td>0</td>\n",
       "      <td>1</td>\n",
       "    </tr>\n",
       "    <tr>\n",
       "      <th>2</th>\n",
       "      <td>3/21/2018</td>\n",
       "      <td>1. Elèv</td>\n",
       "      <td>Pierre AUBRY</td>\n",
       "      <td>NaN</td>\n",
       "      <td>NaN</td>\n",
       "      <td>Delmas 65</td>\n",
       "      <td>5. Institution Mixte Espoir</td>\n",
       "      <td>01:00.0</td>\n",
       "      <td>Pierre  Aubry ak Tamara Loiseau Aubry</td>\n",
       "      <td>NaN</td>\n",
       "      <td>...</td>\n",
       "      <td>1. Wi</td>\n",
       "      <td>Pa kite dechè</td>\n",
       "      <td>NaN</td>\n",
       "      <td>NaN</td>\n",
       "      <td>NaN</td>\n",
       "      <td>NaN</td>\n",
       "      <td>23:00.0</td>\n",
       "      <td>Gason</td>\n",
       "      <td>1</td>\n",
       "      <td>0</td>\n",
       "    </tr>\n",
       "    <tr>\n",
       "      <th>3</th>\n",
       "      <td>3/21/2018</td>\n",
       "      <td>1. Elèv</td>\n",
       "      <td>Cherestal simone</td>\n",
       "      <td>NaN</td>\n",
       "      <td>NaN</td>\n",
       "      <td>Delmas 32 rue victoire</td>\n",
       "      <td>5. Institution Mixte Espoir</td>\n",
       "      <td>59:00.0</td>\n",
       "      <td>Cherestal simone</td>\n",
       "      <td>NaN</td>\n",
       "      <td>...</td>\n",
       "      <td>1. Wi</td>\n",
       "      <td>Lave men avanl mange, lè li sot nan toilette, ...</td>\n",
       "      <td>NaN</td>\n",
       "      <td>NaN</td>\n",
       "      <td>NaN</td>\n",
       "      <td>NaN</td>\n",
       "      <td>10:00.0</td>\n",
       "      <td>Fi</td>\n",
       "      <td>0</td>\n",
       "      <td>1</td>\n",
       "    </tr>\n",
       "    <tr>\n",
       "      <th>4</th>\n",
       "      <td>3/21/2018</td>\n",
       "      <td>1. Elèv</td>\n",
       "      <td>Auis Carousse</td>\n",
       "      <td>NaN</td>\n",
       "      <td>NaN</td>\n",
       "      <td>Delmas 32,Rue Jean Baptiste</td>\n",
       "      <td>5. Institution Mixte Espoir</td>\n",
       "      <td>58:00.0</td>\n",
       "      <td>Sophia Gabriel</td>\n",
       "      <td>NaN</td>\n",
       "      <td>...</td>\n",
       "      <td>1. Wi</td>\n",
       "      <td>NaN</td>\n",
       "      <td>NaN</td>\n",
       "      <td>NaN</td>\n",
       "      <td>NaN</td>\n",
       "      <td>NaN</td>\n",
       "      <td>09:00.0</td>\n",
       "      <td>Fi</td>\n",
       "      <td>0</td>\n",
       "      <td>1</td>\n",
       "    </tr>\n",
       "    <tr>\n",
       "      <th>5</th>\n",
       "      <td>3/21/2018</td>\n",
       "      <td>1. Elèv</td>\n",
       "      <td>Pierre Renette</td>\n",
       "      <td>NaN</td>\n",
       "      <td>NaN</td>\n",
       "      <td>Delmas32, Rue Petion#7</td>\n",
       "      <td>5. Institution Mixte Espoir</td>\n",
       "      <td>01:00.0</td>\n",
       "      <td>Pierre Renette</td>\n",
       "      <td>NaN</td>\n",
       "      <td>...</td>\n",
       "      <td>1. Wi</td>\n",
       "      <td>Li toujou fe afel pwop, epi avant li al fe man...</td>\n",
       "      <td>NaN</td>\n",
       "      <td>NaN</td>\n",
       "      <td>NaN</td>\n",
       "      <td>NaN</td>\n",
       "      <td>13:00.0</td>\n",
       "      <td>Fi</td>\n",
       "      <td>0</td>\n",
       "      <td>1</td>\n",
       "    </tr>\n",
       "  </tbody>\n",
       "</table>\n",
       "<p>5 rows × 76 columns</p>\n",
       "</div>"
      ],
      "text/plain": [
       "        Date MOUN Y AP POZE KESYON YO.  Non chèf kay la. Non pwofesè a.  \\\n",
       "1  3/21/2018                   1. Elèv    Guicio Pricien            NaN   \n",
       "2  3/21/2018                   1. Elèv      Pierre AUBRY            NaN   \n",
       "3  3/21/2018                   1. Elèv  Cherestal simone            NaN   \n",
       "4  3/21/2018                   1. Elèv     Auis Carousse            NaN   \n",
       "5  3/21/2018                   1. Elèv    Pierre Renette            NaN   \n",
       "\n",
       "  Non direktè a    Zòn kote moun nan rete a.           Nan ki lekòl ou ye  \\\n",
       "1           NaN                       Corail  5. Institution Mixte Espoir   \n",
       "2           NaN                    Delmas 65  5. Institution Mixte Espoir   \n",
       "3           NaN       Delmas 32 rue victoire  5. Institution Mixte Espoir   \n",
       "4           NaN  Delmas 32,Rue Jean Baptiste  5. Institution Mixte Espoir   \n",
       "5           NaN       Delmas32, Rue Petion#7  5. Institution Mixte Espoir   \n",
       "\n",
       "  DAT ENTEVYOU A AK LE LI KOUMANSE.  \\\n",
       "1                           00:00.0   \n",
       "2                           01:00.0   \n",
       "3                           59:00.0   \n",
       "4                           58:00.0   \n",
       "5                           01:00.0   \n",
       "\n",
       "  Non papa oubyen manman oubyen Gadyen an. 1  \\\n",
       "1                             Guicio Pricien   \n",
       "2      Pierre  Aubry ak Tamara Loiseau Aubry   \n",
       "3                           Cherestal simone   \n",
       "4                             Sophia Gabriel   \n",
       "5                             Pierre Renette   \n",
       "\n",
       "  Non papa oubyen manman oubyen Gadyen an. 2    ...      \\\n",
       "1                                        NaN    ...       \n",
       "2                                        NaN    ...       \n",
       "3                                        NaN    ...       \n",
       "4                                        NaN    ...       \n",
       "5                                        NaN    ...       \n",
       "\n",
       "  Eske paran nou deja pran kèk desizyon sou kesyon ijèn  \\\n",
       "1                                              1. Wi      \n",
       "2                                              1. Wi      \n",
       "3                                              1. Wi      \n",
       "4                                              1. Wi      \n",
       "5                                              1. Wi      \n",
       "\n",
       "  Ki desizyon paran nou konn pran deja sou kesyon ijèn  \\\n",
       "1                            Pap jete fatra nan lari     \n",
       "2                                      Pa kite dechè     \n",
       "3  Lave men avanl mange, lè li sot nan toilette, ...     \n",
       "4                                                NaN     \n",
       "5  Li toujou fe afel pwop, epi avant li al fe man...     \n",
       "\n",
       "  Obsèvasyon veye konpòtman moun yo avan epi aprè entèvyou a.  \\\n",
       "1                                           ap panse            \n",
       "2                                                NaN            \n",
       "3                                                NaN            \n",
       "4                                                NaN            \n",
       "5                                                NaN            \n",
       "\n",
       "  Pran GPS kay oubyen kote wap kolekte done yo. latitude and longitude  \\\n",
       "1                                                NaN                     \n",
       "2                                                NaN                     \n",
       "3                                                NaN                     \n",
       "4                                                NaN                     \n",
       "5                                                NaN                     \n",
       "\n",
       "  Pran GPS kay oubyen kote wap kolekte done yo. altitude  \\\n",
       "1                                                NaN       \n",
       "2                                                NaN       \n",
       "3                                                NaN       \n",
       "4                                                NaN       \n",
       "5                                                NaN       \n",
       "\n",
       "  Pran GPS kay oubyen kote wap kolekte done yo. accuracy  \\\n",
       "1                                                NaN       \n",
       "2                                                NaN       \n",
       "3                                                NaN       \n",
       "4                                                NaN       \n",
       "5                                                NaN       \n",
       "\n",
       "  Dat ak lè ou fin ranpli kesyonè a.    sex sex/male sex/female  \n",
       "1                            18:00.0     Fi        0          1  \n",
       "2                            23:00.0  Gason        1          0  \n",
       "3                            10:00.0     Fi        0          1  \n",
       "4                            09:00.0     Fi        0          1  \n",
       "5                            13:00.0     Fi        0          1  \n",
       "\n",
       "[5 rows x 76 columns]"
      ]
     },
     "execution_count": 25,
     "metadata": {},
     "output_type": "execute_result"
    }
   ],
   "source": [
    "df.head()"
   ]
  },
  {
   "cell_type": "code",
   "execution_count": 26,
   "metadata": {},
   "outputs": [],
   "source": [
    "#df['Relasyon ak moun kap dirije kay la/Papa']\n",
    "relation_ship_with_chief_hh_papa = []\n",
    "for rel in np.array(df['Relasyon ak moun kap dirije kay la 1']):\n",
    "    if 'Papa' in str(rel):\n",
    "        relation_ship_with_chief_hh_papa.append(1)\n",
    "    else:\n",
    "        relation_ship_with_chief_hh_papa.append(0)\n",
    "df['Relasyon ak moun kap dirije kay la/Papa'] = relation_ship_with_chief_hh_papa"
   ]
  },
  {
   "cell_type": "code",
   "execution_count": 27,
   "metadata": {},
   "outputs": [
    {
     "data": {
      "text/plain": [
       "[1, 1, 0, 1, 0, 1, 0, 0, 0]"
      ]
     },
     "execution_count": 27,
     "metadata": {},
     "output_type": "execute_result"
    }
   ],
   "source": [
    "relation_ship_with_chief_hh_papa[:9]"
   ]
  },
  {
   "cell_type": "code",
   "execution_count": 28,
   "metadata": {},
   "outputs": [],
   "source": [
    "relation_ship_with_chief_hh_manman = []\n",
    "for rel in np.array(df['Relasyon ak moun kap dirije kay la 1']):\n",
    "    if 'Manman' in str(rel):\n",
    "        relation_ship_with_chief_hh_manman.append(1)\n",
    "    else:\n",
    "        relation_ship_with_chief_hh_manman.append(0)\n",
    "df['Relasyon ak moun kap dirije kay la/Manman'] = relation_ship_with_chief_hh_manman"
   ]
  },
  {
   "cell_type": "code",
   "execution_count": 29,
   "metadata": {},
   "outputs": [
    {
     "data": {
      "text/plain": [
       "[0, 0, 1, 0, 1, 0, 0, 0, 0]"
      ]
     },
     "execution_count": 29,
     "metadata": {},
     "output_type": "execute_result"
    }
   ],
   "source": [
    "relation_ship_with_chief_hh_manman[0:9]"
   ]
  },
  {
   "cell_type": "code",
   "execution_count": 30,
   "metadata": {},
   "outputs": [],
   "source": [
    "relation_ship_with_chief_hh_se = []\n",
    "for rel in np.array(df['Relasyon ak moun kap dirije kay la 1']):\n",
    "    if 'Sè' in str(rel):\n",
    "        relation_ship_with_chief_hh_se.append(1)\n",
    "    else:\n",
    "        relation_ship_with_chief_hh_se.append(0)\n",
    "df['Relasyon ak moun kap dirije kay la/Sè'] = relation_ship_with_chief_hh_se"
   ]
  },
  {
   "cell_type": "code",
   "execution_count": 31,
   "metadata": {},
   "outputs": [
    {
     "data": {
      "text/plain": [
       "778"
      ]
     },
     "execution_count": 31,
     "metadata": {},
     "output_type": "execute_result"
    }
   ],
   "source": [
    "len(relation_ship_with_chief_hh_se)"
   ]
  },
  {
   "cell_type": "code",
   "execution_count": 32,
   "metadata": {},
   "outputs": [
    {
     "data": {
      "text/plain": [
       "27"
      ]
     },
     "execution_count": 32,
     "metadata": {},
     "output_type": "execute_result"
    }
   ],
   "source": [
    "sum(relation_ship_with_chief_hh_se)"
   ]
  },
  {
   "cell_type": "code",
   "execution_count": 33,
   "metadata": {},
   "outputs": [
    {
     "data": {
      "text/plain": [
       "[0, 0, 0, 0, 0, 0, 0, 0, 0, 0, 0, 0, 0, 0, 0, 0, 0, 0, 0, 0]"
      ]
     },
     "execution_count": 33,
     "metadata": {},
     "output_type": "execute_result"
    }
   ],
   "source": [
    "relation_ship_with_chief_hh_se[:20]"
   ]
  },
  {
   "cell_type": "code",
   "execution_count": 34,
   "metadata": {},
   "outputs": [],
   "source": [
    "relation_ship_with_chief_hh_mari_ou_madanm = []\n",
    "for rel in np.array(df['Relasyon ak moun kap dirije kay la 1']):\n",
    "    if 'Mari oswa Madanm' in str(rel):\n",
    "        relation_ship_with_chief_hh_mari_ou_madanm.append(1)\n",
    "    else:\n",
    "        relation_ship_with_chief_hh_mari_ou_madanm.append(0)\n",
    "df['Relasyon ak moun kap dirije kay la/Mari oswa Madanm'] = relation_ship_with_chief_hh_mari_ou_madanm"
   ]
  },
  {
   "cell_type": "code",
   "execution_count": 35,
   "metadata": {},
   "outputs": [
    {
     "data": {
      "text/plain": [
       "2"
      ]
     },
     "execution_count": 35,
     "metadata": {},
     "output_type": "execute_result"
    }
   ],
   "source": [
    "sum(relation_ship_with_chief_hh_mari_ou_madanm)"
   ]
  },
  {
   "cell_type": "code",
   "execution_count": 36,
   "metadata": {},
   "outputs": [],
   "source": [
    "relation_ship_with_chief_hh_pitit_gason_ou_fi = []\n",
    "for rel in np.array(df['Relasyon ak moun kap dirije kay la 1']):\n",
    "    if 'Pitit gason oswa Pitit fi' in str(rel):\n",
    "        relation_ship_with_chief_hh_pitit_gason_ou_fi.append(1)\n",
    "    else:\n",
    "        relation_ship_with_chief_hh_pitit_gason_ou_fi.append(0)\n",
    "df['Relasyon ak moun kap dirije kay la/Pitit gason oswa Pitit fi'] = relation_ship_with_chief_hh_pitit_gason_ou_fi"
   ]
  },
  {
   "cell_type": "code",
   "execution_count": 37,
   "metadata": {},
   "outputs": [
    {
     "data": {
      "text/plain": [
       "42"
      ]
     },
     "execution_count": 37,
     "metadata": {},
     "output_type": "execute_result"
    }
   ],
   "source": [
    "sum(relation_ship_with_chief_hh_pitit_gason_ou_fi)"
   ]
  },
  {
   "cell_type": "code",
   "execution_count": 38,
   "metadata": {},
   "outputs": [],
   "source": [
    "relation_ship_with_chief_hh_kouzen_ou_kouzin = []\n",
    "for rel in np.array(df['Relasyon ak moun kap dirije kay la 1']):\n",
    "    if 'Kouzen / Kouzin' in str(rel):\n",
    "        relation_ship_with_chief_hh_kouzen_ou_kouzin.append(1)\n",
    "    else:\n",
    "        relation_ship_with_chief_hh_kouzen_ou_kouzin.append(0)\n",
    "df['Relasyon ak moun kap dirije kay la/Kouzen / Kouzin'] = relation_ship_with_chief_hh_kouzen_ou_kouzin"
   ]
  },
  {
   "cell_type": "code",
   "execution_count": 39,
   "metadata": {},
   "outputs": [
    {
     "data": {
      "text/plain": [
       "7"
      ]
     },
     "execution_count": 39,
     "metadata": {},
     "output_type": "execute_result"
    }
   ],
   "source": [
    "sum(relation_ship_with_chief_hh_kouzen_ou_kouzin)"
   ]
  },
  {
   "cell_type": "code",
   "execution_count": 40,
   "metadata": {},
   "outputs": [],
   "source": [
    "relation_ship_with_chief_hh_gadyen = []\n",
    "for rel in np.array(df['Relasyon ak moun kap dirije kay la 1']):\n",
    "    if 'Gadyen' in str(rel):\n",
    "        relation_ship_with_chief_hh_gadyen.append(1)\n",
    "    else:\n",
    "        relation_ship_with_chief_hh_gadyen.append(0)\n",
    "df['Relasyon ak moun kap dirije kay la/Gadyen'] = relation_ship_with_chief_hh_gadyen"
   ]
  },
  {
   "cell_type": "code",
   "execution_count": 41,
   "metadata": {},
   "outputs": [
    {
     "data": {
      "text/plain": [
       "34"
      ]
     },
     "execution_count": 41,
     "metadata": {},
     "output_type": "execute_result"
    }
   ],
   "source": [
    "sum(relation_ship_with_chief_hh_gadyen)"
   ]
  },
  {
   "cell_type": "code",
   "execution_count": 42,
   "metadata": {},
   "outputs": [],
   "source": [
    "relation_ship_with_chief_hh_lot = []\n",
    "for rel in np.array(df['Relasyon ak moun kap dirije kay la 1']):\n",
    "    if 'Lòt' in str(rel):\n",
    "        relation_ship_with_chief_hh_lot.append(1)\n",
    "    else:\n",
    "        relation_ship_with_chief_hh_lot.append(0)\n",
    "df['Relasyon ak moun kap dirije kay la/Lòt'] = relation_ship_with_chief_hh_lot"
   ]
  },
  {
   "cell_type": "code",
   "execution_count": 43,
   "metadata": {},
   "outputs": [
    {
     "data": {
      "text/plain": [
       "58"
      ]
     },
     "execution_count": 43,
     "metadata": {},
     "output_type": "execute_result"
    }
   ],
   "source": [
    "sum(relation_ship_with_chief_hh_lot)"
   ]
  },
  {
   "cell_type": "code",
   "execution_count": 44,
   "metadata": {},
   "outputs": [
    {
     "data": {
      "text/html": [
       "<div>\n",
       "<style scoped>\n",
       "    .dataframe tbody tr th:only-of-type {\n",
       "        vertical-align: middle;\n",
       "    }\n",
       "\n",
       "    .dataframe tbody tr th {\n",
       "        vertical-align: top;\n",
       "    }\n",
       "\n",
       "    .dataframe thead th {\n",
       "        text-align: right;\n",
       "    }\n",
       "</style>\n",
       "<table border=\"1\" class=\"dataframe\">\n",
       "  <thead>\n",
       "    <tr style=\"text-align: right;\">\n",
       "      <th></th>\n",
       "      <th>Date</th>\n",
       "      <th>MOUN Y AP POZE KESYON YO.</th>\n",
       "      <th>Non chèf kay la.</th>\n",
       "      <th>Non pwofesè a.</th>\n",
       "      <th>Non direktè a</th>\n",
       "      <th>Zòn kote moun nan rete a.</th>\n",
       "      <th>Nan ki lekòl ou ye</th>\n",
       "      <th>DAT ENTEVYOU A AK LE LI KOUMANSE.</th>\n",
       "      <th>Non papa oubyen manman oubyen Gadyen an. 1</th>\n",
       "      <th>Non papa oubyen manman oubyen Gadyen an. 2</th>\n",
       "      <th>...</th>\n",
       "      <th>sex/male</th>\n",
       "      <th>sex/female</th>\n",
       "      <th>Relasyon ak moun kap dirije kay la/Papa</th>\n",
       "      <th>Relasyon ak moun kap dirije kay la/Manman</th>\n",
       "      <th>Relasyon ak moun kap dirije kay la/Sè</th>\n",
       "      <th>Relasyon ak moun kap dirije kay la/Mari oswa Madanm</th>\n",
       "      <th>Relasyon ak moun kap dirije kay la/Pitit gason oswa Pitit fi</th>\n",
       "      <th>Relasyon ak moun kap dirije kay la/Kouzen / Kouzin</th>\n",
       "      <th>Relasyon ak moun kap dirije kay la/Gadyen</th>\n",
       "      <th>Relasyon ak moun kap dirije kay la/Lòt</th>\n",
       "    </tr>\n",
       "  </thead>\n",
       "  <tbody>\n",
       "    <tr>\n",
       "      <th>1</th>\n",
       "      <td>3/21/2018</td>\n",
       "      <td>1. Elèv</td>\n",
       "      <td>Guicio Pricien</td>\n",
       "      <td>NaN</td>\n",
       "      <td>NaN</td>\n",
       "      <td>Corail</td>\n",
       "      <td>5. Institution Mixte Espoir</td>\n",
       "      <td>00:00.0</td>\n",
       "      <td>Guicio Pricien</td>\n",
       "      <td>NaN</td>\n",
       "      <td>...</td>\n",
       "      <td>0</td>\n",
       "      <td>1</td>\n",
       "      <td>1</td>\n",
       "      <td>0</td>\n",
       "      <td>0</td>\n",
       "      <td>0</td>\n",
       "      <td>0</td>\n",
       "      <td>0</td>\n",
       "      <td>0</td>\n",
       "      <td>0</td>\n",
       "    </tr>\n",
       "    <tr>\n",
       "      <th>2</th>\n",
       "      <td>3/21/2018</td>\n",
       "      <td>1. Elèv</td>\n",
       "      <td>Pierre AUBRY</td>\n",
       "      <td>NaN</td>\n",
       "      <td>NaN</td>\n",
       "      <td>Delmas 65</td>\n",
       "      <td>5. Institution Mixte Espoir</td>\n",
       "      <td>01:00.0</td>\n",
       "      <td>Pierre  Aubry ak Tamara Loiseau Aubry</td>\n",
       "      <td>NaN</td>\n",
       "      <td>...</td>\n",
       "      <td>1</td>\n",
       "      <td>0</td>\n",
       "      <td>1</td>\n",
       "      <td>0</td>\n",
       "      <td>0</td>\n",
       "      <td>0</td>\n",
       "      <td>0</td>\n",
       "      <td>0</td>\n",
       "      <td>0</td>\n",
       "      <td>0</td>\n",
       "    </tr>\n",
       "    <tr>\n",
       "      <th>3</th>\n",
       "      <td>3/21/2018</td>\n",
       "      <td>1. Elèv</td>\n",
       "      <td>Cherestal simone</td>\n",
       "      <td>NaN</td>\n",
       "      <td>NaN</td>\n",
       "      <td>Delmas 32 rue victoire</td>\n",
       "      <td>5. Institution Mixte Espoir</td>\n",
       "      <td>59:00.0</td>\n",
       "      <td>Cherestal simone</td>\n",
       "      <td>NaN</td>\n",
       "      <td>...</td>\n",
       "      <td>0</td>\n",
       "      <td>1</td>\n",
       "      <td>0</td>\n",
       "      <td>1</td>\n",
       "      <td>0</td>\n",
       "      <td>0</td>\n",
       "      <td>0</td>\n",
       "      <td>0</td>\n",
       "      <td>0</td>\n",
       "      <td>0</td>\n",
       "    </tr>\n",
       "    <tr>\n",
       "      <th>4</th>\n",
       "      <td>3/21/2018</td>\n",
       "      <td>1. Elèv</td>\n",
       "      <td>Auis Carousse</td>\n",
       "      <td>NaN</td>\n",
       "      <td>NaN</td>\n",
       "      <td>Delmas 32,Rue Jean Baptiste</td>\n",
       "      <td>5. Institution Mixte Espoir</td>\n",
       "      <td>58:00.0</td>\n",
       "      <td>Sophia Gabriel</td>\n",
       "      <td>NaN</td>\n",
       "      <td>...</td>\n",
       "      <td>0</td>\n",
       "      <td>1</td>\n",
       "      <td>1</td>\n",
       "      <td>0</td>\n",
       "      <td>0</td>\n",
       "      <td>0</td>\n",
       "      <td>0</td>\n",
       "      <td>0</td>\n",
       "      <td>0</td>\n",
       "      <td>0</td>\n",
       "    </tr>\n",
       "    <tr>\n",
       "      <th>5</th>\n",
       "      <td>3/21/2018</td>\n",
       "      <td>1. Elèv</td>\n",
       "      <td>Pierre Renette</td>\n",
       "      <td>NaN</td>\n",
       "      <td>NaN</td>\n",
       "      <td>Delmas32, Rue Petion#7</td>\n",
       "      <td>5. Institution Mixte Espoir</td>\n",
       "      <td>01:00.0</td>\n",
       "      <td>Pierre Renette</td>\n",
       "      <td>NaN</td>\n",
       "      <td>...</td>\n",
       "      <td>0</td>\n",
       "      <td>1</td>\n",
       "      <td>0</td>\n",
       "      <td>1</td>\n",
       "      <td>0</td>\n",
       "      <td>0</td>\n",
       "      <td>0</td>\n",
       "      <td>0</td>\n",
       "      <td>0</td>\n",
       "      <td>0</td>\n",
       "    </tr>\n",
       "  </tbody>\n",
       "</table>\n",
       "<p>5 rows × 84 columns</p>\n",
       "</div>"
      ],
      "text/plain": [
       "        Date MOUN Y AP POZE KESYON YO.  Non chèf kay la. Non pwofesè a.  \\\n",
       "1  3/21/2018                   1. Elèv    Guicio Pricien            NaN   \n",
       "2  3/21/2018                   1. Elèv      Pierre AUBRY            NaN   \n",
       "3  3/21/2018                   1. Elèv  Cherestal simone            NaN   \n",
       "4  3/21/2018                   1. Elèv     Auis Carousse            NaN   \n",
       "5  3/21/2018                   1. Elèv    Pierre Renette            NaN   \n",
       "\n",
       "  Non direktè a    Zòn kote moun nan rete a.           Nan ki lekòl ou ye  \\\n",
       "1           NaN                       Corail  5. Institution Mixte Espoir   \n",
       "2           NaN                    Delmas 65  5. Institution Mixte Espoir   \n",
       "3           NaN       Delmas 32 rue victoire  5. Institution Mixte Espoir   \n",
       "4           NaN  Delmas 32,Rue Jean Baptiste  5. Institution Mixte Espoir   \n",
       "5           NaN       Delmas32, Rue Petion#7  5. Institution Mixte Espoir   \n",
       "\n",
       "  DAT ENTEVYOU A AK LE LI KOUMANSE.  \\\n",
       "1                           00:00.0   \n",
       "2                           01:00.0   \n",
       "3                           59:00.0   \n",
       "4                           58:00.0   \n",
       "5                           01:00.0   \n",
       "\n",
       "  Non papa oubyen manman oubyen Gadyen an. 1  \\\n",
       "1                             Guicio Pricien   \n",
       "2      Pierre  Aubry ak Tamara Loiseau Aubry   \n",
       "3                           Cherestal simone   \n",
       "4                             Sophia Gabriel   \n",
       "5                             Pierre Renette   \n",
       "\n",
       "  Non papa oubyen manman oubyen Gadyen an. 2  \\\n",
       "1                                        NaN   \n",
       "2                                        NaN   \n",
       "3                                        NaN   \n",
       "4                                        NaN   \n",
       "5                                        NaN   \n",
       "\n",
       "                   ...                   sex/male sex/female  \\\n",
       "1                  ...                          0          1   \n",
       "2                  ...                          1          0   \n",
       "3                  ...                          0          1   \n",
       "4                  ...                          0          1   \n",
       "5                  ...                          0          1   \n",
       "\n",
       "  Relasyon ak moun kap dirije kay la/Papa  \\\n",
       "1                                       1   \n",
       "2                                       1   \n",
       "3                                       0   \n",
       "4                                       1   \n",
       "5                                       0   \n",
       "\n",
       "  Relasyon ak moun kap dirije kay la/Manman  \\\n",
       "1                                         0   \n",
       "2                                         0   \n",
       "3                                         1   \n",
       "4                                         0   \n",
       "5                                         1   \n",
       "\n",
       "  Relasyon ak moun kap dirije kay la/Sè  \\\n",
       "1                                     0   \n",
       "2                                     0   \n",
       "3                                     0   \n",
       "4                                     0   \n",
       "5                                     0   \n",
       "\n",
       "  Relasyon ak moun kap dirije kay la/Mari oswa Madanm  \\\n",
       "1                                                  0    \n",
       "2                                                  0    \n",
       "3                                                  0    \n",
       "4                                                  0    \n",
       "5                                                  0    \n",
       "\n",
       "  Relasyon ak moun kap dirije kay la/Pitit gason oswa Pitit fi  \\\n",
       "1                                                  0             \n",
       "2                                                  0             \n",
       "3                                                  0             \n",
       "4                                                  0             \n",
       "5                                                  0             \n",
       "\n",
       "  Relasyon ak moun kap dirije kay la/Kouzen / Kouzin  \\\n",
       "1                                                  0   \n",
       "2                                                  0   \n",
       "3                                                  0   \n",
       "4                                                  0   \n",
       "5                                                  0   \n",
       "\n",
       "  Relasyon ak moun kap dirije kay la/Gadyen  \\\n",
       "1                                         0   \n",
       "2                                         0   \n",
       "3                                         0   \n",
       "4                                         0   \n",
       "5                                         0   \n",
       "\n",
       "  Relasyon ak moun kap dirije kay la/Lòt  \n",
       "1                                      0  \n",
       "2                                      0  \n",
       "3                                      0  \n",
       "4                                      0  \n",
       "5                                      0  \n",
       "\n",
       "[5 rows x 84 columns]"
      ]
     },
     "execution_count": 44,
     "metadata": {},
     "output_type": "execute_result"
    }
   ],
   "source": [
    "df.head()"
   ]
  },
  {
   "cell_type": "code",
   "execution_count": 98,
   "metadata": {},
   "outputs": [],
   "source": [
    "#df = df.drop('Relasyon ak moun kap dirije kay la/Kouzen / Lòt', axis=1)"
   ]
  },
  {
   "cell_type": "code",
   "execution_count": 46,
   "metadata": {},
   "outputs": [
    {
     "data": {
      "text/html": [
       "<div>\n",
       "<style scoped>\n",
       "    .dataframe tbody tr th:only-of-type {\n",
       "        vertical-align: middle;\n",
       "    }\n",
       "\n",
       "    .dataframe tbody tr th {\n",
       "        vertical-align: top;\n",
       "    }\n",
       "\n",
       "    .dataframe thead th {\n",
       "        text-align: right;\n",
       "    }\n",
       "</style>\n",
       "<table border=\"1\" class=\"dataframe\">\n",
       "  <thead>\n",
       "    <tr style=\"text-align: right;\">\n",
       "      <th></th>\n",
       "      <th>Date</th>\n",
       "      <th>MOUN Y AP POZE KESYON YO.</th>\n",
       "      <th>Non chèf kay la.</th>\n",
       "      <th>Non pwofesè a.</th>\n",
       "      <th>Non direktè a</th>\n",
       "      <th>Zòn kote moun nan rete a.</th>\n",
       "      <th>Nan ki lekòl ou ye</th>\n",
       "      <th>DAT ENTEVYOU A AK LE LI KOUMANSE.</th>\n",
       "      <th>Non papa oubyen manman oubyen Gadyen an. 1</th>\n",
       "      <th>Non papa oubyen manman oubyen Gadyen an. 2</th>\n",
       "      <th>...</th>\n",
       "      <th>sex/male</th>\n",
       "      <th>sex/female</th>\n",
       "      <th>Relasyon ak moun kap dirije kay la/Papa</th>\n",
       "      <th>Relasyon ak moun kap dirije kay la/Manman</th>\n",
       "      <th>Relasyon ak moun kap dirije kay la/Sè</th>\n",
       "      <th>Relasyon ak moun kap dirije kay la/Mari oswa Madanm</th>\n",
       "      <th>Relasyon ak moun kap dirije kay la/Pitit gason oswa Pitit fi</th>\n",
       "      <th>Relasyon ak moun kap dirije kay la/Kouzen / Kouzin</th>\n",
       "      <th>Relasyon ak moun kap dirije kay la/Gadyen</th>\n",
       "      <th>Relasyon ak moun kap dirije kay la/Lòt</th>\n",
       "    </tr>\n",
       "  </thead>\n",
       "  <tbody>\n",
       "    <tr>\n",
       "      <th>1</th>\n",
       "      <td>3/21/2018</td>\n",
       "      <td>1. Elèv</td>\n",
       "      <td>Guicio Pricien</td>\n",
       "      <td>NaN</td>\n",
       "      <td>NaN</td>\n",
       "      <td>Corail</td>\n",
       "      <td>5. Institution Mixte Espoir</td>\n",
       "      <td>00:00.0</td>\n",
       "      <td>Guicio Pricien</td>\n",
       "      <td>NaN</td>\n",
       "      <td>...</td>\n",
       "      <td>0</td>\n",
       "      <td>1</td>\n",
       "      <td>1</td>\n",
       "      <td>0</td>\n",
       "      <td>0</td>\n",
       "      <td>0</td>\n",
       "      <td>0</td>\n",
       "      <td>0</td>\n",
       "      <td>0</td>\n",
       "      <td>0</td>\n",
       "    </tr>\n",
       "    <tr>\n",
       "      <th>2</th>\n",
       "      <td>3/21/2018</td>\n",
       "      <td>1. Elèv</td>\n",
       "      <td>Pierre AUBRY</td>\n",
       "      <td>NaN</td>\n",
       "      <td>NaN</td>\n",
       "      <td>Delmas 65</td>\n",
       "      <td>5. Institution Mixte Espoir</td>\n",
       "      <td>01:00.0</td>\n",
       "      <td>Pierre  Aubry ak Tamara Loiseau Aubry</td>\n",
       "      <td>NaN</td>\n",
       "      <td>...</td>\n",
       "      <td>1</td>\n",
       "      <td>0</td>\n",
       "      <td>1</td>\n",
       "      <td>0</td>\n",
       "      <td>0</td>\n",
       "      <td>0</td>\n",
       "      <td>0</td>\n",
       "      <td>0</td>\n",
       "      <td>0</td>\n",
       "      <td>0</td>\n",
       "    </tr>\n",
       "    <tr>\n",
       "      <th>3</th>\n",
       "      <td>3/21/2018</td>\n",
       "      <td>1. Elèv</td>\n",
       "      <td>Cherestal simone</td>\n",
       "      <td>NaN</td>\n",
       "      <td>NaN</td>\n",
       "      <td>Delmas 32 rue victoire</td>\n",
       "      <td>5. Institution Mixte Espoir</td>\n",
       "      <td>59:00.0</td>\n",
       "      <td>Cherestal simone</td>\n",
       "      <td>NaN</td>\n",
       "      <td>...</td>\n",
       "      <td>0</td>\n",
       "      <td>1</td>\n",
       "      <td>0</td>\n",
       "      <td>1</td>\n",
       "      <td>0</td>\n",
       "      <td>0</td>\n",
       "      <td>0</td>\n",
       "      <td>0</td>\n",
       "      <td>0</td>\n",
       "      <td>0</td>\n",
       "    </tr>\n",
       "    <tr>\n",
       "      <th>4</th>\n",
       "      <td>3/21/2018</td>\n",
       "      <td>1. Elèv</td>\n",
       "      <td>Auis Carousse</td>\n",
       "      <td>NaN</td>\n",
       "      <td>NaN</td>\n",
       "      <td>Delmas 32,Rue Jean Baptiste</td>\n",
       "      <td>5. Institution Mixte Espoir</td>\n",
       "      <td>58:00.0</td>\n",
       "      <td>Sophia Gabriel</td>\n",
       "      <td>NaN</td>\n",
       "      <td>...</td>\n",
       "      <td>0</td>\n",
       "      <td>1</td>\n",
       "      <td>1</td>\n",
       "      <td>0</td>\n",
       "      <td>0</td>\n",
       "      <td>0</td>\n",
       "      <td>0</td>\n",
       "      <td>0</td>\n",
       "      <td>0</td>\n",
       "      <td>0</td>\n",
       "    </tr>\n",
       "    <tr>\n",
       "      <th>5</th>\n",
       "      <td>3/21/2018</td>\n",
       "      <td>1. Elèv</td>\n",
       "      <td>Pierre Renette</td>\n",
       "      <td>NaN</td>\n",
       "      <td>NaN</td>\n",
       "      <td>Delmas32, Rue Petion#7</td>\n",
       "      <td>5. Institution Mixte Espoir</td>\n",
       "      <td>01:00.0</td>\n",
       "      <td>Pierre Renette</td>\n",
       "      <td>NaN</td>\n",
       "      <td>...</td>\n",
       "      <td>0</td>\n",
       "      <td>1</td>\n",
       "      <td>0</td>\n",
       "      <td>1</td>\n",
       "      <td>0</td>\n",
       "      <td>0</td>\n",
       "      <td>0</td>\n",
       "      <td>0</td>\n",
       "      <td>0</td>\n",
       "      <td>0</td>\n",
       "    </tr>\n",
       "  </tbody>\n",
       "</table>\n",
       "<p>5 rows × 84 columns</p>\n",
       "</div>"
      ],
      "text/plain": [
       "        Date MOUN Y AP POZE KESYON YO.  Non chèf kay la. Non pwofesè a.  \\\n",
       "1  3/21/2018                   1. Elèv    Guicio Pricien            NaN   \n",
       "2  3/21/2018                   1. Elèv      Pierre AUBRY            NaN   \n",
       "3  3/21/2018                   1. Elèv  Cherestal simone            NaN   \n",
       "4  3/21/2018                   1. Elèv     Auis Carousse            NaN   \n",
       "5  3/21/2018                   1. Elèv    Pierre Renette            NaN   \n",
       "\n",
       "  Non direktè a    Zòn kote moun nan rete a.           Nan ki lekòl ou ye  \\\n",
       "1           NaN                       Corail  5. Institution Mixte Espoir   \n",
       "2           NaN                    Delmas 65  5. Institution Mixte Espoir   \n",
       "3           NaN       Delmas 32 rue victoire  5. Institution Mixte Espoir   \n",
       "4           NaN  Delmas 32,Rue Jean Baptiste  5. Institution Mixte Espoir   \n",
       "5           NaN       Delmas32, Rue Petion#7  5. Institution Mixte Espoir   \n",
       "\n",
       "  DAT ENTEVYOU A AK LE LI KOUMANSE.  \\\n",
       "1                           00:00.0   \n",
       "2                           01:00.0   \n",
       "3                           59:00.0   \n",
       "4                           58:00.0   \n",
       "5                           01:00.0   \n",
       "\n",
       "  Non papa oubyen manman oubyen Gadyen an. 1  \\\n",
       "1                             Guicio Pricien   \n",
       "2      Pierre  Aubry ak Tamara Loiseau Aubry   \n",
       "3                           Cherestal simone   \n",
       "4                             Sophia Gabriel   \n",
       "5                             Pierre Renette   \n",
       "\n",
       "  Non papa oubyen manman oubyen Gadyen an. 2  \\\n",
       "1                                        NaN   \n",
       "2                                        NaN   \n",
       "3                                        NaN   \n",
       "4                                        NaN   \n",
       "5                                        NaN   \n",
       "\n",
       "                   ...                   sex/male sex/female  \\\n",
       "1                  ...                          0          1   \n",
       "2                  ...                          1          0   \n",
       "3                  ...                          0          1   \n",
       "4                  ...                          0          1   \n",
       "5                  ...                          0          1   \n",
       "\n",
       "  Relasyon ak moun kap dirije kay la/Papa  \\\n",
       "1                                       1   \n",
       "2                                       1   \n",
       "3                                       0   \n",
       "4                                       1   \n",
       "5                                       0   \n",
       "\n",
       "  Relasyon ak moun kap dirije kay la/Manman  \\\n",
       "1                                         0   \n",
       "2                                         0   \n",
       "3                                         1   \n",
       "4                                         0   \n",
       "5                                         1   \n",
       "\n",
       "  Relasyon ak moun kap dirije kay la/Sè  \\\n",
       "1                                     0   \n",
       "2                                     0   \n",
       "3                                     0   \n",
       "4                                     0   \n",
       "5                                     0   \n",
       "\n",
       "  Relasyon ak moun kap dirije kay la/Mari oswa Madanm  \\\n",
       "1                                                  0    \n",
       "2                                                  0    \n",
       "3                                                  0    \n",
       "4                                                  0    \n",
       "5                                                  0    \n",
       "\n",
       "  Relasyon ak moun kap dirije kay la/Pitit gason oswa Pitit fi  \\\n",
       "1                                                  0             \n",
       "2                                                  0             \n",
       "3                                                  0             \n",
       "4                                                  0             \n",
       "5                                                  0             \n",
       "\n",
       "  Relasyon ak moun kap dirije kay la/Kouzen / Kouzin  \\\n",
       "1                                                  0   \n",
       "2                                                  0   \n",
       "3                                                  0   \n",
       "4                                                  0   \n",
       "5                                                  0   \n",
       "\n",
       "  Relasyon ak moun kap dirije kay la/Gadyen  \\\n",
       "1                                         0   \n",
       "2                                         0   \n",
       "3                                         0   \n",
       "4                                         0   \n",
       "5                                         0   \n",
       "\n",
       "  Relasyon ak moun kap dirije kay la/Lòt  \n",
       "1                                      0  \n",
       "2                                      0  \n",
       "3                                      0  \n",
       "4                                      0  \n",
       "5                                      0  \n",
       "\n",
       "[5 rows x 84 columns]"
      ]
     },
     "execution_count": 46,
     "metadata": {},
     "output_type": "execute_result"
    }
   ],
   "source": [
    "df.head()"
   ]
  },
  {
   "cell_type": "code",
   "execution_count": 47,
   "metadata": {},
   "outputs": [],
   "source": [
    "nivo_edikasyon_pat_janm_al_lekol = [] #pat janm al lekòl\n",
    "nivo_edikasyon_konn_li_ak_ekri = [] #konn li ak ekri\n",
    "nivo_edikasyon_klas_preskole = [] #Klas preskolè\n",
    "nivo_edikasyon_lekol_prime = [] #lekòl primè\n",
    "nivo_edikasyon_lekol_segonde = [] #lekòl segondè\n",
    "nivo_edikasyon_fomasyon_teknik = [] #fòmasyon teknik\n",
    "nivo_edikasyon_inivesite = [] #inivèsitè\n",
    "\n",
    "for niv in np.array(df['Nivo edikasyon 1']):\n",
    "    if 'pat janm al lekòl' in str(niv):\n",
    "        nivo_edikasyon_pat_janm_al_lekol.append(1)\n",
    "    else:\n",
    "        nivo_edikasyon_pat_janm_al_lekol.append(0)\n",
    "        \n",
    "df['Nivo edikasyon 1/pat janm al lekòl'] = nivo_edikasyon_pat_janm_al_lekol\n",
    "\n",
    "for niv in np.array(df['Nivo edikasyon 1']):\n",
    "    if 'konn li ak ekri' in str(niv):\n",
    "        nivo_edikasyon_konn_li_ak_ekri.append(1)\n",
    "    else:\n",
    "        nivo_edikasyon_konn_li_ak_ekri.append(0)\n",
    "        \n",
    "df['Nivo edikasyon 1/konn li ak ekri'] = nivo_edikasyon_konn_li_ak_ekri\n",
    "\n",
    "for niv in np.array(df['Nivo edikasyon 1']):\n",
    "    if 'Klas preskolè' in str(niv):\n",
    "        nivo_edikasyon_klas_preskole.append(1)\n",
    "    else:\n",
    "        nivo_edikasyon_klas_preskole.append(0)\n",
    "        \n",
    "df['Nivo edikasyon 1/Klas preskolè'] = nivo_edikasyon_klas_preskole\n",
    "\n",
    "for niv in np.array(df['Nivo edikasyon 1']):\n",
    "    if 'lekòl primè' in str(niv):\n",
    "        nivo_edikasyon_lekol_prime.append(1)\n",
    "    else:\n",
    "        nivo_edikasyon_lekol_prime.append(0)\n",
    "        \n",
    "df['Nivo edikasyon 1/lekòl primè'] = nivo_edikasyon_lekol_prime\n",
    "\n",
    "for niv in np.array(df['Nivo edikasyon 1']):\n",
    "    if 'lekòl segondè' in str(niv):\n",
    "        nivo_edikasyon_lekol_segonde.append(1)\n",
    "    else:\n",
    "        nivo_edikasyon_lekol_segonde.append(0)\n",
    "        \n",
    "df['Nivo edikasyon 1/lekòl segondè'] = nivo_edikasyon_lekol_segonde\n",
    "\n",
    "for niv in np.array(df['Nivo edikasyon 1']):\n",
    "    if 'fòmasyon teknik' in str(niv):\n",
    "        nivo_edikasyon_fomasyon_teknik.append(1)\n",
    "    else:\n",
    "        nivo_edikasyon_fomasyon_teknik.append(0)\n",
    "        \n",
    "df['Nivo edikasyon 1/fòmasyon teknik'] = nivo_edikasyon_fomasyon_teknik\n",
    "\n",
    "for niv in np.array(df['Nivo edikasyon 1']):\n",
    "    if 'inivèsitè' in str(niv):\n",
    "        nivo_edikasyon_inivesite.append(1)\n",
    "    else:\n",
    "        nivo_edikasyon_inivesite.append(0)\n",
    "        \n",
    "df['Nivo edikasyon 1/inivèsitè'] = nivo_edikasyon_inivesite"
   ]
  },
  {
   "cell_type": "code",
   "execution_count": 48,
   "metadata": {},
   "outputs": [
    {
     "data": {
      "text/html": [
       "<div>\n",
       "<style scoped>\n",
       "    .dataframe tbody tr th:only-of-type {\n",
       "        vertical-align: middle;\n",
       "    }\n",
       "\n",
       "    .dataframe tbody tr th {\n",
       "        vertical-align: top;\n",
       "    }\n",
       "\n",
       "    .dataframe thead th {\n",
       "        text-align: right;\n",
       "    }\n",
       "</style>\n",
       "<table border=\"1\" class=\"dataframe\">\n",
       "  <thead>\n",
       "    <tr style=\"text-align: right;\">\n",
       "      <th></th>\n",
       "      <th>Date</th>\n",
       "      <th>MOUN Y AP POZE KESYON YO.</th>\n",
       "      <th>Non chèf kay la.</th>\n",
       "      <th>Non pwofesè a.</th>\n",
       "      <th>Non direktè a</th>\n",
       "      <th>Zòn kote moun nan rete a.</th>\n",
       "      <th>Nan ki lekòl ou ye</th>\n",
       "      <th>DAT ENTEVYOU A AK LE LI KOUMANSE.</th>\n",
       "      <th>Non papa oubyen manman oubyen Gadyen an. 1</th>\n",
       "      <th>Non papa oubyen manman oubyen Gadyen an. 2</th>\n",
       "      <th>...</th>\n",
       "      <th>Relasyon ak moun kap dirije kay la/Kouzen / Kouzin</th>\n",
       "      <th>Relasyon ak moun kap dirije kay la/Gadyen</th>\n",
       "      <th>Relasyon ak moun kap dirije kay la/Lòt</th>\n",
       "      <th>Nivo edikasyon 1/pat janm al lekòl</th>\n",
       "      <th>Nivo edikasyon 1/konn li ak ekri</th>\n",
       "      <th>Nivo edikasyon 1/Klas preskolè</th>\n",
       "      <th>Nivo edikasyon 1/lekòl primè</th>\n",
       "      <th>Nivo edikasyon 1/lekòl segondè</th>\n",
       "      <th>Nivo edikasyon 1/fòmasyon teknik</th>\n",
       "      <th>Nivo edikasyon 1/inivèsitè</th>\n",
       "    </tr>\n",
       "  </thead>\n",
       "  <tbody>\n",
       "    <tr>\n",
       "      <th>1</th>\n",
       "      <td>3/21/2018</td>\n",
       "      <td>1. Elèv</td>\n",
       "      <td>Guicio Pricien</td>\n",
       "      <td>NaN</td>\n",
       "      <td>NaN</td>\n",
       "      <td>Corail</td>\n",
       "      <td>5. Institution Mixte Espoir</td>\n",
       "      <td>00:00.0</td>\n",
       "      <td>Guicio Pricien</td>\n",
       "      <td>NaN</td>\n",
       "      <td>...</td>\n",
       "      <td>0</td>\n",
       "      <td>0</td>\n",
       "      <td>0</td>\n",
       "      <td>0</td>\n",
       "      <td>0</td>\n",
       "      <td>0</td>\n",
       "      <td>1</td>\n",
       "      <td>0</td>\n",
       "      <td>0</td>\n",
       "      <td>0</td>\n",
       "    </tr>\n",
       "    <tr>\n",
       "      <th>2</th>\n",
       "      <td>3/21/2018</td>\n",
       "      <td>1. Elèv</td>\n",
       "      <td>Pierre AUBRY</td>\n",
       "      <td>NaN</td>\n",
       "      <td>NaN</td>\n",
       "      <td>Delmas 65</td>\n",
       "      <td>5. Institution Mixte Espoir</td>\n",
       "      <td>01:00.0</td>\n",
       "      <td>Pierre  Aubry ak Tamara Loiseau Aubry</td>\n",
       "      <td>NaN</td>\n",
       "      <td>...</td>\n",
       "      <td>0</td>\n",
       "      <td>0</td>\n",
       "      <td>0</td>\n",
       "      <td>0</td>\n",
       "      <td>0</td>\n",
       "      <td>0</td>\n",
       "      <td>0</td>\n",
       "      <td>0</td>\n",
       "      <td>0</td>\n",
       "      <td>1</td>\n",
       "    </tr>\n",
       "    <tr>\n",
       "      <th>3</th>\n",
       "      <td>3/21/2018</td>\n",
       "      <td>1. Elèv</td>\n",
       "      <td>Cherestal simone</td>\n",
       "      <td>NaN</td>\n",
       "      <td>NaN</td>\n",
       "      <td>Delmas 32 rue victoire</td>\n",
       "      <td>5. Institution Mixte Espoir</td>\n",
       "      <td>59:00.0</td>\n",
       "      <td>Cherestal simone</td>\n",
       "      <td>NaN</td>\n",
       "      <td>...</td>\n",
       "      <td>0</td>\n",
       "      <td>0</td>\n",
       "      <td>0</td>\n",
       "      <td>0</td>\n",
       "      <td>0</td>\n",
       "      <td>0</td>\n",
       "      <td>0</td>\n",
       "      <td>1</td>\n",
       "      <td>0</td>\n",
       "      <td>0</td>\n",
       "    </tr>\n",
       "    <tr>\n",
       "      <th>4</th>\n",
       "      <td>3/21/2018</td>\n",
       "      <td>1. Elèv</td>\n",
       "      <td>Auis Carousse</td>\n",
       "      <td>NaN</td>\n",
       "      <td>NaN</td>\n",
       "      <td>Delmas 32,Rue Jean Baptiste</td>\n",
       "      <td>5. Institution Mixte Espoir</td>\n",
       "      <td>58:00.0</td>\n",
       "      <td>Sophia Gabriel</td>\n",
       "      <td>NaN</td>\n",
       "      <td>...</td>\n",
       "      <td>0</td>\n",
       "      <td>0</td>\n",
       "      <td>0</td>\n",
       "      <td>0</td>\n",
       "      <td>0</td>\n",
       "      <td>0</td>\n",
       "      <td>1</td>\n",
       "      <td>0</td>\n",
       "      <td>0</td>\n",
       "      <td>0</td>\n",
       "    </tr>\n",
       "    <tr>\n",
       "      <th>5</th>\n",
       "      <td>3/21/2018</td>\n",
       "      <td>1. Elèv</td>\n",
       "      <td>Pierre Renette</td>\n",
       "      <td>NaN</td>\n",
       "      <td>NaN</td>\n",
       "      <td>Delmas32, Rue Petion#7</td>\n",
       "      <td>5. Institution Mixte Espoir</td>\n",
       "      <td>01:00.0</td>\n",
       "      <td>Pierre Renette</td>\n",
       "      <td>NaN</td>\n",
       "      <td>...</td>\n",
       "      <td>0</td>\n",
       "      <td>0</td>\n",
       "      <td>0</td>\n",
       "      <td>0</td>\n",
       "      <td>0</td>\n",
       "      <td>0</td>\n",
       "      <td>0</td>\n",
       "      <td>1</td>\n",
       "      <td>0</td>\n",
       "      <td>0</td>\n",
       "    </tr>\n",
       "  </tbody>\n",
       "</table>\n",
       "<p>5 rows × 91 columns</p>\n",
       "</div>"
      ],
      "text/plain": [
       "        Date MOUN Y AP POZE KESYON YO.  Non chèf kay la. Non pwofesè a.  \\\n",
       "1  3/21/2018                   1. Elèv    Guicio Pricien            NaN   \n",
       "2  3/21/2018                   1. Elèv      Pierre AUBRY            NaN   \n",
       "3  3/21/2018                   1. Elèv  Cherestal simone            NaN   \n",
       "4  3/21/2018                   1. Elèv     Auis Carousse            NaN   \n",
       "5  3/21/2018                   1. Elèv    Pierre Renette            NaN   \n",
       "\n",
       "  Non direktè a    Zòn kote moun nan rete a.           Nan ki lekòl ou ye  \\\n",
       "1           NaN                       Corail  5. Institution Mixte Espoir   \n",
       "2           NaN                    Delmas 65  5. Institution Mixte Espoir   \n",
       "3           NaN       Delmas 32 rue victoire  5. Institution Mixte Espoir   \n",
       "4           NaN  Delmas 32,Rue Jean Baptiste  5. Institution Mixte Espoir   \n",
       "5           NaN       Delmas32, Rue Petion#7  5. Institution Mixte Espoir   \n",
       "\n",
       "  DAT ENTEVYOU A AK LE LI KOUMANSE.  \\\n",
       "1                           00:00.0   \n",
       "2                           01:00.0   \n",
       "3                           59:00.0   \n",
       "4                           58:00.0   \n",
       "5                           01:00.0   \n",
       "\n",
       "  Non papa oubyen manman oubyen Gadyen an. 1  \\\n",
       "1                             Guicio Pricien   \n",
       "2      Pierre  Aubry ak Tamara Loiseau Aubry   \n",
       "3                           Cherestal simone   \n",
       "4                             Sophia Gabriel   \n",
       "5                             Pierre Renette   \n",
       "\n",
       "  Non papa oubyen manman oubyen Gadyen an. 2            ...              \\\n",
       "1                                        NaN            ...               \n",
       "2                                        NaN            ...               \n",
       "3                                        NaN            ...               \n",
       "4                                        NaN            ...               \n",
       "5                                        NaN            ...               \n",
       "\n",
       "  Relasyon ak moun kap dirije kay la/Kouzen / Kouzin  \\\n",
       "1                                                  0   \n",
       "2                                                  0   \n",
       "3                                                  0   \n",
       "4                                                  0   \n",
       "5                                                  0   \n",
       "\n",
       "  Relasyon ak moun kap dirije kay la/Gadyen  \\\n",
       "1                                         0   \n",
       "2                                         0   \n",
       "3                                         0   \n",
       "4                                         0   \n",
       "5                                         0   \n",
       "\n",
       "  Relasyon ak moun kap dirije kay la/Lòt Nivo edikasyon 1/pat janm al lekòl  \\\n",
       "1                                      0                                  0   \n",
       "2                                      0                                  0   \n",
       "3                                      0                                  0   \n",
       "4                                      0                                  0   \n",
       "5                                      0                                  0   \n",
       "\n",
       "  Nivo edikasyon 1/konn li ak ekri Nivo edikasyon 1/Klas preskolè  \\\n",
       "1                                0                              0   \n",
       "2                                0                              0   \n",
       "3                                0                              0   \n",
       "4                                0                              0   \n",
       "5                                0                              0   \n",
       "\n",
       "  Nivo edikasyon 1/lekòl primè Nivo edikasyon 1/lekòl segondè  \\\n",
       "1                            1                              0   \n",
       "2                            0                              0   \n",
       "3                            0                              1   \n",
       "4                            1                              0   \n",
       "5                            0                              1   \n",
       "\n",
       "  Nivo edikasyon 1/fòmasyon teknik Nivo edikasyon 1/inivèsitè  \n",
       "1                                0                          0  \n",
       "2                                0                          1  \n",
       "3                                0                          0  \n",
       "4                                0                          0  \n",
       "5                                0                          0  \n",
       "\n",
       "[5 rows x 91 columns]"
      ]
     },
     "execution_count": 48,
     "metadata": {},
     "output_type": "execute_result"
    }
   ],
   "source": [
    "df.head()"
   ]
  },
  {
   "cell_type": "code",
   "execution_count": 49,
   "metadata": {},
   "outputs": [],
   "source": [
    "sa_moun_lan_ap_fe_poul_ka_pran_swen_tet_li_pap_travay = [] #pap travay\n",
    "sa_moun_lan_ap_fe_poul_ka_pran_swen_tet_li_elev = [] #elèv\n",
    "sa_moun_lan_ap_fe_poul_ka_pran_swen_tet_li_ap_trvay = [] #ap trvay\n",
    "sa_moun_lan_ap_fe_poul_ka_pran_swen_tet_li_ap_fe_komes = [] #ap fè komès\n",
    "sa_moun_lan_ap_fe_poul_ka_pran_swen_tet_li_lot = [] #lòt\n",
    "\n",
    "for niv in np.array(df['Sa moun lan ap fè poul ka pran swen tèt li 1']):\n",
    "    if 'pap travay' in str(niv):\n",
    "        sa_moun_lan_ap_fe_poul_ka_pran_swen_tet_li_pap_travay.append(1)\n",
    "    else:\n",
    "        sa_moun_lan_ap_fe_poul_ka_pran_swen_tet_li_pap_travay.append(0)\n",
    "        \n",
    "df['Sa moun lan ap fè poul ka pran swen tèt li 1/pap travay'] = sa_moun_lan_ap_fe_poul_ka_pran_swen_tet_li_pap_travay\n",
    "\n",
    "for niv in np.array(df['Sa moun lan ap fè poul ka pran swen tèt li 1']):\n",
    "    if 'elèv' in str(niv):\n",
    "        sa_moun_lan_ap_fe_poul_ka_pran_swen_tet_li_elev.append(1)\n",
    "    else:\n",
    "        sa_moun_lan_ap_fe_poul_ka_pran_swen_tet_li_elev.append(0)\n",
    "        \n",
    "df['Sa moun lan ap fè poul ka pran swen tèt li 1/elèv'] = sa_moun_lan_ap_fe_poul_ka_pran_swen_tet_li_elev\n",
    "\n",
    "for niv in np.array(df['Sa moun lan ap fè poul ka pran swen tèt li 1']):\n",
    "    if 'ap trvay' in str(niv):\n",
    "        sa_moun_lan_ap_fe_poul_ka_pran_swen_tet_li_ap_trvay.append(1)\n",
    "    else:\n",
    "        sa_moun_lan_ap_fe_poul_ka_pran_swen_tet_li_ap_trvay.append(0)\n",
    "        \n",
    "df['Sa moun lan ap fè poul ka pran swen tèt li 1/ap trvay'] = sa_moun_lan_ap_fe_poul_ka_pran_swen_tet_li_ap_trvay\n",
    "\n",
    "for niv in np.array(df['Sa moun lan ap fè poul ka pran swen tèt li 1']):\n",
    "    if 'ap fè komès' in str(niv):\n",
    "        sa_moun_lan_ap_fe_poul_ka_pran_swen_tet_li_ap_fe_komes.append(1)\n",
    "    else:\n",
    "        sa_moun_lan_ap_fe_poul_ka_pran_swen_tet_li_ap_fe_komes.append(0)\n",
    "        \n",
    "df['Sa moun lan ap fè poul ka pran swen tèt li 1/ap fè komès'] = sa_moun_lan_ap_fe_poul_ka_pran_swen_tet_li_ap_fe_komes\n",
    "\n",
    "for niv in np.array(df['Sa moun lan ap fè poul ka pran swen tèt li 1']):\n",
    "    if 'lòt' in str(niv):\n",
    "        sa_moun_lan_ap_fe_poul_ka_pran_swen_tet_li_lot.append(1)\n",
    "    else:\n",
    "        sa_moun_lan_ap_fe_poul_ka_pran_swen_tet_li_lot.append(0)\n",
    "        \n",
    "df['Sa moun lan ap fè poul ka pran swen tèt li 1/lòt'] = sa_moun_lan_ap_fe_poul_ka_pran_swen_tet_li_lot"
   ]
  },
  {
   "cell_type": "code",
   "execution_count": 50,
   "metadata": {},
   "outputs": [
    {
     "data": {
      "text/html": [
       "<div>\n",
       "<style scoped>\n",
       "    .dataframe tbody tr th:only-of-type {\n",
       "        vertical-align: middle;\n",
       "    }\n",
       "\n",
       "    .dataframe tbody tr th {\n",
       "        vertical-align: top;\n",
       "    }\n",
       "\n",
       "    .dataframe thead th {\n",
       "        text-align: right;\n",
       "    }\n",
       "</style>\n",
       "<table border=\"1\" class=\"dataframe\">\n",
       "  <thead>\n",
       "    <tr style=\"text-align: right;\">\n",
       "      <th></th>\n",
       "      <th>Date</th>\n",
       "      <th>MOUN Y AP POZE KESYON YO.</th>\n",
       "      <th>Non chèf kay la.</th>\n",
       "      <th>Non pwofesè a.</th>\n",
       "      <th>Non direktè a</th>\n",
       "      <th>Zòn kote moun nan rete a.</th>\n",
       "      <th>Nan ki lekòl ou ye</th>\n",
       "      <th>DAT ENTEVYOU A AK LE LI KOUMANSE.</th>\n",
       "      <th>Non papa oubyen manman oubyen Gadyen an. 1</th>\n",
       "      <th>Non papa oubyen manman oubyen Gadyen an. 2</th>\n",
       "      <th>...</th>\n",
       "      <th>Nivo edikasyon 1/Klas preskolè</th>\n",
       "      <th>Nivo edikasyon 1/lekòl primè</th>\n",
       "      <th>Nivo edikasyon 1/lekòl segondè</th>\n",
       "      <th>Nivo edikasyon 1/fòmasyon teknik</th>\n",
       "      <th>Nivo edikasyon 1/inivèsitè</th>\n",
       "      <th>Sa moun lan ap fè poul ka pran swen tèt li 1/pap travay</th>\n",
       "      <th>Sa moun lan ap fè poul ka pran swen tèt li 1/elèv</th>\n",
       "      <th>Sa moun lan ap fè poul ka pran swen tèt li 1/ap trvay</th>\n",
       "      <th>Sa moun lan ap fè poul ka pran swen tèt li 1/ap fè komès</th>\n",
       "      <th>Sa moun lan ap fè poul ka pran swen tèt li 1/lòt</th>\n",
       "    </tr>\n",
       "  </thead>\n",
       "  <tbody>\n",
       "    <tr>\n",
       "      <th>1</th>\n",
       "      <td>3/21/2018</td>\n",
       "      <td>1. Elèv</td>\n",
       "      <td>Guicio Pricien</td>\n",
       "      <td>NaN</td>\n",
       "      <td>NaN</td>\n",
       "      <td>Corail</td>\n",
       "      <td>5. Institution Mixte Espoir</td>\n",
       "      <td>00:00.0</td>\n",
       "      <td>Guicio Pricien</td>\n",
       "      <td>NaN</td>\n",
       "      <td>...</td>\n",
       "      <td>0</td>\n",
       "      <td>1</td>\n",
       "      <td>0</td>\n",
       "      <td>0</td>\n",
       "      <td>0</td>\n",
       "      <td>0</td>\n",
       "      <td>0</td>\n",
       "      <td>1</td>\n",
       "      <td>0</td>\n",
       "      <td>0</td>\n",
       "    </tr>\n",
       "    <tr>\n",
       "      <th>2</th>\n",
       "      <td>3/21/2018</td>\n",
       "      <td>1. Elèv</td>\n",
       "      <td>Pierre AUBRY</td>\n",
       "      <td>NaN</td>\n",
       "      <td>NaN</td>\n",
       "      <td>Delmas 65</td>\n",
       "      <td>5. Institution Mixte Espoir</td>\n",
       "      <td>01:00.0</td>\n",
       "      <td>Pierre  Aubry ak Tamara Loiseau Aubry</td>\n",
       "      <td>NaN</td>\n",
       "      <td>...</td>\n",
       "      <td>0</td>\n",
       "      <td>0</td>\n",
       "      <td>0</td>\n",
       "      <td>0</td>\n",
       "      <td>1</td>\n",
       "      <td>0</td>\n",
       "      <td>0</td>\n",
       "      <td>1</td>\n",
       "      <td>0</td>\n",
       "      <td>0</td>\n",
       "    </tr>\n",
       "    <tr>\n",
       "      <th>3</th>\n",
       "      <td>3/21/2018</td>\n",
       "      <td>1. Elèv</td>\n",
       "      <td>Cherestal simone</td>\n",
       "      <td>NaN</td>\n",
       "      <td>NaN</td>\n",
       "      <td>Delmas 32 rue victoire</td>\n",
       "      <td>5. Institution Mixte Espoir</td>\n",
       "      <td>59:00.0</td>\n",
       "      <td>Cherestal simone</td>\n",
       "      <td>NaN</td>\n",
       "      <td>...</td>\n",
       "      <td>0</td>\n",
       "      <td>0</td>\n",
       "      <td>1</td>\n",
       "      <td>0</td>\n",
       "      <td>0</td>\n",
       "      <td>0</td>\n",
       "      <td>0</td>\n",
       "      <td>1</td>\n",
       "      <td>0</td>\n",
       "      <td>0</td>\n",
       "    </tr>\n",
       "    <tr>\n",
       "      <th>4</th>\n",
       "      <td>3/21/2018</td>\n",
       "      <td>1. Elèv</td>\n",
       "      <td>Auis Carousse</td>\n",
       "      <td>NaN</td>\n",
       "      <td>NaN</td>\n",
       "      <td>Delmas 32,Rue Jean Baptiste</td>\n",
       "      <td>5. Institution Mixte Espoir</td>\n",
       "      <td>58:00.0</td>\n",
       "      <td>Sophia Gabriel</td>\n",
       "      <td>NaN</td>\n",
       "      <td>...</td>\n",
       "      <td>0</td>\n",
       "      <td>1</td>\n",
       "      <td>0</td>\n",
       "      <td>0</td>\n",
       "      <td>0</td>\n",
       "      <td>0</td>\n",
       "      <td>0</td>\n",
       "      <td>1</td>\n",
       "      <td>0</td>\n",
       "      <td>0</td>\n",
       "    </tr>\n",
       "    <tr>\n",
       "      <th>5</th>\n",
       "      <td>3/21/2018</td>\n",
       "      <td>1. Elèv</td>\n",
       "      <td>Pierre Renette</td>\n",
       "      <td>NaN</td>\n",
       "      <td>NaN</td>\n",
       "      <td>Delmas32, Rue Petion#7</td>\n",
       "      <td>5. Institution Mixte Espoir</td>\n",
       "      <td>01:00.0</td>\n",
       "      <td>Pierre Renette</td>\n",
       "      <td>NaN</td>\n",
       "      <td>...</td>\n",
       "      <td>0</td>\n",
       "      <td>0</td>\n",
       "      <td>1</td>\n",
       "      <td>0</td>\n",
       "      <td>0</td>\n",
       "      <td>1</td>\n",
       "      <td>0</td>\n",
       "      <td>0</td>\n",
       "      <td>0</td>\n",
       "      <td>0</td>\n",
       "    </tr>\n",
       "  </tbody>\n",
       "</table>\n",
       "<p>5 rows × 96 columns</p>\n",
       "</div>"
      ],
      "text/plain": [
       "        Date MOUN Y AP POZE KESYON YO.  Non chèf kay la. Non pwofesè a.  \\\n",
       "1  3/21/2018                   1. Elèv    Guicio Pricien            NaN   \n",
       "2  3/21/2018                   1. Elèv      Pierre AUBRY            NaN   \n",
       "3  3/21/2018                   1. Elèv  Cherestal simone            NaN   \n",
       "4  3/21/2018                   1. Elèv     Auis Carousse            NaN   \n",
       "5  3/21/2018                   1. Elèv    Pierre Renette            NaN   \n",
       "\n",
       "  Non direktè a    Zòn kote moun nan rete a.           Nan ki lekòl ou ye  \\\n",
       "1           NaN                       Corail  5. Institution Mixte Espoir   \n",
       "2           NaN                    Delmas 65  5. Institution Mixte Espoir   \n",
       "3           NaN       Delmas 32 rue victoire  5. Institution Mixte Espoir   \n",
       "4           NaN  Delmas 32,Rue Jean Baptiste  5. Institution Mixte Espoir   \n",
       "5           NaN       Delmas32, Rue Petion#7  5. Institution Mixte Espoir   \n",
       "\n",
       "  DAT ENTEVYOU A AK LE LI KOUMANSE.  \\\n",
       "1                           00:00.0   \n",
       "2                           01:00.0   \n",
       "3                           59:00.0   \n",
       "4                           58:00.0   \n",
       "5                           01:00.0   \n",
       "\n",
       "  Non papa oubyen manman oubyen Gadyen an. 1  \\\n",
       "1                             Guicio Pricien   \n",
       "2      Pierre  Aubry ak Tamara Loiseau Aubry   \n",
       "3                           Cherestal simone   \n",
       "4                             Sophia Gabriel   \n",
       "5                             Pierre Renette   \n",
       "\n",
       "  Non papa oubyen manman oubyen Gadyen an. 2  \\\n",
       "1                                        NaN   \n",
       "2                                        NaN   \n",
       "3                                        NaN   \n",
       "4                                        NaN   \n",
       "5                                        NaN   \n",
       "\n",
       "                        ...                         \\\n",
       "1                       ...                          \n",
       "2                       ...                          \n",
       "3                       ...                          \n",
       "4                       ...                          \n",
       "5                       ...                          \n",
       "\n",
       "  Nivo edikasyon 1/Klas preskolè Nivo edikasyon 1/lekòl primè  \\\n",
       "1                              0                            1   \n",
       "2                              0                            0   \n",
       "3                              0                            0   \n",
       "4                              0                            1   \n",
       "5                              0                            0   \n",
       "\n",
       "  Nivo edikasyon 1/lekòl segondè Nivo edikasyon 1/fòmasyon teknik  \\\n",
       "1                              0                                0   \n",
       "2                              0                                0   \n",
       "3                              1                                0   \n",
       "4                              0                                0   \n",
       "5                              1                                0   \n",
       "\n",
       "  Nivo edikasyon 1/inivèsitè  \\\n",
       "1                          0   \n",
       "2                          1   \n",
       "3                          0   \n",
       "4                          0   \n",
       "5                          0   \n",
       "\n",
       "  Sa moun lan ap fè poul ka pran swen tèt li 1/pap travay  \\\n",
       "1                                                  0        \n",
       "2                                                  0        \n",
       "3                                                  0        \n",
       "4                                                  0        \n",
       "5                                                  1        \n",
       "\n",
       "  Sa moun lan ap fè poul ka pran swen tèt li 1/elèv  \\\n",
       "1                                                 0   \n",
       "2                                                 0   \n",
       "3                                                 0   \n",
       "4                                                 0   \n",
       "5                                                 0   \n",
       "\n",
       "  Sa moun lan ap fè poul ka pran swen tèt li 1/ap trvay  \\\n",
       "1                                                  1      \n",
       "2                                                  1      \n",
       "3                                                  1      \n",
       "4                                                  1      \n",
       "5                                                  0      \n",
       "\n",
       "  Sa moun lan ap fè poul ka pran swen tèt li 1/ap fè komès  \\\n",
       "1                                                  0         \n",
       "2                                                  0         \n",
       "3                                                  0         \n",
       "4                                                  0         \n",
       "5                                                  0         \n",
       "\n",
       "  Sa moun lan ap fè poul ka pran swen tèt li 1/lòt  \n",
       "1                                                0  \n",
       "2                                                0  \n",
       "3                                                0  \n",
       "4                                                0  \n",
       "5                                                0  \n",
       "\n",
       "[5 rows x 96 columns]"
      ]
     },
     "execution_count": 50,
     "metadata": {},
     "output_type": "execute_result"
    }
   ],
   "source": [
    "df.head()"
   ]
  },
  {
   "cell_type": "code",
   "execution_count": 51,
   "metadata": {},
   "outputs": [],
   "source": [
    "eta_sivil_moun_nan_selibate = [] #selibatè\n",
    "eta_sivil_moun_nan_marye = [] #marye\n",
    "eta_sivil_moun_nan_plase = [] #Plase\n",
    "eta_sivil_moun_nan_divose = [] #Divòse\n",
    "eta_sivil_moun_nan_vef = [] #Vèf\n",
    "\n",
    "for niv in np.array(df['Eta Sivil moun nan. 1']):\n",
    "    if 'selibatè' in str(niv):\n",
    "        eta_sivil_moun_nan_selibate.append(1)\n",
    "    else:\n",
    "        eta_sivil_moun_nan_selibate.append(0)\n",
    "        \n",
    "df['Eta Sivil moun nan. 1/selibatè'] = eta_sivil_moun_nan_selibate\n",
    "\n",
    "for niv in np.array(df['Eta Sivil moun nan. 1']):\n",
    "    if 'marye' in str(niv):\n",
    "        eta_sivil_moun_nan_marye.append(1)\n",
    "    else:\n",
    "        eta_sivil_moun_nan_marye.append(0)\n",
    "        \n",
    "df['Eta Sivil moun nan. 1/marye'] = eta_sivil_moun_nan_marye\n",
    "\n",
    "for niv in np.array(df['Eta Sivil moun nan. 1']):\n",
    "    if 'Plase' in str(niv):\n",
    "        eta_sivil_moun_nan_plase.append(1)\n",
    "    else:\n",
    "        eta_sivil_moun_nan_plase.append(0)\n",
    "        \n",
    "df['Eta Sivil moun nan. 1/Plase'] = eta_sivil_moun_nan_plase\n",
    "\n",
    "for niv in np.array(df['Eta Sivil moun nan. 1']):\n",
    "    if 'Divòse' in str(niv):\n",
    "        eta_sivil_moun_nan_divose.append(1)\n",
    "    else:\n",
    "        eta_sivil_moun_nan_divose.append(0)\n",
    "        \n",
    "df['Eta Sivil moun nan. 1/Divòse'] = eta_sivil_moun_nan_divose\n",
    "\n",
    "for niv in np.array(df['Eta Sivil moun nan. 1']):\n",
    "    if 'Vèf' in str(niv):\n",
    "        eta_sivil_moun_nan_vef.append(1)\n",
    "    else:\n",
    "        eta_sivil_moun_nan_vef.append(0)\n",
    "        \n",
    "df['Eta Sivil moun nan. 1/Vèf'] = eta_sivil_moun_nan_vef"
   ]
  },
  {
   "cell_type": "code",
   "execution_count": 52,
   "metadata": {},
   "outputs": [
    {
     "data": {
      "text/html": [
       "<div>\n",
       "<style scoped>\n",
       "    .dataframe tbody tr th:only-of-type {\n",
       "        vertical-align: middle;\n",
       "    }\n",
       "\n",
       "    .dataframe tbody tr th {\n",
       "        vertical-align: top;\n",
       "    }\n",
       "\n",
       "    .dataframe thead th {\n",
       "        text-align: right;\n",
       "    }\n",
       "</style>\n",
       "<table border=\"1\" class=\"dataframe\">\n",
       "  <thead>\n",
       "    <tr style=\"text-align: right;\">\n",
       "      <th></th>\n",
       "      <th>Date</th>\n",
       "      <th>MOUN Y AP POZE KESYON YO.</th>\n",
       "      <th>Non chèf kay la.</th>\n",
       "      <th>Non pwofesè a.</th>\n",
       "      <th>Non direktè a</th>\n",
       "      <th>Zòn kote moun nan rete a.</th>\n",
       "      <th>Nan ki lekòl ou ye</th>\n",
       "      <th>DAT ENTEVYOU A AK LE LI KOUMANSE.</th>\n",
       "      <th>Non papa oubyen manman oubyen Gadyen an. 1</th>\n",
       "      <th>Non papa oubyen manman oubyen Gadyen an. 2</th>\n",
       "      <th>...</th>\n",
       "      <th>Sa moun lan ap fè poul ka pran swen tèt li 1/pap travay</th>\n",
       "      <th>Sa moun lan ap fè poul ka pran swen tèt li 1/elèv</th>\n",
       "      <th>Sa moun lan ap fè poul ka pran swen tèt li 1/ap trvay</th>\n",
       "      <th>Sa moun lan ap fè poul ka pran swen tèt li 1/ap fè komès</th>\n",
       "      <th>Sa moun lan ap fè poul ka pran swen tèt li 1/lòt</th>\n",
       "      <th>Eta Sivil moun nan. 1/selibatè</th>\n",
       "      <th>Eta Sivil moun nan. 1/marye</th>\n",
       "      <th>Eta Sivil moun nan. 1/Plase</th>\n",
       "      <th>Eta Sivil moun nan. 1/Divòse</th>\n",
       "      <th>Eta Sivil moun nan. 1/Vèf</th>\n",
       "    </tr>\n",
       "  </thead>\n",
       "  <tbody>\n",
       "    <tr>\n",
       "      <th>1</th>\n",
       "      <td>3/21/2018</td>\n",
       "      <td>1. Elèv</td>\n",
       "      <td>Guicio Pricien</td>\n",
       "      <td>NaN</td>\n",
       "      <td>NaN</td>\n",
       "      <td>Corail</td>\n",
       "      <td>5. Institution Mixte Espoir</td>\n",
       "      <td>00:00.0</td>\n",
       "      <td>Guicio Pricien</td>\n",
       "      <td>NaN</td>\n",
       "      <td>...</td>\n",
       "      <td>0</td>\n",
       "      <td>0</td>\n",
       "      <td>1</td>\n",
       "      <td>0</td>\n",
       "      <td>0</td>\n",
       "      <td>0</td>\n",
       "      <td>0</td>\n",
       "      <td>0</td>\n",
       "      <td>0</td>\n",
       "      <td>0</td>\n",
       "    </tr>\n",
       "    <tr>\n",
       "      <th>2</th>\n",
       "      <td>3/21/2018</td>\n",
       "      <td>1. Elèv</td>\n",
       "      <td>Pierre AUBRY</td>\n",
       "      <td>NaN</td>\n",
       "      <td>NaN</td>\n",
       "      <td>Delmas 65</td>\n",
       "      <td>5. Institution Mixte Espoir</td>\n",
       "      <td>01:00.0</td>\n",
       "      <td>Pierre  Aubry ak Tamara Loiseau Aubry</td>\n",
       "      <td>NaN</td>\n",
       "      <td>...</td>\n",
       "      <td>0</td>\n",
       "      <td>0</td>\n",
       "      <td>1</td>\n",
       "      <td>0</td>\n",
       "      <td>0</td>\n",
       "      <td>0</td>\n",
       "      <td>0</td>\n",
       "      <td>0</td>\n",
       "      <td>0</td>\n",
       "      <td>0</td>\n",
       "    </tr>\n",
       "    <tr>\n",
       "      <th>3</th>\n",
       "      <td>3/21/2018</td>\n",
       "      <td>1. Elèv</td>\n",
       "      <td>Cherestal simone</td>\n",
       "      <td>NaN</td>\n",
       "      <td>NaN</td>\n",
       "      <td>Delmas 32 rue victoire</td>\n",
       "      <td>5. Institution Mixte Espoir</td>\n",
       "      <td>59:00.0</td>\n",
       "      <td>Cherestal simone</td>\n",
       "      <td>NaN</td>\n",
       "      <td>...</td>\n",
       "      <td>0</td>\n",
       "      <td>0</td>\n",
       "      <td>1</td>\n",
       "      <td>0</td>\n",
       "      <td>0</td>\n",
       "      <td>0</td>\n",
       "      <td>0</td>\n",
       "      <td>0</td>\n",
       "      <td>0</td>\n",
       "      <td>0</td>\n",
       "    </tr>\n",
       "    <tr>\n",
       "      <th>4</th>\n",
       "      <td>3/21/2018</td>\n",
       "      <td>1. Elèv</td>\n",
       "      <td>Auis Carousse</td>\n",
       "      <td>NaN</td>\n",
       "      <td>NaN</td>\n",
       "      <td>Delmas 32,Rue Jean Baptiste</td>\n",
       "      <td>5. Institution Mixte Espoir</td>\n",
       "      <td>58:00.0</td>\n",
       "      <td>Sophia Gabriel</td>\n",
       "      <td>NaN</td>\n",
       "      <td>...</td>\n",
       "      <td>0</td>\n",
       "      <td>0</td>\n",
       "      <td>1</td>\n",
       "      <td>0</td>\n",
       "      <td>0</td>\n",
       "      <td>0</td>\n",
       "      <td>0</td>\n",
       "      <td>0</td>\n",
       "      <td>0</td>\n",
       "      <td>0</td>\n",
       "    </tr>\n",
       "    <tr>\n",
       "      <th>5</th>\n",
       "      <td>3/21/2018</td>\n",
       "      <td>1. Elèv</td>\n",
       "      <td>Pierre Renette</td>\n",
       "      <td>NaN</td>\n",
       "      <td>NaN</td>\n",
       "      <td>Delmas32, Rue Petion#7</td>\n",
       "      <td>5. Institution Mixte Espoir</td>\n",
       "      <td>01:00.0</td>\n",
       "      <td>Pierre Renette</td>\n",
       "      <td>NaN</td>\n",
       "      <td>...</td>\n",
       "      <td>1</td>\n",
       "      <td>0</td>\n",
       "      <td>0</td>\n",
       "      <td>0</td>\n",
       "      <td>0</td>\n",
       "      <td>0</td>\n",
       "      <td>0</td>\n",
       "      <td>0</td>\n",
       "      <td>0</td>\n",
       "      <td>0</td>\n",
       "    </tr>\n",
       "  </tbody>\n",
       "</table>\n",
       "<p>5 rows × 101 columns</p>\n",
       "</div>"
      ],
      "text/plain": [
       "        Date MOUN Y AP POZE KESYON YO.  Non chèf kay la. Non pwofesè a.  \\\n",
       "1  3/21/2018                   1. Elèv    Guicio Pricien            NaN   \n",
       "2  3/21/2018                   1. Elèv      Pierre AUBRY            NaN   \n",
       "3  3/21/2018                   1. Elèv  Cherestal simone            NaN   \n",
       "4  3/21/2018                   1. Elèv     Auis Carousse            NaN   \n",
       "5  3/21/2018                   1. Elèv    Pierre Renette            NaN   \n",
       "\n",
       "  Non direktè a    Zòn kote moun nan rete a.           Nan ki lekòl ou ye  \\\n",
       "1           NaN                       Corail  5. Institution Mixte Espoir   \n",
       "2           NaN                    Delmas 65  5. Institution Mixte Espoir   \n",
       "3           NaN       Delmas 32 rue victoire  5. Institution Mixte Espoir   \n",
       "4           NaN  Delmas 32,Rue Jean Baptiste  5. Institution Mixte Espoir   \n",
       "5           NaN       Delmas32, Rue Petion#7  5. Institution Mixte Espoir   \n",
       "\n",
       "  DAT ENTEVYOU A AK LE LI KOUMANSE.  \\\n",
       "1                           00:00.0   \n",
       "2                           01:00.0   \n",
       "3                           59:00.0   \n",
       "4                           58:00.0   \n",
       "5                           01:00.0   \n",
       "\n",
       "  Non papa oubyen manman oubyen Gadyen an. 1  \\\n",
       "1                             Guicio Pricien   \n",
       "2      Pierre  Aubry ak Tamara Loiseau Aubry   \n",
       "3                           Cherestal simone   \n",
       "4                             Sophia Gabriel   \n",
       "5                             Pierre Renette   \n",
       "\n",
       "  Non papa oubyen manman oubyen Gadyen an. 2            ...             \\\n",
       "1                                        NaN            ...              \n",
       "2                                        NaN            ...              \n",
       "3                                        NaN            ...              \n",
       "4                                        NaN            ...              \n",
       "5                                        NaN            ...              \n",
       "\n",
       "  Sa moun lan ap fè poul ka pran swen tèt li 1/pap travay  \\\n",
       "1                                                  0        \n",
       "2                                                  0        \n",
       "3                                                  0        \n",
       "4                                                  0        \n",
       "5                                                  1        \n",
       "\n",
       "  Sa moun lan ap fè poul ka pran swen tèt li 1/elèv  \\\n",
       "1                                                 0   \n",
       "2                                                 0   \n",
       "3                                                 0   \n",
       "4                                                 0   \n",
       "5                                                 0   \n",
       "\n",
       "  Sa moun lan ap fè poul ka pran swen tèt li 1/ap trvay  \\\n",
       "1                                                  1      \n",
       "2                                                  1      \n",
       "3                                                  1      \n",
       "4                                                  1      \n",
       "5                                                  0      \n",
       "\n",
       "  Sa moun lan ap fè poul ka pran swen tèt li 1/ap fè komès  \\\n",
       "1                                                  0         \n",
       "2                                                  0         \n",
       "3                                                  0         \n",
       "4                                                  0         \n",
       "5                                                  0         \n",
       "\n",
       "  Sa moun lan ap fè poul ka pran swen tèt li 1/lòt  \\\n",
       "1                                                0   \n",
       "2                                                0   \n",
       "3                                                0   \n",
       "4                                                0   \n",
       "5                                                0   \n",
       "\n",
       "  Eta Sivil moun nan. 1/selibatè Eta Sivil moun nan. 1/marye  \\\n",
       "1                              0                           0   \n",
       "2                              0                           0   \n",
       "3                              0                           0   \n",
       "4                              0                           0   \n",
       "5                              0                           0   \n",
       "\n",
       "  Eta Sivil moun nan. 1/Plase Eta Sivil moun nan. 1/Divòse  \\\n",
       "1                           0                            0   \n",
       "2                           0                            0   \n",
       "3                           0                            0   \n",
       "4                           0                            0   \n",
       "5                           0                            0   \n",
       "\n",
       "  Eta Sivil moun nan. 1/Vèf  \n",
       "1                         0  \n",
       "2                         0  \n",
       "3                         0  \n",
       "4                         0  \n",
       "5                         0  \n",
       "\n",
       "[5 rows x 101 columns]"
      ]
     },
     "execution_count": 52,
     "metadata": {},
     "output_type": "execute_result"
    }
   ],
   "source": [
    "df.head()"
   ]
  },
  {
   "cell_type": "code",
   "execution_count": 22,
   "metadata": {},
   "outputs": [],
   "source": [
    "def count_freq_simple_answer(dframe, col_name):\n",
    "    response_frequencies = {}\n",
    "    col = dframe[col_name]\n",
    "    for entry in col:\n",
    "        if entry in response_frequencies.keys():\n",
    "            response_frequencies[entry] = response_frequencies[entry] + 1\n",
    "        else:\n",
    "            response_frequencies[entry] = 1\n",
    "    col_name_df = pd.DataFrame(list(response_frequencies.items()), columns =['response', 'frequency'])\n",
    "    print(col_name_df)\n",
    "    return col_name_df            "
   ]
  },
  {
   "cell_type": "code",
   "execution_count": 60,
   "metadata": {},
   "outputs": [
    {
     "name": "stdout",
     "output_type": "stream",
     "text": [
      "  response  frequency\n",
      "0       Fi        462\n",
      "1    Gason        316\n"
     ]
    }
   ],
   "source": [
    "r = count_freq_simple_answer(df, 'sex')"
   ]
  },
  {
   "cell_type": "code",
   "execution_count": 61,
   "metadata": {},
   "outputs": [
    {
     "data": {
      "text/html": [
       "<div>\n",
       "<style scoped>\n",
       "    .dataframe tbody tr th:only-of-type {\n",
       "        vertical-align: middle;\n",
       "    }\n",
       "\n",
       "    .dataframe tbody tr th {\n",
       "        vertical-align: top;\n",
       "    }\n",
       "\n",
       "    .dataframe thead th {\n",
       "        text-align: right;\n",
       "    }\n",
       "</style>\n",
       "<table border=\"1\" class=\"dataframe\">\n",
       "  <thead>\n",
       "    <tr style=\"text-align: right;\">\n",
       "      <th></th>\n",
       "      <th>response</th>\n",
       "      <th>frequency</th>\n",
       "    </tr>\n",
       "  </thead>\n",
       "  <tbody>\n",
       "    <tr>\n",
       "      <th>0</th>\n",
       "      <td>Fi</td>\n",
       "      <td>462</td>\n",
       "    </tr>\n",
       "    <tr>\n",
       "      <th>1</th>\n",
       "      <td>Gason</td>\n",
       "      <td>316</td>\n",
       "    </tr>\n",
       "  </tbody>\n",
       "</table>\n",
       "</div>"
      ],
      "text/plain": [
       "  response  frequency\n",
       "0       Fi        462\n",
       "1    Gason        316"
      ]
     },
     "execution_count": 61,
     "metadata": {},
     "output_type": "execute_result"
    }
   ],
   "source": [
    "r"
   ]
  },
  {
   "cell_type": "code",
   "execution_count": 131,
   "metadata": {},
   "outputs": [],
   "source": [
    "def plot_g(sub):\n",
    "    x = list(sub['response'])\n",
    "    y = list(sub['frequency'])\n",
    "    ind = np.arange(len(y))\n",
    "    plt.bar(ind, y)\n",
    "    plt.xticks(ind, x, rotation=60)\n",
    "    plt.show()"
   ]
  },
  {
   "cell_type": "code",
   "execution_count": 132,
   "metadata": {},
   "outputs": [
    {
     "data": {
      "image/png": "[encoded data removed]",
      "text/plain": [
       "<matplotlib.figure.Figure at 0xf1237b8>"
      ]
     },
     "metadata": {},
     "output_type": "display_data"
    }
   ],
   "source": [
    "plot_g(r)"
   ]
  },
  {
   "cell_type": "code",
   "execution_count": 56,
   "metadata": {},
   "outputs": [
    {
     "data": {
      "text/plain": [
       "462"
      ]
     },
     "execution_count": 56,
     "metadata": {},
     "output_type": "execute_result"
    }
   ],
   "source": [
    "r['Fi']"
   ]
  },
  {
   "cell_type": "code",
   "execution_count": 57,
   "metadata": {},
   "outputs": [
    {
     "data": {
      "text/plain": [
       "316"
      ]
     },
     "execution_count": 57,
     "metadata": {},
     "output_type": "execute_result"
    }
   ],
   "source": [
    "r['Gason']"
   ]
  },
  {
   "cell_type": "code",
   "execution_count": 58,
   "metadata": {},
   "outputs": [
    {
     "data": {
      "text/plain": [
       "778"
      ]
     },
     "execution_count": 58,
     "metadata": {},
     "output_type": "execute_result"
    }
   ],
   "source": [
    "int(r['Fi']) + int(r['Gason'])"
   ]
  },
  {
   "cell_type": "code",
   "execution_count": 21,
   "metadata": {},
   "outputs": [],
   "source": [
    "def count_freq_multiple_answer(dframe, col_name, patterns):\n",
    "    response_frequencies = {}\n",
    "    col = dframe[col_name]\n",
    "    print(len(list(col)))\n",
    "    for entry in col:\n",
    "        for pattern in patterns:\n",
    "            if pattern in str(entry):\n",
    "                if pattern in response_frequencies.keys():\n",
    "                    response_frequencies[pattern] = response_frequencies[pattern] + 1\n",
    "                else:\n",
    "                    response_frequencies[pattern] = 1       \n",
    "    col_name_df = pd.DataFrame(list(response_frequencies.items()), columns =['response', 'frequency'])\n",
    "    print(col_name_df)\n",
    "    return col_name_df"
   ]
  },
  {
   "cell_type": "code",
   "execution_count": 74,
   "metadata": {},
   "outputs": [
    {
     "name": "stdout",
     "output_type": "stream",
     "text": [
      "778\n",
      "                 response  frequency\n",
      "0                   Dyare         25\n",
      "1          Doulè nan vant         32\n",
      "2              Pwoblèm po         17\n",
      "3  Okenn nan maladi sa yo        283\n",
      "4           Lavyèf toutan         19\n",
      "5                 Tifoyid          7\n",
      "6                      Vè          6\n",
      "7    Pwoblèm paka respire          8\n"
     ]
    }
   ],
   "source": [
    "r1 = count_freq_multiple_answer(df, 'Nan 6 mwa ki pase yo èske gen moun nan kay la ki soufri maladi sa yo 1',  ['Dyare', 'Tifoyid', 'Pwoblèm po', 'Pwoblèm paka respire', 'Lavyèf toutan', 'Vè', 'Doulè nan vant', 'Okenn nan maladi sa yo'])"
   ]
  },
  {
   "cell_type": "code",
   "execution_count": 72,
   "metadata": {},
   "outputs": [
    {
     "data": {
      "text/plain": [
       "397"
      ]
     },
     "execution_count": 72,
     "metadata": {},
     "output_type": "execute_result"
    }
   ],
   "source": [
    "np.array(r1['frequency']).sum()"
   ]
  },
  {
   "cell_type": "code",
   "execution_count": 75,
   "metadata": {},
   "outputs": [
    {
     "data": {
      "text/html": [
       "<div>\n",
       "<style scoped>\n",
       "    .dataframe tbody tr th:only-of-type {\n",
       "        vertical-align: middle;\n",
       "    }\n",
       "\n",
       "    .dataframe tbody tr th {\n",
       "        vertical-align: top;\n",
       "    }\n",
       "\n",
       "    .dataframe thead th {\n",
       "        text-align: right;\n",
       "    }\n",
       "</style>\n",
       "<table border=\"1\" class=\"dataframe\">\n",
       "  <thead>\n",
       "    <tr style=\"text-align: right;\">\n",
       "      <th></th>\n",
       "      <th>response</th>\n",
       "      <th>frequency</th>\n",
       "    </tr>\n",
       "  </thead>\n",
       "  <tbody>\n",
       "    <tr>\n",
       "      <th>0</th>\n",
       "      <td>Dyare</td>\n",
       "      <td>25</td>\n",
       "    </tr>\n",
       "    <tr>\n",
       "      <th>1</th>\n",
       "      <td>Doulè nan vant</td>\n",
       "      <td>32</td>\n",
       "    </tr>\n",
       "    <tr>\n",
       "      <th>2</th>\n",
       "      <td>Pwoblèm po</td>\n",
       "      <td>17</td>\n",
       "    </tr>\n",
       "    <tr>\n",
       "      <th>3</th>\n",
       "      <td>Okenn nan maladi sa yo</td>\n",
       "      <td>283</td>\n",
       "    </tr>\n",
       "    <tr>\n",
       "      <th>4</th>\n",
       "      <td>Lavyèf toutan</td>\n",
       "      <td>19</td>\n",
       "    </tr>\n",
       "    <tr>\n",
       "      <th>5</th>\n",
       "      <td>Tifoyid</td>\n",
       "      <td>7</td>\n",
       "    </tr>\n",
       "    <tr>\n",
       "      <th>6</th>\n",
       "      <td>Vè</td>\n",
       "      <td>6</td>\n",
       "    </tr>\n",
       "    <tr>\n",
       "      <th>7</th>\n",
       "      <td>Pwoblèm paka respire</td>\n",
       "      <td>8</td>\n",
       "    </tr>\n",
       "  </tbody>\n",
       "</table>\n",
       "</div>"
      ],
      "text/plain": [
       "                 response  frequency\n",
       "0                   Dyare         25\n",
       "1          Doulè nan vant         32\n",
       "2              Pwoblèm po         17\n",
       "3  Okenn nan maladi sa yo        283\n",
       "4           Lavyèf toutan         19\n",
       "5                 Tifoyid          7\n",
       "6                      Vè          6\n",
       "7    Pwoblèm paka respire          8"
      ]
     },
     "execution_count": 75,
     "metadata": {},
     "output_type": "execute_result"
    }
   ],
   "source": [
    "r1"
   ]
  },
  {
   "cell_type": "code",
   "execution_count": 133,
   "metadata": {},
   "outputs": [
    {
     "data": {
      "image/png": "[encoded data removed]",
      "text/plain": [
       "<matplotlib.figure.Figure at 0xf103cf8>"
      ]
     },
     "metadata": {},
     "output_type": "display_data"
    }
   ],
   "source": [
    "plot_g(r1)"
   ]
  },
  {
   "cell_type": "markdown",
   "metadata": {},
   "source": [
    "# Enfòmasyon sou dlo"
   ]
  },
  {
   "cell_type": "code",
   "execution_count": 78,
   "metadata": {},
   "outputs": [
    {
     "name": "stdout",
     "output_type": "stream",
     "text": [
      "778\n",
      "                                 response  frequency\n",
      "0       Dlo pui ki pwoteje/ki gen kouvèti        322\n",
      "1           Dlo nan boutèy/ Sachè / Galon        769\n",
      "2      Dlo nan sitèn ki pwoteje/ki kouvri        314\n",
      "3                              Dlo kamyon        373\n",
      "4                    Dlo lapli yo ranmase         27\n",
      "5        Machann kap vann dlo (nan bokit)          9\n",
      "6                             Tiyo piblik        199\n",
      "7                 Dlo nan tiyo nan kay la        308\n",
      "8  Dlo pwi ki pa pwoteje/ki pa gen kouvri          1\n"
     ]
    }
   ],
   "source": [
    "r2 = count_freq_multiple_answer(df, 'Ki kote dlo pou moun bwè san pwoblèm san danje san nou pa pè ka soti',  ['Dlo nan boutèy/ Sachè / Galon', 'Dlo nan tiyo nan kay la', 'Dlo kamyon', 'Tiyo piblik', 'Dlo pui ki pwoteje/ki gen kouvèti', 'Dlo nan sitèn ki pwoteje/ki kouvri', 'Dlo lapli yo ranmase', 'Dlo pwi ki pa pwoteje/ki pa gen kouvri', 'Dlo nan sitèn ki pa pwoteje/ki pa kouvri', 'Machann kap vann dlo (nan bokit)'])"
   ]
  },
  {
   "cell_type": "code",
   "execution_count": 79,
   "metadata": {},
   "outputs": [
    {
     "data": {
      "text/html": [
       "<div>\n",
       "<style scoped>\n",
       "    .dataframe tbody tr th:only-of-type {\n",
       "        vertical-align: middle;\n",
       "    }\n",
       "\n",
       "    .dataframe tbody tr th {\n",
       "        vertical-align: top;\n",
       "    }\n",
       "\n",
       "    .dataframe thead th {\n",
       "        text-align: right;\n",
       "    }\n",
       "</style>\n",
       "<table border=\"1\" class=\"dataframe\">\n",
       "  <thead>\n",
       "    <tr style=\"text-align: right;\">\n",
       "      <th></th>\n",
       "      <th>response</th>\n",
       "      <th>frequency</th>\n",
       "    </tr>\n",
       "  </thead>\n",
       "  <tbody>\n",
       "    <tr>\n",
       "      <th>0</th>\n",
       "      <td>Dlo pui ki pwoteje/ki gen kouvèti</td>\n",
       "      <td>322</td>\n",
       "    </tr>\n",
       "    <tr>\n",
       "      <th>1</th>\n",
       "      <td>Dlo nan boutèy/ Sachè / Galon</td>\n",
       "      <td>769</td>\n",
       "    </tr>\n",
       "    <tr>\n",
       "      <th>2</th>\n",
       "      <td>Dlo nan sitèn ki pwoteje/ki kouvri</td>\n",
       "      <td>314</td>\n",
       "    </tr>\n",
       "    <tr>\n",
       "      <th>3</th>\n",
       "      <td>Dlo kamyon</td>\n",
       "      <td>373</td>\n",
       "    </tr>\n",
       "    <tr>\n",
       "      <th>4</th>\n",
       "      <td>Dlo lapli yo ranmase</td>\n",
       "      <td>27</td>\n",
       "    </tr>\n",
       "    <tr>\n",
       "      <th>5</th>\n",
       "      <td>Machann kap vann dlo (nan bokit)</td>\n",
       "      <td>9</td>\n",
       "    </tr>\n",
       "    <tr>\n",
       "      <th>6</th>\n",
       "      <td>Tiyo piblik</td>\n",
       "      <td>199</td>\n",
       "    </tr>\n",
       "    <tr>\n",
       "      <th>7</th>\n",
       "      <td>Dlo nan tiyo nan kay la</td>\n",
       "      <td>308</td>\n",
       "    </tr>\n",
       "    <tr>\n",
       "      <th>8</th>\n",
       "      <td>Dlo pwi ki pa pwoteje/ki pa gen kouvri</td>\n",
       "      <td>1</td>\n",
       "    </tr>\n",
       "  </tbody>\n",
       "</table>\n",
       "</div>"
      ],
      "text/plain": [
       "                                 response  frequency\n",
       "0       Dlo pui ki pwoteje/ki gen kouvèti        322\n",
       "1           Dlo nan boutèy/ Sachè / Galon        769\n",
       "2      Dlo nan sitèn ki pwoteje/ki kouvri        314\n",
       "3                              Dlo kamyon        373\n",
       "4                    Dlo lapli yo ranmase         27\n",
       "5        Machann kap vann dlo (nan bokit)          9\n",
       "6                             Tiyo piblik        199\n",
       "7                 Dlo nan tiyo nan kay la        308\n",
       "8  Dlo pwi ki pa pwoteje/ki pa gen kouvri          1"
      ]
     },
     "execution_count": 79,
     "metadata": {},
     "output_type": "execute_result"
    }
   ],
   "source": [
    "\"\"\"0. Dlo nan boutèy/ Sachè / Galon\n",
    "1. Dlo nan tiyo nan kay la.\n",
    "2. Dlo kamyon\n",
    "3. Tiyo piblik\n",
    "4. Dlo pui ki pwoteje/ki gen kouvèti\n",
    "5. Dlo nan sitèn ki pwoteje/ki kouvri\n",
    "6. Dlo lapli yo ranmase\n",
    "7. Dlo pwi ki pa pwoteje/ki pa gen kouvri\n",
    "8. Dlo nan sitèn ki pa pwoteje/ki pa kouvri\n",
    "9. Machann kap vann dlo (nan bokit).\n",
    "\"\"\"\n",
    "r2"
   ]
  },
  {
   "cell_type": "code",
   "execution_count": 134,
   "metadata": {},
   "outputs": [
    {
     "data": {
      "image/png": "[encoded data removed]",
      "text/plain": [
       "<matplotlib.figure.Figure at 0x111bbf28>"
      ]
     },
     "metadata": {},
     "output_type": "display_data"
    }
   ],
   "source": [
    "plot_g(r2)"
   ]
  },
  {
   "cell_type": "code",
   "execution_count": 80,
   "metadata": {},
   "outputs": [
    {
     "name": "stdout",
     "output_type": "stream",
     "text": [
      "778\n",
      "                             response  frequency\n",
      "0  Dlo nan sitèn ki pwoteje/ki kouvri         10\n",
      "1   Dlo trete nan boutèy/ Sachè/Galon        753\n",
      "2             Dlo nan tiyo nan kay la          3\n",
      "3                         Tiyo piblik         10\n",
      "4                          Dlo kamyon          2\n"
     ]
    }
   ],
   "source": [
    "r3 = count_freq_multiple_answer(df, 'Ki dlo ou toujou bwè', \\\n",
    "                                ['Dlo trete nan boutèy/ Sachè/Galon', 'Dlo nan tiyo nan kay la',\\\n",
    "                                 'Dlo kamyon', 'Tiyo piblik', 'Dlo pwi ki pwoteje/ki gen kouvèti',\\\n",
    "                                 'Dlo nan sitèn ki pwoteje/ki kouvri', 'Dlo lapli yo ranmase',\\\n",
    "                                 'Dlo pwi ki pa pwoteje/ ki pa gen kouvèti',\\\n",
    "                                 'Dlo nan sitèn ki pa pwoteje/ki pa kouvri',\\\n",
    "                                 'Dlo sitèn ki pa pwoteje/ki pa gen kouvèti'])"
   ]
  },
  {
   "cell_type": "code",
   "execution_count": 135,
   "metadata": {},
   "outputs": [
    {
     "data": {
      "image/png": "[encoded data removed]",
      "text/plain": [
       "<matplotlib.figure.Figure at 0x1122ec50>"
      ]
     },
     "metadata": {},
     "output_type": "display_data"
    }
   ],
   "source": [
    "plot_g(r3)"
   ]
  },
  {
   "cell_type": "code",
   "execution_count": 81,
   "metadata": {},
   "outputs": [
    {
     "name": "stdout",
     "output_type": "stream",
     "text": [
      "                                response  frequency\n",
      "0                                    NaN        742\n",
      "1   0. Dlo trete nan boutèy/ Sachè/Galon         33\n",
      "2   4. Dlo pwi ki pwoteje/ki gen kouvèti          2\n",
      "3  5. Dlo nan sitèn ki pwoteje/ki kouvri          1\n"
     ]
    }
   ],
   "source": [
    "r4 = count_freq_simple_answer(df, 'Ki dlo ou ankouraje paran yo ak elèv yo bwè')"
   ]
  },
  {
   "cell_type": "code",
   "execution_count": 136,
   "metadata": {},
   "outputs": [
    {
     "data": {
      "image/png": "[encoded data removed]",
      "text/plain": [
       "<matplotlib.figure.Figure at 0x1123e4a8>"
      ]
     },
     "metadata": {},
     "output_type": "display_data"
    }
   ],
   "source": [
    "plot_g(r4)"
   ]
  },
  {
   "cell_type": "code",
   "execution_count": 82,
   "metadata": {},
   "outputs": [
    {
     "name": "stdout",
     "output_type": "stream",
     "text": [
      "                               response  frequency\n",
      "0                                   NaN        412\n",
      "1  0. Dlo trete nan boutèy/ Sachè/Galon        365\n",
      "2                         2. Dlo kamyon          1\n"
     ]
    }
   ],
   "source": [
    "r5 = count_freq_simple_answer(df, 'Ki dlo ou ankouraje pitit ou bwè')"
   ]
  },
  {
   "cell_type": "code",
   "execution_count": 137,
   "metadata": {},
   "outputs": [
    {
     "data": {
      "image/png": "[encoded data removed]",
      "text/plain": [
       "<matplotlib.figure.Figure at 0x1123ea58>"
      ]
     },
     "metadata": {},
     "output_type": "display_data"
    }
   ],
   "source": [
    "plot_g(r5)"
   ]
  },
  {
   "cell_type": "code",
   "execution_count": 83,
   "metadata": {},
   "outputs": [
    {
     "name": "stdout",
     "output_type": "stream",
     "text": [
      "                                            response  frequency\n",
      "0                                                NaN        370\n",
      "1                            1. Dlo klore oswa filre        299\n",
      "2  0. Dlo pwòp (dlo lapli,dlo kamyon,dlo tiyo,dlo...        107\n",
      "3                                  2. Dlo ki pa pwòp          2\n"
     ]
    }
   ],
   "source": [
    "#Ak ki dlo ou lave men w\n",
    "r6 = count_freq_simple_answer(df, 'Ak ki dlo ou lave men w')"
   ]
  },
  {
   "cell_type": "code",
   "execution_count": 138,
   "metadata": {},
   "outputs": [
    {
     "data": {
      "image/png": "[encoded data removed]",
      "text/plain": [
       "<matplotlib.figure.Figure at 0x111f52b0>"
      ]
     },
     "metadata": {},
     "output_type": "display_data"
    }
   ],
   "source": [
    "plot_g(r6)"
   ]
  },
  {
   "cell_type": "code",
   "execution_count": 84,
   "metadata": {},
   "outputs": [
    {
     "name": "stdout",
     "output_type": "stream",
     "text": [
      "778\n",
      "                                    response  frequency\n",
      "0  Veso ou ka wè byen fasil tout sak anndanl        396\n",
      "1                          Veso ki fèt an fè         28\n",
      "2            Veso ou paka wè sak ladanl byen          8\n",
      "3                        Veso ki fèt ak ajil         18\n"
     ]
    }
   ],
   "source": [
    "\"\"\"\n",
    "0. Veso ou paka wè sak ladanl byen\n",
    "1. Veso ou ka wè byen fasil tout sak anndanl\n",
    "2. Veso ki fèt an fè\n",
    "3. Veso ki fèt ak ajil\n",
    "\"\"\"\n",
    "r7 = count_freq_multiple_answer(df, 'Ki veso ki pi bon pou nou mete dlo pou moun bwè', \\\n",
    "                                ['Veso ou paka wè sak ladanl byen',\\\n",
    "                                 'Veso ou ka wè byen fasil tout sak anndanl', \\\n",
    "                                 'Veso ki fèt an fè',\\\n",
    "                                 'Veso ki fèt ak ajil'])\n"
   ]
  },
  {
   "cell_type": "code",
   "execution_count": 139,
   "metadata": {},
   "outputs": [
    {
     "data": {
      "image/png": "[encoded data removed]",
      "text/plain": [
       "<matplotlib.figure.Figure at 0x1228eba8>"
      ]
     },
     "metadata": {},
     "output_type": "display_data"
    }
   ],
   "source": [
    "plot_g(r7)"
   ]
  },
  {
   "cell_type": "code",
   "execution_count": 85,
   "metadata": {},
   "outputs": [
    {
     "name": "stdout",
     "output_type": "stream",
     "text": [
      "778\n",
      "                                    response  frequency\n",
      "0  Veso ou ka wè byen fasil tout sak anndanl        392\n",
      "1                          Veso ki fèt an fè         30\n",
      "2            Veso ou paka wè sak ladanl byen         21\n",
      "3                        Veso ki fèt ak ajil         23\n"
     ]
    }
   ],
   "source": [
    "\n",
    "\"\"\"\n",
    "0. Veso ou paka wè sak ladanl byen\n",
    "1. Veso ou ka wè byen fasil tout sak anndanl\n",
    "2. Veso ki fèt an fè\n",
    "3. Veso ki fèt ak ajil\n",
    "\"\"\"\n",
    "r7 = count_freq_multiple_answer(df, 'Nan Ki veso nou mete dlo pou nou bwè Fè moun nan baw wè veso a epi chwazi repons ki pi bon an', \\\n",
    "                                ['Veso ou paka wè sak ladanl byen',\\\n",
    "                                 'Veso ou ka wè byen fasil tout sak anndanl', \\\n",
    "                                 'Veso ki fèt an fè',\\\n",
    "                                 'Veso ki fèt ak ajil'])\n"
   ]
  },
  {
   "cell_type": "code",
   "execution_count": 140,
   "metadata": {},
   "outputs": [
    {
     "data": {
      "image/png": "[encoded data removed]",
      "text/plain": [
       "<matplotlib.figure.Figure at 0x122af668>"
      ]
     },
     "metadata": {},
     "output_type": "display_data"
    }
   ],
   "source": [
    "plot_g(r7)"
   ]
  },
  {
   "cell_type": "code",
   "execution_count": 86,
   "metadata": {},
   "outputs": [
    {
     "name": "stdout",
     "output_type": "stream",
     "text": [
      "  response  frequency\n",
      "0      NaN        370\n",
      "1   0. Non        313\n",
      "2    1. Wi         95\n"
     ]
    }
   ],
   "source": [
    "r6 = count_freq_simple_answer(df, 'Nan veso nou mete dlo pou bwè a èske men nou konn touche ladan l')"
   ]
  },
  {
   "cell_type": "code",
   "execution_count": 141,
   "metadata": {},
   "outputs": [
    {
     "data": {
      "image/png": "[encoded data removed]",
      "text/plain": [
       "<matplotlib.figure.Figure at 0x111f5390>"
      ]
     },
     "metadata": {},
     "output_type": "display_data"
    }
   ],
   "source": [
    "plot_g(r6)"
   ]
  },
  {
   "cell_type": "code",
   "execution_count": 87,
   "metadata": {},
   "outputs": [],
   "source": [
    "#Èske l bon pou nou al chache dlo pou moun bwè nan veso san kouvri epi men n ap touche ladan l"
   ]
  },
  {
   "cell_type": "code",
   "execution_count": 88,
   "metadata": {},
   "outputs": [
    {
     "name": "stdout",
     "output_type": "stream",
     "text": [
      "  response  frequency\n",
      "0      NaN        372\n",
      "1   0. Non        376\n",
      "2    1. Wi         30\n"
     ]
    }
   ],
   "source": [
    "r6 = count_freq_simple_answer(df, 'Èske l bon pou nou al chache dlo pou moun bwè nan veso san kouvri epi men n ap touche ladan l')"
   ]
  },
  {
   "cell_type": "code",
   "execution_count": 89,
   "metadata": {},
   "outputs": [
    {
     "name": "stdout",
     "output_type": "stream",
     "text": [
      "                                 response  frequency\n",
      "0   1.Trete l ak klowòks ki fèt an likid.        248\n",
      "1  0. Trete l ak klowòks ki fèt an grenn.        447\n",
      "2  2. Trete l nan aparèy ki filtre dlo a.         47\n",
      "3                          3. Bouyi dlo a         32\n",
      "4                       5. Pa tretel menm          3\n",
      "5                   4. Trete l nan solèy.          1\n"
     ]
    }
   ],
   "source": [
    "r6 = count_freq_simple_answer(df, 'Ki mwayen ou itilize pi souvan pou trete dlo lakay ou')"
   ]
  },
  {
   "cell_type": "code",
   "execution_count": 90,
   "metadata": {},
   "outputs": [
    {
     "name": "stdout",
     "output_type": "stream",
     "text": [
      "                                response  frequency\n",
      "0                                    NaN        709\n",
      "1                   0. Pwodwi yo twò chè         10\n",
      "2                      3. Sa pa enpòtan.          4\n",
      "3  2. Mwen pa jwenn pwodwi yo lakay mwen         54\n",
      "4   1. Mwen pa konnen kòman pou m fè sa.          1\n"
     ]
    }
   ],
   "source": [
    "r6 = count_freq_simple_answer(df, 'Ki rezon ki konn fè w pa trete dlo ou konn bwè yo')"
   ]
  },
  {
   "cell_type": "code",
   "execution_count": 91,
   "metadata": {},
   "outputs": [
    {
     "name": "stdout",
     "output_type": "stream",
     "text": [
      "           response  frequency\n",
      "0               NaN        374\n",
      "1         1. Maladi        401\n",
      "2  2. Yon bòn sante          3\n"
     ]
    }
   ],
   "source": [
    "r6 = count_freq_simple_answer(df, 'Kisa ki ka rive si nou mete dlo pou bwè nan yon veso ki pa pwòp epi ki pa kouvri')"
   ]
  },
  {
   "cell_type": "code",
   "execution_count": 92,
   "metadata": {},
   "outputs": [
    {
     "name": "stdout",
     "output_type": "stream",
     "text": [
      "                        response  frequency\n",
      "0                            NaN        370\n",
      "1  2. 30 minit aprè l fin trete.        349\n",
      "2  1. 10 minit aprè l fin trete.         56\n",
      "3              3. Mwen pa konnen          3\n"
     ]
    }
   ],
   "source": [
    "r6 = count_freq_simple_answer(df, 'Aprè konbyen tan yon moun ka bwè yon dlo ki trete ak klowòks san danje')"
   ]
  },
  {
   "cell_type": "code",
   "execution_count": 94,
   "metadata": {},
   "outputs": [
    {
     "name": "stdout",
     "output_type": "stream",
     "text": [
      "                       response  frequency\n",
      "0  1. M'ap chèche dlo ki trete.        773\n",
      "1                           NaN          1\n",
      "2       2. M'ap bwè nenpòt dlo.          4\n"
     ]
    }
   ],
   "source": [
    "r6 = count_freq_simple_answer(df, 'Si w gen yon gwo swaf nan lari kisa w ap fè')"
   ]
  },
  {
   "cell_type": "code",
   "execution_count": 95,
   "metadata": {},
   "outputs": [
    {
     "name": "stdout",
     "output_type": "stream",
     "text": [
      "                                            response  frequency\n",
      "0  1. M'ap chache yon latrin kay yon moun oubyen ...        774\n",
      "1       2. M'ap fèl nan lari a oubyen nan yon ravin.          4\n"
     ]
    }
   ],
   "source": [
    "#Si'w gen yon twalèt ki prèske touye w nan lari,kisa w'ap fè\n",
    "r6 = count_freq_simple_answer(df, 'Si w gen yon twalèt ki prèske touye w nan lari kisa w ap fè')"
   ]
  },
  {
   "cell_type": "code",
   "execution_count": 99,
   "metadata": {
    "scrolled": false
   },
   "outputs": [
    {
     "name": "stdout",
     "output_type": "stream",
     "text": [
      "  response  frequency\n",
      "0      NaN        370\n",
      "1    1. Wi        408\n"
     ]
    }
   ],
   "source": [
    "#Eske ou prè pou ou envesti kòb ou pou amelyore kalite dlo yap sèvi nan Kay la\n",
    "r6 = count_freq_simple_answer(df, 'Eske ou prè pou ou envesti kòb ou pou amelyore kalite dlo yap sèvi nan Kay la')"
   ]
  },
  {
   "cell_type": "code",
   "execution_count": 100,
   "metadata": {},
   "outputs": [
    {
     "name": "stdout",
     "output_type": "stream",
     "text": [
      "  response  frequency\n",
      "0      NaN        370\n",
      "1    1. Wi        407\n",
      "2   0. Non          1\n"
     ]
    }
   ],
   "source": [
    "r6 = count_freq_simple_answer(df, 'Eske ou prè pou ou depanse plis pou ou jwenn bon jan dlo nan kominote wap viv')"
   ]
  },
  {
   "cell_type": "code",
   "execution_count": 101,
   "metadata": {},
   "outputs": [
    {
     "name": "stdout",
     "output_type": "stream",
     "text": [
      "  response  frequency\n",
      "0      NaN        371\n",
      "1    1. Wi        375\n",
      "2   0. Non         32\n"
     ]
    }
   ],
   "source": [
    "r6 = count_freq_simple_answer(df, 'Eske ou prè pou ou prete kòb si w pa genyen pou ou jwenn bon jan dlo pouw sèvi')"
   ]
  },
  {
   "cell_type": "markdown",
   "metadata": {},
   "source": [
    "## Enfòmasyon ki gen pou wè ak pwòpte epi ijyèn"
   ]
  },
  {
   "cell_type": "code",
   "execution_count": 102,
   "metadata": {},
   "outputs": [
    {
     "name": "stdout",
     "output_type": "stream",
     "text": [
      "  response  frequency\n",
      "0      NaN        370\n",
      "1    1. Wi        406\n",
      "2   0. Non          2\n"
     ]
    }
   ],
   "source": [
    "r6 = count_freq_simple_answer(df, 'Èskew gen twalèt oubyen latrin lakay ou')"
   ]
  },
  {
   "cell_type": "code",
   "execution_count": 103,
   "metadata": {},
   "outputs": [
    {
     "name": "stdout",
     "output_type": "stream",
     "text": [
      "                                        response  frequency\n",
      "0                                            NaN        712\n",
      "1                       2. Pa gen kote pou m fèl          2\n",
      "2                                         4. Lòt         10\n",
      "3                    3. Gen yon latrin kominotè.         51\n",
      "4  1. Li pa nan lis bagay ki bezwen fèt kounye a          3\n"
     ]
    }
   ],
   "source": [
    "r6 = count_freq_simple_answer(df, 'Pou ki rezon w pa fè yon kote pou moun twalèt oubyen latrin lakay ou')"
   ]
  },
  {
   "cell_type": "code",
   "execution_count": 104,
   "metadata": {},
   "outputs": [
    {
     "name": "stdout",
     "output_type": "stream",
     "text": [
      "                     response  frequency\n",
      "0                         NaN        623\n",
      "1            0. Twalèt piblik        127\n",
      "2  2. Ki ouvri tou pre kay la         24\n",
      "3            3. Lòt (Presize)          4\n"
     ]
    }
   ],
   "source": [
    "r6 = count_freq_simple_answer(df, 'Ki kote w fè bezwen w si w pa gen latrin')"
   ]
  },
  {
   "cell_type": "code",
   "execution_count": 107,
   "metadata": {},
   "outputs": [
    {
     "name": "stdout",
     "output_type": "stream",
     "text": [
      "                                            response  frequency\n",
      "0                                                NaN        775\n",
      "1                                      Kay ton zanmi          1\n",
      "2                                     Kay yon voisin          1\n",
      "3  Map chache rantre lakay mwen oubyen ak jantiyè...          1\n"
     ]
    }
   ],
   "source": [
    "r6 = count_freq_simple_answer(df, 'Pesizyon pou repons lòt ki nan kesyon 37 la.')"
   ]
  },
  {
   "cell_type": "code",
   "execution_count": 108,
   "metadata": {},
   "outputs": [
    {
     "name": "stdout",
     "output_type": "stream",
     "text": [
      "            response  frequency\n",
      "0      1. Bay maladi        769\n",
      "1   2. Yon bòn sante          5\n",
      "2  3. Mwen pa konnen          3\n",
      "3           0. Anyen          1\n"
     ]
    }
   ],
   "source": [
    "r6 = count_freq_simple_answer(df, 'Kisa yon twalèt ki fouye tou pre kote moun pran dlo ka lakoz')"
   ]
  },
  {
   "cell_type": "code",
   "execution_count": 109,
   "metadata": {},
   "outputs": [
    {
     "name": "stdout",
     "output_type": "stream",
     "text": [
      "            response  frequency\n",
      "0   2. Yon bòn sante        541\n",
      "1           0. Anyen        209\n",
      "2  3. Mwen pa konnen         10\n",
      "3      1. Bay maladi         18\n"
     ]
    }
   ],
   "source": [
    "r6 = count_freq_simple_answer(df, 'Kisa yon twalèt ki pwòp epi ki byen kouvri kapab lakoz')"
   ]
  },
  {
   "cell_type": "code",
   "execution_count": 110,
   "metadata": {},
   "outputs": [
    {
     "name": "stdout",
     "output_type": "stream",
     "text": [
      "            response  frequency\n",
      "0      1. Bay maladi        768\n",
      "1  3. Mwen pa konnen          2\n",
      "2       2. Yon sante          2\n",
      "3           0. Anyen          6\n"
     ]
    }
   ],
   "source": [
    "r6 = count_freq_simple_answer(df, 'Kisa fè pipi ak poupou yon kote ki pa pwoteje kapab lakoz')"
   ]
  },
  {
   "cell_type": "code",
   "execution_count": 111,
   "metadata": {},
   "outputs": [
    {
     "name": "stdout",
     "output_type": "stream",
     "text": [
      "                                        response  frequency\n",
      "0     2. M'ap lave menm aprè m'ap manje manje a?        729\n",
      "1  1. M'ap manje manje a aprè sa m'ap lave menm.         47\n",
      "2                               3. Mw pa konnen.          2\n"
     ]
    }
   ],
   "source": [
    "r6 = count_freq_simple_answer(df, 'Si w grangou anpil ou jwenn yon manje kisa w ap fè')"
   ]
  },
  {
   "cell_type": "code",
   "execution_count": 112,
   "metadata": {},
   "outputs": [
    {
     "name": "stdout",
     "output_type": "stream",
     "text": [
      "  response  frequency\n",
      "0      NaN        371\n",
      "1    1. Wi        404\n",
      "2   0. Non          3\n"
     ]
    }
   ],
   "source": [
    "r6 = count_freq_simple_answer(df, 'Eske ou prè pou ou envesti nan kontriksyon bon jan latrin oswa amelyore saw genyen yan')"
   ]
  },
  {
   "cell_type": "code",
   "execution_count": 113,
   "metadata": {},
   "outputs": [
    {
     "name": "stdout",
     "output_type": "stream",
     "text": [
      "  response  frequency\n",
      "0      NaN        371\n",
      "1    1. Wi        405\n",
      "2   0. Non          2\n"
     ]
    }
   ],
   "source": [
    "r6 = count_freq_simple_answer(df, 'Eske ou prè pou depanse plis pou ou ka genyen bon jan latrin')"
   ]
  },
  {
   "cell_type": "code",
   "execution_count": 114,
   "metadata": {},
   "outputs": [
    {
     "name": "stdout",
     "output_type": "stream",
     "text": [
      "  response  frequency\n",
      "0      NaN        370\n",
      "1    1. Wi        375\n",
      "2   0. Non         33\n"
     ]
    }
   ],
   "source": [
    "r6 = count_freq_simple_answer(df, 'Eske ou prè pou prete kòb pou ou ka genyen bon jan latrin')"
   ]
  },
  {
   "cell_type": "markdown",
   "metadata": {},
   "source": [
    "## Pwòpte pou tèt paw"
   ]
  },
  {
   "cell_type": "code",
   "execution_count": 115,
   "metadata": {},
   "outputs": [
    {
     "name": "stdout",
     "output_type": "stream",
     "text": [
      "                     response  frequency\n",
      "0       0. Pou ka santiw byen        176\n",
      "1            2. Sa pa enpòtan          1\n",
      "2  1. Pouka gen yon bòn sante        600\n",
      "3                         NaN          1\n"
     ]
    }
   ],
   "source": [
    "r6 = count_freq_simple_answer(df, 'Poukisa li enpòtan pou yon moun toujou pwòp')"
   ]
  },
  {
   "cell_type": "code",
   "execution_count": 116,
   "metadata": {},
   "outputs": [
    {
     "name": "stdout",
     "output_type": "stream",
     "text": [
      "                                         response  frequency\n",
      "0  1. Pou anpeche maladi oswa pou evite enfeksyon        763\n",
      "1                           0. Pou ka santiw byen         13\n",
      "2                                2. Sa pa enpòtan          2\n"
     ]
    }
   ],
   "source": [
    "r6 = count_freq_simple_answer(df, 'Poukisa li enpòtan pou w lave men w')"
   ]
  },
  {
   "cell_type": "code",
   "execution_count": 117,
   "metadata": {},
   "outputs": [
    {
     "name": "stdout",
     "output_type": "stream",
     "text": [
      "                       response  frequency\n",
      "0               1. Dlo ak savon        764\n",
      "1                  3. Dlo klore         10\n",
      "2  2. Likid ki gen alkòl sèlman          2\n",
      "3                 0. Dlo sèlman          2\n"
     ]
    }
   ],
   "source": [
    "r6 = count_freq_simple_answer(df, 'Kisa yon moun bezwen pou l lave men l')"
   ]
  },
  {
   "cell_type": "code",
   "execution_count": 118,
   "metadata": {},
   "outputs": [
    {
     "name": "stdout",
     "output_type": "stream",
     "text": [
      "778\n",
      "                                       response  frequency\n",
      "0                          Aprèw sot nan twalèt        769\n",
      "1  Aprèw fin netwaye timoun ki fè poupou sou li        563\n",
      "2          Avan w manyen bagay ou pral fè manje        217\n",
      "3                                   Avanw manje        754\n",
      "4                                    Avanw dòmi         13\n",
      "5                     Aprèw fin gade televizyon          2\n",
      "6                               Aprèw fin manje          7\n"
     ]
    }
   ],
   "source": [
    "\"\"\"\n",
    "0. Aprèw sot nan twalèt\n",
    "1. Avanw dòmi\n",
    "2. Avanw manje\n",
    "3. Aprèw fin netwaye timoun ki fè poupou sou li\n",
    "4. Aprèw fin manje\n",
    "5. Aprèw fin gade televizyon\n",
    "6. Avan w manyen bagay ou pral fè manje\n",
    "\"\"\"\n",
    "r7 = count_freq_multiple_answer(df, 'Kilè li pi enpòtan pou yon moun lave men l', \\\n",
    "                                ['Aprèw sot nan twalèt',\\\n",
    "                                 'Avanw dòmi', \\\n",
    "                                 'Avanw manje',\\\n",
    "                                 'Aprèw fin netwaye timoun ki fè poupou sou li',\\\n",
    "                                'Aprèw fin manje',\\\n",
    "                                'Aprèw fin gade televizyon',\\\n",
    "                                'Avan w manyen bagay ou pral fè manje'])"
   ]
  },
  {
   "cell_type": "code",
   "execution_count": 119,
   "metadata": {},
   "outputs": [
    {
     "name": "stdout",
     "output_type": "stream",
     "text": [
      "  response  frequency\n",
      "0    1. Wi        367\n",
      "1      NaN        410\n",
      "2   0. Non          1\n"
     ]
    }
   ],
   "source": [
    "r6 = count_freq_simple_answer(df, 'Eske yo montre nou kijan pou n lave men nou')"
   ]
  },
  {
   "cell_type": "code",
   "execution_count": 120,
   "metadata": {},
   "outputs": [
    {
     "name": "stdout",
     "output_type": "stream",
     "text": [
      "        response  frequency\n",
      "0     0. Satisfè        367\n",
      "1            NaN        409\n",
      "2  1. Pa satisfè          2\n"
     ]
    }
   ],
   "source": [
    "r6 = count_freq_simple_answer(df, 'Eske w satisfè nan fason yo fè pwomosyon ijyèn nan lekòl la')"
   ]
  },
  {
   "cell_type": "code",
   "execution_count": 122,
   "metadata": {},
   "outputs": [
    {
     "name": "stdout",
     "output_type": "stream",
     "text": [
      "778\n",
      "                                    response  frequency\n",
      "0                            Manje manje kri        349\n",
      "1                           Dlo kim pa trete        724\n",
      "2                         Manje ki kontamine        551\n",
      "3                             Men ki pa pwòp        515\n",
      "4  Twalèt bò kay moun oswa nan lari ak ravin         36\n"
     ]
    }
   ],
   "source": [
    "\"\"\"\n",
    "1. Dlo kim pa trete.\n",
    "2. Manje ki kontamine.\n",
    "3. Men ki pa pwòp.\n",
    "4. Manje manje kri.\n",
    "5. Twalèt bò kay moun oswa nan lari ak ravin.\n",
    "6. Mw pa konnen.\n",
    "\"\"\"\n",
    "r7 = count_freq_multiple_answer(df, 'Kisa ki ka bay yon moun dyare', \\\n",
    "                                ['Dlo kim pa trete',\\\n",
    "                                 'Manje ki kontamine', \\\n",
    "                                 'Men ki pa pwòp',\\\n",
    "                                 'Manje manje kri',\\\n",
    "                                'Twalèt bò kay moun oswa nan lari ak ravin',\\\n",
    "                                'Mw pa konnen'])"
   ]
  },
  {
   "cell_type": "markdown",
   "metadata": {},
   "source": [
    "## Ijyèn alimantè"
   ]
  },
  {
   "cell_type": "code",
   "execution_count": 123,
   "metadata": {},
   "outputs": [
    {
     "name": "stdout",
     "output_type": "stream",
     "text": [
      "                       response  frequency\n",
      "0  0. Pou pwoteje yo konn mouch        371\n",
      "1        2. Pou yo ka san danje        105\n",
      "2    1. Pou pwoteje yo konn bèt        301\n",
      "3                           NaN          1\n"
     ]
    }
   ],
   "source": [
    "r6 = count_freq_simple_answer(df, 'Poukisa li enpòtan pou n kouvri manje yo')"
   ]
  },
  {
   "cell_type": "code",
   "execution_count": 124,
   "metadata": {},
   "outputs": [
    {
     "name": "stdout",
     "output_type": "stream",
     "text": [
      "       response  frequency\n",
      "0  0. Mwen dakò        778\n"
     ]
    }
   ],
   "source": [
    "r6 = count_freq_simple_answer(df, 'Legim yo ak fwi yo dwe toujou lave avan yo manje yo.')"
   ]
  },
  {
   "cell_type": "markdown",
   "metadata": {},
   "source": [
    "## Jere Fatra"
   ]
  },
  {
   "cell_type": "code",
   "execution_count": 125,
   "metadata": {},
   "outputs": [
    {
     "name": "stdout",
     "output_type": "stream",
     "text": [
      "                           response  frequency\n",
      "0                               NaN        370\n",
      "1                   1. Kamyon fatra        161\n",
      "2  2. Nan zòn piblik pou mete fatra         67\n",
      "3                     3. Nou boubèl        168\n",
      "4       4. Nan rivyè oswa nan ravin          9\n",
      "5                    0. Nenpòt kote          3\n"
     ]
    }
   ],
   "source": [
    "r6 = count_freq_simple_answer(df, 'ki kote nou dwe jete fatra')"
   ]
  },
  {
   "cell_type": "code",
   "execution_count": 126,
   "metadata": {},
   "outputs": [
    {
     "name": "stdout",
     "output_type": "stream",
     "text": [
      "            response  frequency\n",
      "0       0. Mwen dakò        775\n",
      "1  2. Mwen pa konnen          3\n"
     ]
    }
   ],
   "source": [
    "r6 = count_freq_simple_answer(df, 'Eske fatra ki mal jere ka bay maladi')"
   ]
  },
  {
   "cell_type": "code",
   "execution_count": 127,
   "metadata": {},
   "outputs": [
    {
     "name": "stdout",
     "output_type": "stream",
     "text": [
      "                                            response  frequency\n",
      "0                                1. Jete l tout kote          3\n",
      "1  2. Jete l nan yon tiyo ki ale ak dlo oswa yon ...        644\n",
      "2                     0. Itilize pou vide nan twalèt        131\n"
     ]
    }
   ],
   "source": [
    "r6 = count_freq_simple_answer(df, 'Kòman nou jere dlo ki pa bon yo')"
   ]
  },
  {
   "cell_type": "code",
   "execution_count": 128,
   "metadata": {},
   "outputs": [
    {
     "name": "stdout",
     "output_type": "stream",
     "text": [
      "  response  frequency\n",
      "0    1. Wi        360\n",
      "1      NaN        409\n",
      "2   0. Non          9\n"
     ]
    }
   ],
   "source": [
    "r6 = count_freq_simple_answer(df, 'Eske nou vle ankouraje paran nou pou pran desizyon ki ka pèmèt nou aplike tout règ ijèn yo')"
   ]
  },
  {
   "cell_type": "code",
   "execution_count": 129,
   "metadata": {},
   "outputs": [
    {
     "name": "stdout",
     "output_type": "stream",
     "text": [
      "  response  frequency\n",
      "0    1. Wi        333\n",
      "1      NaN        409\n",
      "2   0. Non         36\n"
     ]
    }
   ],
   "source": [
    "r6 = count_freq_simple_answer(df, 'Eske paran nou deja pran kèk desizyon sou kesyon ijèn')"
   ]
  },
  {
   "cell_type": "code",
   "execution_count": 23,
   "metadata": {},
   "outputs": [
    {
     "name": "stdout",
     "output_type": "stream",
     "text": [
      "  response  frequency\n",
      "0    1. Wi        333\n",
      "1      NaN        409\n",
      "2   0. Non         36\n"
     ]
    }
   ],
   "source": [
    "r6 = count_freq_simple_answer(df, 'Eske paran nou deja pran kèk desizyon sou kesyon ijèn')"
   ]
  },
  {
   "cell_type": "code",
   "execution_count": 25,
   "metadata": {},
   "outputs": [
    {
     "name": "stdout",
     "output_type": "stream",
     "text": [
      "Date\n",
      "MOUN Y AP POZE KESYON YO.\n",
      "Non chèf kay la.\n",
      "Non pwofesè a.\n",
      "Non direktè a\n",
      "Zòn kote moun nan rete a.\n",
      "Nan ki lekòl ou ye\n",
      "DAT ENTEVYOU A AK LE LI KOUMANSE.\n",
      "Non papa oubyen manman oubyen Gadyen an. 1\n",
      "Non papa oubyen manman oubyen Gadyen an. 2\n",
      "Sèks 1\n",
      "Sèks 2\n",
      "Kilè ou fèt 1\n",
      "Kilè ou fèt 2\n",
      "Relasyon ak moun kap dirije kay la 1\n",
      "Relasyon ak moun kap dirije kay la 2\n",
      "Nivo edikasyon 1\n",
      "Nivo edikasyon 2\n",
      "Sa moun lan ap fè poul ka pran swen tèt li 1\n",
      "Sa moun lan ap fè poul ka pran swen tèt li 2\n",
      "Eta Sivil moun nan. 1\n",
      "Eta Sivil moun nan. 2\n",
      "Nan 6 mwa ki pase yo èske gen moun nan kay la ki soufri maladi sa yo 1\n",
      "Nan 6 mwa ki pase yo èske gen moun nan kay la ki soufri maladi sa yo 2\n",
      "Ki kote dlo pou moun bwè san pwoblèm san danje san nou pa pè ka soti\n",
      "Ki dlo ou toujou bwè\n",
      "Ki dlo ou ankouraje paran yo ak elèv yo bwè\n",
      "Ki dlo ou ankouraje pitit ou bwè\n",
      "Ak ki dlo ou lave men w\n",
      "Ki veso ki pi bon pou nou mete dlo pou moun bwè\n",
      "Nan Ki veso nou mete dlo pou nou bwè Fè moun nan baw wè veso a epi chwazi repons ki pi bon an\n",
      "Nan veso nou mete dlo pou bwè a èske men nou konn touche ladan l\n",
      "Èske l bon pou nou al chache dlo pou moun bwè nan veso san kouvri epi men n ap touche ladan l\n",
      "Ki mwayen ou itilize pi souvan pou trete dlo lakay ou\n",
      "Ki rezon ki konn fè w pa trete dlo ou konn bwè yo\n",
      "Kisa ki ka rive si nou mete dlo pou bwè nan yon veso ki pa pwòp epi ki pa kouvri\n",
      "Aprè konbyen tan yon moun ka bwè yon dlo ki trete ak klowòks san danje\n",
      "Si w gen yon gwo swaf nan lari kisa w ap fè\n",
      "Si w gen yon twalèt ki prèske touye w nan lari kisa w ap fè\n",
      "Eske ou prè pou ou envesti kòb ou pou amelyore kalite dlo yap sèvi nan Kay la\n",
      "Eske ou prè pou ou depanse plis pou ou jwenn bon jan dlo nan kominote wap viv\n",
      "Eske ou prè pou ou prete kòb si w pa genyen pou ou jwenn bon jan dlo pouw sèvi\n",
      "Èskew gen twalèt oubyen latrin lakay ou\n",
      "Pou ki rezon w pa fè yon kote pou moun twalèt oubyen latrin lakay ou\n",
      "Ki kote w fè bezwen w si w pa gen latrin\n",
      "Pesizyon pou repons lòt ki nan kesyon 37 la.\n",
      "Kisa yon twalèt ki fouye tou pre kote moun pran dlo ka lakoz\n",
      "Kisa yon twalèt ki pwòp epi ki byen kouvri kapab lakoz\n",
      "Kisa fè pipi ak poupou yon kote ki pa pwoteje kapab lakoz\n",
      "Si w grangou anpil ou jwenn yon manje kisa w ap fè\n",
      "Eske ou prè pou ou envesti nan kontriksyon bon jan latrin oswa amelyore saw genyen yan\n",
      "Eske ou prè pou depanse plis pou ou ka genyen bon jan latrin\n",
      "Eske ou prè pou prete kòb pou ou ka genyen bon jan latrin\n",
      "Poukisa li enpòtan pou yon moun toujou pwòp\n",
      "Poukisa li enpòtan pou w lave men w\n",
      "Kisa yon moun bezwen pou l lave men l\n",
      "Kilè li pi enpòtan pou yon moun lave men l\n",
      "Eske yo montre nou kijan pou n lave men nou\n",
      "Eske w satisfè nan fason yo fè pwomosyon ijyèn nan lekòl la\n",
      "Kisa ki ka bay yon moun dyare\n",
      "Poukisa li enpòtan pou n kouvri manje yo\n",
      "Legim yo ak fwi yo dwe toujou lave avan yo manje yo.\n",
      "ki kote nou dwe jete fatra\n",
      "Eske fatra ki mal jere ka bay maladi\n",
      "Kòman nou jere dlo ki pa bon yo\n",
      "Eske nou vle ankouraje paran nou pou pran desizyon ki ka pèmèt nou aplike tout règ ijèn yo\n",
      "Eske paran nou deja pran kèk desizyon sou kesyon ijèn\n",
      "Ki desizyon paran nou konn pran deja sou kesyon ijèn\n",
      "Obsèvasyon veye konpòtman moun yo avan epi aprè entèvyou a.\n",
      "Pran GPS kay oubyen kote wap kolekte done yo. latitude and longitude\n",
      "Pran GPS kay oubyen kote wap kolekte done yo. altitude\n",
      "Pran GPS kay oubyen kote wap kolekte done yo. accuracy\n",
      "Dat ak lè ou fin ranpli kesyonè a.\n",
      "sex\n"
     ]
    }
   ],
   "source": [
    "for c in list(df.columns):\n",
    "    print(c)"
   ]
  },
  {
   "cell_type": "code",
   "execution_count": 33,
   "metadata": {},
   "outputs": [
    {
     "data": {
      "text/html": [
       "<div>\n",
       "<style scoped>\n",
       "    .dataframe tbody tr th:only-of-type {\n",
       "        vertical-align: middle;\n",
       "    }\n",
       "\n",
       "    .dataframe tbody tr th {\n",
       "        vertical-align: top;\n",
       "    }\n",
       "\n",
       "    .dataframe thead th {\n",
       "        text-align: right;\n",
       "    }\n",
       "</style>\n",
       "<table border=\"1\" class=\"dataframe\">\n",
       "  <thead>\n",
       "    <tr style=\"text-align: right;\">\n",
       "      <th></th>\n",
       "      <th></th>\n",
       "      <th>Nan ki lekòl ou ye</th>\n",
       "    </tr>\n",
       "    <tr>\n",
       "      <th>Nan ki lekòl ou ye</th>\n",
       "      <th>MOUN Y AP POZE KESYON YO.</th>\n",
       "      <th></th>\n",
       "    </tr>\n",
       "  </thead>\n",
       "  <tbody>\n",
       "    <tr>\n",
       "      <th rowspan=\"4\" valign=\"top\">1. Ecole Mixte Bethesda</th>\n",
       "      <th>0. Paran</th>\n",
       "      <td>47</td>\n",
       "    </tr>\n",
       "    <tr>\n",
       "      <th>1. Elèv</th>\n",
       "      <td>46</td>\n",
       "    </tr>\n",
       "    <tr>\n",
       "      <th>2. Pwofesè</th>\n",
       "      <td>3</td>\n",
       "    </tr>\n",
       "    <tr>\n",
       "      <th>4. Direktè</th>\n",
       "      <td>1</td>\n",
       "    </tr>\n",
       "    <tr>\n",
       "      <th rowspan=\"3\" valign=\"top\">2. Ecole Louis Maccen</th>\n",
       "      <th>0. Paran</th>\n",
       "      <td>38</td>\n",
       "    </tr>\n",
       "    <tr>\n",
       "      <th>1. Elèv</th>\n",
       "      <td>37</td>\n",
       "    </tr>\n",
       "    <tr>\n",
       "      <th>4. Direktè</th>\n",
       "      <td>1</td>\n",
       "    </tr>\n",
       "    <tr>\n",
       "      <th rowspan=\"2\" valign=\"top\">3. Frans Béda Académie</th>\n",
       "      <th>0. Paran</th>\n",
       "      <td>15</td>\n",
       "    </tr>\n",
       "    <tr>\n",
       "      <th>1. Elèv</th>\n",
       "      <td>11</td>\n",
       "    </tr>\n",
       "    <tr>\n",
       "      <th rowspan=\"3\" valign=\"top\">4. Institution Mixte Bethleem</th>\n",
       "      <th>0. Paran</th>\n",
       "      <td>43</td>\n",
       "    </tr>\n",
       "    <tr>\n",
       "      <th>1. Elèv</th>\n",
       "      <td>41</td>\n",
       "    </tr>\n",
       "    <tr>\n",
       "      <th>2. Pwofesè</th>\n",
       "      <td>8</td>\n",
       "    </tr>\n",
       "    <tr>\n",
       "      <th rowspan=\"4\" valign=\"top\">5. Institution Mixte Espoir</th>\n",
       "      <th>0. Paran</th>\n",
       "      <td>24</td>\n",
       "    </tr>\n",
       "    <tr>\n",
       "      <th>1. Elèv</th>\n",
       "      <td>30</td>\n",
       "    </tr>\n",
       "    <tr>\n",
       "      <th>2. Pwofesè</th>\n",
       "      <td>2</td>\n",
       "    </tr>\n",
       "    <tr>\n",
       "      <th>4. Direktè</th>\n",
       "      <td>1</td>\n",
       "    </tr>\n",
       "    <tr>\n",
       "      <th rowspan=\"4\" valign=\"top\">6. Institution Mixte Alma Mater</th>\n",
       "      <th>0. Paran</th>\n",
       "      <td>76</td>\n",
       "    </tr>\n",
       "    <tr>\n",
       "      <th>1. Elèv</th>\n",
       "      <td>83</td>\n",
       "    </tr>\n",
       "    <tr>\n",
       "      <th>2. Pwofesè</th>\n",
       "      <td>8</td>\n",
       "    </tr>\n",
       "    <tr>\n",
       "      <th>4. Direktè</th>\n",
       "      <td>1</td>\n",
       "    </tr>\n",
       "    <tr>\n",
       "      <th rowspan=\"4\" valign=\"top\">7. Collègue Mixte Toussaint Louverture</th>\n",
       "      <th>0. Paran</th>\n",
       "      <td>83</td>\n",
       "    </tr>\n",
       "    <tr>\n",
       "      <th>1. Elèv</th>\n",
       "      <td>87</td>\n",
       "    </tr>\n",
       "    <tr>\n",
       "      <th>2. Pwofesè</th>\n",
       "      <td>11</td>\n",
       "    </tr>\n",
       "    <tr>\n",
       "      <th>4. Direktè</th>\n",
       "      <td>1</td>\n",
       "    </tr>\n",
       "    <tr>\n",
       "      <th rowspan=\"4\" valign=\"top\">8. Liberty Collège Mixte</th>\n",
       "      <th>0. Paran</th>\n",
       "      <td>41</td>\n",
       "    </tr>\n",
       "    <tr>\n",
       "      <th>1. Elèv</th>\n",
       "      <td>34</td>\n",
       "    </tr>\n",
       "    <tr>\n",
       "      <th>2. Pwofesè</th>\n",
       "      <td>3</td>\n",
       "    </tr>\n",
       "    <tr>\n",
       "      <th>4. Direktè</th>\n",
       "      <td>1</td>\n",
       "    </tr>\n",
       "  </tbody>\n",
       "</table>\n",
       "</div>"
      ],
      "text/plain": [
       "                                                                  Nan ki lekòl ou ye\n",
       "Nan ki lekòl ou ye                     MOUN Y AP POZE KESYON YO.                    \n",
       "1. Ecole Mixte Bethesda                0. Paran                                   47\n",
       "                                       1. Elèv                                    46\n",
       "                                       2. Pwofesè                                  3\n",
       "                                       4. Direktè                                  1\n",
       "2. Ecole Louis Maccen                  0. Paran                                   38\n",
       "                                       1. Elèv                                    37\n",
       "                                       4. Direktè                                  1\n",
       "3. Frans Béda Académie                 0. Paran                                   15\n",
       "                                       1. Elèv                                    11\n",
       "4. Institution Mixte Bethleem          0. Paran                                   43\n",
       "                                       1. Elèv                                    41\n",
       "                                       2. Pwofesè                                  8\n",
       "5. Institution Mixte Espoir            0. Paran                                   24\n",
       "                                       1. Elèv                                    30\n",
       "                                       2. Pwofesè                                  2\n",
       "                                       4. Direktè                                  1\n",
       "6. Institution Mixte Alma Mater        0. Paran                                   76\n",
       "                                       1. Elèv                                    83\n",
       "                                       2. Pwofesè                                  8\n",
       "                                       4. Direktè                                  1\n",
       "7. Collègue Mixte Toussaint Louverture 0. Paran                                   83\n",
       "                                       1. Elèv                                    87\n",
       "                                       2. Pwofesè                                 11\n",
       "                                       4. Direktè                                  1\n",
       "8. Liberty Collège Mixte               0. Paran                                   41\n",
       "                                       1. Elèv                                    34\n",
       "                                       2. Pwofesè                                  3\n",
       "                                       4. Direktè                                  1"
      ]
     },
     "execution_count": 33,
     "metadata": {},
     "output_type": "execute_result"
    }
   ],
   "source": [
    "num_respondents_by_school = df.groupby(['Nan ki lekòl ou ye', 'MOUN Y AP POZE KESYON YO.'])[['Nan ki lekòl ou ye']].count()"
   ]
  },
  {
   "cell_type": "code",
   "execution_count": 34,
   "metadata": {},
   "outputs": [],
   "source": [
    "num_respondents_by_school = df.groupby(['Nan ki lekòl ou ye', 'MOUN Y AP POZE KESYON YO.'])[['Nan ki lekòl ou ye']].count()"
   ]
  },
  {
   "cell_type": "code",
   "execution_count": 41,
   "metadata": {},
   "outputs": [],
   "source": [
    "num_respondents_by_school.columns = ['frequency']"
   ]
  },
  {
   "cell_type": "code",
   "execution_count": 223,
   "metadata": {},
   "outputs": [],
   "source": [
    "r1 = num_respondents_by_school.reset_index(level=['Nan ki lekòl ou ye', 'MOUN Y AP POZE KESYON YO.'])"
   ]
  },
  {
   "cell_type": "code",
   "execution_count": 224,
   "metadata": {},
   "outputs": [],
   "source": [
    "r1.columns = ['school', 'respondent category', 'frequency']\n",
    "#\n"
   ]
  },
  {
   "cell_type": "markdown",
   "metadata": {},
   "source": [
    "# experiment"
   ]
  },
  {
   "cell_type": "code",
   "execution_count": 219,
   "metadata": {},
   "outputs": [
    {
     "data": {
      "text/html": [
       "<div>\n",
       "<style scoped>\n",
       "    .dataframe tbody tr th:only-of-type {\n",
       "        vertical-align: middle;\n",
       "    }\n",
       "\n",
       "    .dataframe tbody tr th {\n",
       "        vertical-align: top;\n",
       "    }\n",
       "\n",
       "    .dataframe thead th {\n",
       "        text-align: right;\n",
       "    }\n",
       "</style>\n",
       "<table border=\"1\" class=\"dataframe\">\n",
       "  <thead>\n",
       "    <tr style=\"text-align: right;\">\n",
       "      <th></th>\n",
       "      <th>school</th>\n",
       "      <th>respondent category</th>\n",
       "      <th>frequency</th>\n",
       "    </tr>\n",
       "  </thead>\n",
       "  <tbody>\n",
       "    <tr>\n",
       "      <th>0</th>\n",
       "      <td>1. Ecole Mixte Bethesda</td>\n",
       "      <td>0. Paran</td>\n",
       "      <td>47</td>\n",
       "    </tr>\n",
       "    <tr>\n",
       "      <th>1</th>\n",
       "      <td>1. Ecole Mixte Bethesda</td>\n",
       "      <td>1. Elèv</td>\n",
       "      <td>46</td>\n",
       "    </tr>\n",
       "    <tr>\n",
       "      <th>2</th>\n",
       "      <td>1. Ecole Mixte Bethesda</td>\n",
       "      <td>2. Pwofesè</td>\n",
       "      <td>3</td>\n",
       "    </tr>\n",
       "    <tr>\n",
       "      <th>3</th>\n",
       "      <td>1. Ecole Mixte Bethesda</td>\n",
       "      <td>4. Direktè</td>\n",
       "      <td>1</td>\n",
       "    </tr>\n",
       "    <tr>\n",
       "      <th>4</th>\n",
       "      <td>2. Ecole Louis Maccen</td>\n",
       "      <td>0. Paran</td>\n",
       "      <td>38</td>\n",
       "    </tr>\n",
       "    <tr>\n",
       "      <th>5</th>\n",
       "      <td>2. Ecole Louis Maccen</td>\n",
       "      <td>1. Elèv</td>\n",
       "      <td>37</td>\n",
       "    </tr>\n",
       "    <tr>\n",
       "      <th>6</th>\n",
       "      <td>2. Ecole Louis Maccen</td>\n",
       "      <td>4. Direktè</td>\n",
       "      <td>1</td>\n",
       "    </tr>\n",
       "    <tr>\n",
       "      <th>7</th>\n",
       "      <td>3. Frans Béda Académie</td>\n",
       "      <td>0. Paran</td>\n",
       "      <td>15</td>\n",
       "    </tr>\n",
       "    <tr>\n",
       "      <th>8</th>\n",
       "      <td>3. Frans Béda Académie</td>\n",
       "      <td>1. Elèv</td>\n",
       "      <td>11</td>\n",
       "    </tr>\n",
       "    <tr>\n",
       "      <th>9</th>\n",
       "      <td>4. Institution Mixte Bethleem</td>\n",
       "      <td>0. Paran</td>\n",
       "      <td>43</td>\n",
       "    </tr>\n",
       "    <tr>\n",
       "      <th>10</th>\n",
       "      <td>4. Institution Mixte Bethleem</td>\n",
       "      <td>1. Elèv</td>\n",
       "      <td>41</td>\n",
       "    </tr>\n",
       "    <tr>\n",
       "      <th>11</th>\n",
       "      <td>4. Institution Mixte Bethleem</td>\n",
       "      <td>2. Pwofesè</td>\n",
       "      <td>8</td>\n",
       "    </tr>\n",
       "    <tr>\n",
       "      <th>12</th>\n",
       "      <td>5. Institution Mixte Espoir</td>\n",
       "      <td>0. Paran</td>\n",
       "      <td>24</td>\n",
       "    </tr>\n",
       "    <tr>\n",
       "      <th>13</th>\n",
       "      <td>5. Institution Mixte Espoir</td>\n",
       "      <td>1. Elèv</td>\n",
       "      <td>30</td>\n",
       "    </tr>\n",
       "    <tr>\n",
       "      <th>14</th>\n",
       "      <td>5. Institution Mixte Espoir</td>\n",
       "      <td>2. Pwofesè</td>\n",
       "      <td>2</td>\n",
       "    </tr>\n",
       "    <tr>\n",
       "      <th>15</th>\n",
       "      <td>5. Institution Mixte Espoir</td>\n",
       "      <td>4. Direktè</td>\n",
       "      <td>1</td>\n",
       "    </tr>\n",
       "    <tr>\n",
       "      <th>16</th>\n",
       "      <td>6. Institution Mixte Alma Mater</td>\n",
       "      <td>0. Paran</td>\n",
       "      <td>76</td>\n",
       "    </tr>\n",
       "    <tr>\n",
       "      <th>17</th>\n",
       "      <td>6. Institution Mixte Alma Mater</td>\n",
       "      <td>1. Elèv</td>\n",
       "      <td>83</td>\n",
       "    </tr>\n",
       "    <tr>\n",
       "      <th>18</th>\n",
       "      <td>6. Institution Mixte Alma Mater</td>\n",
       "      <td>2. Pwofesè</td>\n",
       "      <td>8</td>\n",
       "    </tr>\n",
       "    <tr>\n",
       "      <th>19</th>\n",
       "      <td>6. Institution Mixte Alma Mater</td>\n",
       "      <td>4. Direktè</td>\n",
       "      <td>1</td>\n",
       "    </tr>\n",
       "    <tr>\n",
       "      <th>20</th>\n",
       "      <td>7. Collègue Mixte Toussaint Louverture</td>\n",
       "      <td>0. Paran</td>\n",
       "      <td>83</td>\n",
       "    </tr>\n",
       "    <tr>\n",
       "      <th>21</th>\n",
       "      <td>7. Collègue Mixte Toussaint Louverture</td>\n",
       "      <td>1. Elèv</td>\n",
       "      <td>87</td>\n",
       "    </tr>\n",
       "    <tr>\n",
       "      <th>22</th>\n",
       "      <td>7. Collègue Mixte Toussaint Louverture</td>\n",
       "      <td>2. Pwofesè</td>\n",
       "      <td>11</td>\n",
       "    </tr>\n",
       "    <tr>\n",
       "      <th>23</th>\n",
       "      <td>7. Collègue Mixte Toussaint Louverture</td>\n",
       "      <td>4. Direktè</td>\n",
       "      <td>1</td>\n",
       "    </tr>\n",
       "    <tr>\n",
       "      <th>24</th>\n",
       "      <td>8. Liberty Collège Mixte</td>\n",
       "      <td>0. Paran</td>\n",
       "      <td>41</td>\n",
       "    </tr>\n",
       "    <tr>\n",
       "      <th>25</th>\n",
       "      <td>8. Liberty Collège Mixte</td>\n",
       "      <td>1. Elèv</td>\n",
       "      <td>34</td>\n",
       "    </tr>\n",
       "    <tr>\n",
       "      <th>26</th>\n",
       "      <td>8. Liberty Collège Mixte</td>\n",
       "      <td>2. Pwofesè</td>\n",
       "      <td>3</td>\n",
       "    </tr>\n",
       "    <tr>\n",
       "      <th>27</th>\n",
       "      <td>8. Liberty Collège Mixte</td>\n",
       "      <td>4. Direktè</td>\n",
       "      <td>1</td>\n",
       "    </tr>\n",
       "  </tbody>\n",
       "</table>\n",
       "</div>"
      ],
      "text/plain": [
       "                                    school respondent category  frequency\n",
       "0                  1. Ecole Mixte Bethesda            0. Paran         47\n",
       "1                  1. Ecole Mixte Bethesda             1. Elèv         46\n",
       "2                  1. Ecole Mixte Bethesda          2. Pwofesè          3\n",
       "3                  1. Ecole Mixte Bethesda          4. Direktè          1\n",
       "4                    2. Ecole Louis Maccen            0. Paran         38\n",
       "5                    2. Ecole Louis Maccen             1. Elèv         37\n",
       "6                    2. Ecole Louis Maccen          4. Direktè          1\n",
       "7                   3. Frans Béda Académie            0. Paran         15\n",
       "8                   3. Frans Béda Académie             1. Elèv         11\n",
       "9            4. Institution Mixte Bethleem            0. Paran         43\n",
       "10           4. Institution Mixte Bethleem             1. Elèv         41\n",
       "11           4. Institution Mixte Bethleem          2. Pwofesè          8\n",
       "12             5. Institution Mixte Espoir            0. Paran         24\n",
       "13             5. Institution Mixte Espoir             1. Elèv         30\n",
       "14             5. Institution Mixte Espoir          2. Pwofesè          2\n",
       "15             5. Institution Mixte Espoir          4. Direktè          1\n",
       "16         6. Institution Mixte Alma Mater            0. Paran         76\n",
       "17         6. Institution Mixte Alma Mater             1. Elèv         83\n",
       "18         6. Institution Mixte Alma Mater          2. Pwofesè          8\n",
       "19         6. Institution Mixte Alma Mater          4. Direktè          1\n",
       "20  7. Collègue Mixte Toussaint Louverture            0. Paran         83\n",
       "21  7. Collègue Mixte Toussaint Louverture             1. Elèv         87\n",
       "22  7. Collègue Mixte Toussaint Louverture          2. Pwofesè         11\n",
       "23  7. Collègue Mixte Toussaint Louverture          4. Direktè          1\n",
       "24                8. Liberty Collège Mixte            0. Paran         41\n",
       "25                8. Liberty Collège Mixte             1. Elèv         34\n",
       "26                8. Liberty Collège Mixte          2. Pwofesè          3\n",
       "27                8. Liberty Collège Mixte          4. Direktè          1"
      ]
     },
     "execution_count": 219,
     "metadata": {},
     "output_type": "execute_result"
    }
   ],
   "source": [
    "r1"
   ]
  },
  {
   "cell_type": "code",
   "execution_count": 225,
   "metadata": {},
   "outputs": [],
   "source": [
    "\n",
    "def rename_value(df, col_name, values):\n",
    "    col = df[col_name]\n",
    "    col_renamed = []\n",
    "    for v in col:\n",
    "        col_renamed.append(values.get(v))\n",
    "    return col_renamed\n",
    "        \n",
    "        \n",
    "    \n",
    "    "
   ]
  },
  {
   "cell_type": "code",
   "execution_count": null,
   "metadata": {},
   "outputs": [],
   "source": []
  },
  {
   "cell_type": "code",
   "execution_count": 226,
   "metadata": {},
   "outputs": [],
   "source": [
    "respondents = {'0. Paran': 'parent', '1. Elèv': 'student', '2. Pwofesè': 'teacher', '4. Direktè': 'principal'}\n",
    "l1 = rename_value(r1, 'respondent category', respondents)\n",
    "l1 = rename_value(r1, 'respondent category', respondents)\n",
    "r1['respondent category'] = l1\n",
    "#r1 = r1.set_index(['school', 'Respondent category'])\n",
    "#r1.plot(x='school', y=['school', 'respondent category'], kind='bar') #r1.columns = ['school', 'Respondent category', 'frequency']"
   ]
  },
  {
   "cell_type": "code",
   "execution_count": 227,
   "metadata": {},
   "outputs": [],
   "source": [
    "schools = {'1. Ecole Mixte Bethesda': 'Ecole Mixte Bethesda',\\\n",
    "               '2. Ecole Louis Maccen': 'Ecole Louis Maccen',\\\n",
    "               '3. Frans Béda Académie': 'Frans Béda Académie',\\\n",
    "               '4. Institution Mixte Bethleem': 'Institution Mixte Bethleem',\n",
    "               '5. Institution Mixte Espoir': 'Institution Mixte Espoir',\n",
    "               '6. Institution Mixte Alma Mater': 'Institution Mixte Alma Mater',\n",
    "               '7. Collègue Mixte Toussaint Louverture': 'Collègue Mixte Toussaint Louverture',\n",
    "               '8. Liberty Collège Mixte': 'Liberty Collège Mixte'\n",
    "               \n",
    "          }\n",
    "l = rename_value(r1, 'school', schools)"
   ]
  },
  {
   "cell_type": "code",
   "execution_count": 228,
   "metadata": {},
   "outputs": [],
   "source": [
    "r1['school'] = l\n"
   ]
  },
  {
   "cell_type": "code",
   "execution_count": 229,
   "metadata": {},
   "outputs": [],
   "source": [
    "r1 = r1.set_index(['school', 'respondent category'])"
   ]
  },
  {
   "cell_type": "code",
   "execution_count": 230,
   "metadata": {},
   "outputs": [
    {
     "data": {
      "text/plain": [
       "frequency    False\n",
       "dtype: bool"
      ]
     },
     "execution_count": 230,
     "metadata": {},
     "output_type": "execute_result"
    }
   ],
   "source": [
    "r1.isna().any()"
   ]
  },
  {
   "cell_type": "code",
   "execution_count": 172,
   "metadata": {},
   "outputs": [
    {
     "data": {
      "text/plain": [
       "777"
      ]
     },
     "execution_count": 172,
     "metadata": {},
     "output_type": "execute_result"
    }
   ],
   "source": [
    "sum(list(r1.frequency))"
   ]
  },
  {
   "cell_type": "code",
   "execution_count": 231,
   "metadata": {},
   "outputs": [
    {
     "data": {
      "text/html": [
       "<div>\n",
       "<style scoped>\n",
       "    .dataframe tbody tr th:only-of-type {\n",
       "        vertical-align: middle;\n",
       "    }\n",
       "\n",
       "    .dataframe tbody tr th {\n",
       "        vertical-align: top;\n",
       "    }\n",
       "\n",
       "    .dataframe thead th {\n",
       "        text-align: right;\n",
       "    }\n",
       "</style>\n",
       "<table border=\"1\" class=\"dataframe\">\n",
       "  <thead>\n",
       "    <tr style=\"text-align: right;\">\n",
       "      <th></th>\n",
       "      <th></th>\n",
       "      <th>frequency</th>\n",
       "    </tr>\n",
       "    <tr>\n",
       "      <th>school</th>\n",
       "      <th>respondent category</th>\n",
       "      <th></th>\n",
       "    </tr>\n",
       "  </thead>\n",
       "  <tbody>\n",
       "    <tr>\n",
       "      <th rowspan=\"4\" valign=\"top\">Ecole Mixte Bethesda</th>\n",
       "      <th>parent</th>\n",
       "      <td>47</td>\n",
       "    </tr>\n",
       "    <tr>\n",
       "      <th>student</th>\n",
       "      <td>46</td>\n",
       "    </tr>\n",
       "    <tr>\n",
       "      <th>teacher</th>\n",
       "      <td>3</td>\n",
       "    </tr>\n",
       "    <tr>\n",
       "      <th>principal</th>\n",
       "      <td>1</td>\n",
       "    </tr>\n",
       "    <tr>\n",
       "      <th rowspan=\"3\" valign=\"top\">Ecole Louis Maccen</th>\n",
       "      <th>parent</th>\n",
       "      <td>38</td>\n",
       "    </tr>\n",
       "    <tr>\n",
       "      <th>student</th>\n",
       "      <td>37</td>\n",
       "    </tr>\n",
       "    <tr>\n",
       "      <th>principal</th>\n",
       "      <td>1</td>\n",
       "    </tr>\n",
       "    <tr>\n",
       "      <th rowspan=\"2\" valign=\"top\">Frans Béda Académie</th>\n",
       "      <th>parent</th>\n",
       "      <td>15</td>\n",
       "    </tr>\n",
       "    <tr>\n",
       "      <th>student</th>\n",
       "      <td>11</td>\n",
       "    </tr>\n",
       "    <tr>\n",
       "      <th rowspan=\"3\" valign=\"top\">Institution Mixte Bethleem</th>\n",
       "      <th>parent</th>\n",
       "      <td>43</td>\n",
       "    </tr>\n",
       "    <tr>\n",
       "      <th>student</th>\n",
       "      <td>41</td>\n",
       "    </tr>\n",
       "    <tr>\n",
       "      <th>teacher</th>\n",
       "      <td>8</td>\n",
       "    </tr>\n",
       "    <tr>\n",
       "      <th rowspan=\"4\" valign=\"top\">Institution Mixte Espoir</th>\n",
       "      <th>parent</th>\n",
       "      <td>24</td>\n",
       "    </tr>\n",
       "    <tr>\n",
       "      <th>student</th>\n",
       "      <td>30</td>\n",
       "    </tr>\n",
       "    <tr>\n",
       "      <th>teacher</th>\n",
       "      <td>2</td>\n",
       "    </tr>\n",
       "    <tr>\n",
       "      <th>principal</th>\n",
       "      <td>1</td>\n",
       "    </tr>\n",
       "    <tr>\n",
       "      <th rowspan=\"4\" valign=\"top\">Institution Mixte Alma Mater</th>\n",
       "      <th>parent</th>\n",
       "      <td>76</td>\n",
       "    </tr>\n",
       "    <tr>\n",
       "      <th>student</th>\n",
       "      <td>83</td>\n",
       "    </tr>\n",
       "    <tr>\n",
       "      <th>teacher</th>\n",
       "      <td>8</td>\n",
       "    </tr>\n",
       "    <tr>\n",
       "      <th>principal</th>\n",
       "      <td>1</td>\n",
       "    </tr>\n",
       "    <tr>\n",
       "      <th rowspan=\"4\" valign=\"top\">Collègue Mixte Toussaint Louverture</th>\n",
       "      <th>parent</th>\n",
       "      <td>83</td>\n",
       "    </tr>\n",
       "    <tr>\n",
       "      <th>student</th>\n",
       "      <td>87</td>\n",
       "    </tr>\n",
       "    <tr>\n",
       "      <th>teacher</th>\n",
       "      <td>11</td>\n",
       "    </tr>\n",
       "    <tr>\n",
       "      <th>principal</th>\n",
       "      <td>1</td>\n",
       "    </tr>\n",
       "    <tr>\n",
       "      <th rowspan=\"4\" valign=\"top\">Liberty Collège Mixte</th>\n",
       "      <th>parent</th>\n",
       "      <td>41</td>\n",
       "    </tr>\n",
       "    <tr>\n",
       "      <th>student</th>\n",
       "      <td>34</td>\n",
       "    </tr>\n",
       "    <tr>\n",
       "      <th>teacher</th>\n",
       "      <td>3</td>\n",
       "    </tr>\n",
       "    <tr>\n",
       "      <th>principal</th>\n",
       "      <td>1</td>\n",
       "    </tr>\n",
       "  </tbody>\n",
       "</table>\n",
       "</div>"
      ],
      "text/plain": [
       "                                                         frequency\n",
       "school                              respondent category           \n",
       "Ecole Mixte Bethesda                parent                      47\n",
       "                                    student                     46\n",
       "                                    teacher                      3\n",
       "                                    principal                    1\n",
       "Ecole Louis Maccen                  parent                      38\n",
       "                                    student                     37\n",
       "                                    principal                    1\n",
       "Frans Béda Académie                 parent                      15\n",
       "                                    student                     11\n",
       "Institution Mixte Bethleem          parent                      43\n",
       "                                    student                     41\n",
       "                                    teacher                      8\n",
       "Institution Mixte Espoir            parent                      24\n",
       "                                    student                     30\n",
       "                                    teacher                      2\n",
       "                                    principal                    1\n",
       "Institution Mixte Alma Mater        parent                      76\n",
       "                                    student                     83\n",
       "                                    teacher                      8\n",
       "                                    principal                    1\n",
       "Collègue Mixte Toussaint Louverture parent                      83\n",
       "                                    student                     87\n",
       "                                    teacher                     11\n",
       "                                    principal                    1\n",
       "Liberty Collège Mixte               parent                      41\n",
       "                                    student                     34\n",
       "                                    teacher                      3\n",
       "                                    principal                    1"
      ]
     },
     "execution_count": 231,
     "metadata": {},
     "output_type": "execute_result"
    }
   ],
   "source": [
    "r1"
   ]
  },
  {
   "cell_type": "code",
   "execution_count": 249,
   "metadata": {},
   "outputs": [
    {
     "data": {
      "text/plain": [
       "Text(0,0.5,'School')"
      ]
     },
     "execution_count": 249,
     "metadata": {},
     "output_type": "execute_result"
    },
    {
     "data": {
      "image/png": "[encoded data removed]",
      "text/plain": [
       "<matplotlib.figure.Figure at 0x18ce6080>"
      ]
     },
     "metadata": {},
     "output_type": "display_data"
    }
   ],
   "source": [
    "plt.style.use('ggplot')\n",
    "fig, ax = plt.subplots(figsize=(8, 5))\n",
    "#plt.legend(['parent', 'pupil', 'teacher', 'principal'])\n",
    "plt.xticks(rotation=60)\n",
    "#fig.patch.set_facecolor('green')\n",
    "r1.unstack().plot(kind='barh', ax=ax)\n",
    "#ax.set_axis_bgcolor(\"lightslategray\")\n",
    "L=plt.legend()\n",
    "L.get_texts()[0].set_text('parent')\n",
    "L.get_texts()[1].set_text('principal')\n",
    "L.get_texts()[2].set_text('student')\n",
    "L.get_texts()[3].set_text('teacher')\n",
    "plt.title('Participants per school',fontsize=20)\n",
    "plt.xlabel('Frequency')\n",
    "plt.ylabel('School')\n",
    " \n",
    "# Create labels\n",
    "#plt.savefig('participant.png')\n"
   ]
  },
  {
   "cell_type": "code",
   "execution_count": 213,
   "metadata": {},
   "outputs": [
    {
     "data": {
      "text/html": [
       "<div>\n",
       "<style scoped>\n",
       "    .dataframe tbody tr th:only-of-type {\n",
       "        vertical-align: middle;\n",
       "    }\n",
       "\n",
       "    .dataframe tbody tr th {\n",
       "        vertical-align: top;\n",
       "    }\n",
       "\n",
       "    .dataframe thead th {\n",
       "        text-align: right;\n",
       "    }\n",
       "</style>\n",
       "<table border=\"1\" class=\"dataframe\">\n",
       "  <thead>\n",
       "    <tr style=\"text-align: right;\">\n",
       "      <th></th>\n",
       "      <th></th>\n",
       "      <th>frequency</th>\n",
       "    </tr>\n",
       "    <tr>\n",
       "      <th>school</th>\n",
       "      <th>respondent category</th>\n",
       "      <th></th>\n",
       "    </tr>\n",
       "  </thead>\n",
       "  <tbody>\n",
       "    <tr>\n",
       "      <th rowspan=\"4\" valign=\"top\">Ecole Mixte Bethesda</th>\n",
       "      <th>parent</th>\n",
       "      <td>47</td>\n",
       "    </tr>\n",
       "    <tr>\n",
       "      <th>student</th>\n",
       "      <td>46</td>\n",
       "    </tr>\n",
       "    <tr>\n",
       "      <th>teacher</th>\n",
       "      <td>3</td>\n",
       "    </tr>\n",
       "    <tr>\n",
       "      <th>principal</th>\n",
       "      <td>1</td>\n",
       "    </tr>\n",
       "    <tr>\n",
       "      <th rowspan=\"3\" valign=\"top\">Ecole Louis Maccen</th>\n",
       "      <th>parent</th>\n",
       "      <td>38</td>\n",
       "    </tr>\n",
       "    <tr>\n",
       "      <th>student</th>\n",
       "      <td>37</td>\n",
       "    </tr>\n",
       "    <tr>\n",
       "      <th>principal</th>\n",
       "      <td>1</td>\n",
       "    </tr>\n",
       "    <tr>\n",
       "      <th rowspan=\"2\" valign=\"top\">Frans Béda Académie</th>\n",
       "      <th>parent</th>\n",
       "      <td>15</td>\n",
       "    </tr>\n",
       "    <tr>\n",
       "      <th>student</th>\n",
       "      <td>11</td>\n",
       "    </tr>\n",
       "    <tr>\n",
       "      <th rowspan=\"3\" valign=\"top\">Institution Mixte Bethleem</th>\n",
       "      <th>parent</th>\n",
       "      <td>43</td>\n",
       "    </tr>\n",
       "    <tr>\n",
       "      <th>student</th>\n",
       "      <td>41</td>\n",
       "    </tr>\n",
       "    <tr>\n",
       "      <th>teacher</th>\n",
       "      <td>8</td>\n",
       "    </tr>\n",
       "    <tr>\n",
       "      <th rowspan=\"4\" valign=\"top\">Institution Mixte Espoir</th>\n",
       "      <th>parent</th>\n",
       "      <td>24</td>\n",
       "    </tr>\n",
       "    <tr>\n",
       "      <th>student</th>\n",
       "      <td>30</td>\n",
       "    </tr>\n",
       "    <tr>\n",
       "      <th>teacher</th>\n",
       "      <td>2</td>\n",
       "    </tr>\n",
       "    <tr>\n",
       "      <th>principal</th>\n",
       "      <td>1</td>\n",
       "    </tr>\n",
       "    <tr>\n",
       "      <th rowspan=\"4\" valign=\"top\">Institution Mixte Alma Mater</th>\n",
       "      <th>parent</th>\n",
       "      <td>76</td>\n",
       "    </tr>\n",
       "    <tr>\n",
       "      <th>student</th>\n",
       "      <td>83</td>\n",
       "    </tr>\n",
       "    <tr>\n",
       "      <th>teacher</th>\n",
       "      <td>8</td>\n",
       "    </tr>\n",
       "    <tr>\n",
       "      <th>principal</th>\n",
       "      <td>1</td>\n",
       "    </tr>\n",
       "    <tr>\n",
       "      <th rowspan=\"4\" valign=\"top\">Collègue Mixte Toussaint Louverture</th>\n",
       "      <th>parent</th>\n",
       "      <td>83</td>\n",
       "    </tr>\n",
       "    <tr>\n",
       "      <th>student</th>\n",
       "      <td>87</td>\n",
       "    </tr>\n",
       "    <tr>\n",
       "      <th>teacher</th>\n",
       "      <td>11</td>\n",
       "    </tr>\n",
       "    <tr>\n",
       "      <th>principal</th>\n",
       "      <td>1</td>\n",
       "    </tr>\n",
       "    <tr>\n",
       "      <th rowspan=\"4\" valign=\"top\">Liberty Collège Mixte</th>\n",
       "      <th>parent</th>\n",
       "      <td>41</td>\n",
       "    </tr>\n",
       "    <tr>\n",
       "      <th>student</th>\n",
       "      <td>34</td>\n",
       "    </tr>\n",
       "    <tr>\n",
       "      <th>teacher</th>\n",
       "      <td>3</td>\n",
       "    </tr>\n",
       "    <tr>\n",
       "      <th>principal</th>\n",
       "      <td>1</td>\n",
       "    </tr>\n",
       "  </tbody>\n",
       "</table>\n",
       "</div>"
      ],
      "text/plain": [
       "                                                         frequency\n",
       "school                              respondent category           \n",
       "Ecole Mixte Bethesda                parent                      47\n",
       "                                    student                     46\n",
       "                                    teacher                      3\n",
       "                                    principal                    1\n",
       "Ecole Louis Maccen                  parent                      38\n",
       "                                    student                     37\n",
       "                                    principal                    1\n",
       "Frans Béda Académie                 parent                      15\n",
       "                                    student                     11\n",
       "Institution Mixte Bethleem          parent                      43\n",
       "                                    student                     41\n",
       "                                    teacher                      8\n",
       "Institution Mixte Espoir            parent                      24\n",
       "                                    student                     30\n",
       "                                    teacher                      2\n",
       "                                    principal                    1\n",
       "Institution Mixte Alma Mater        parent                      76\n",
       "                                    student                     83\n",
       "                                    teacher                      8\n",
       "                                    principal                    1\n",
       "Collègue Mixte Toussaint Louverture parent                      83\n",
       "                                    student                     87\n",
       "                                    teacher                     11\n",
       "                                    principal                    1\n",
       "Liberty Collège Mixte               parent                      41\n",
       "                                    student                     34\n",
       "                                    teacher                      3\n",
       "                                    principal                    1"
      ]
     },
     "execution_count": 213,
     "metadata": {},
     "output_type": "execute_result"
    }
   ],
   "source": []
  },
  {
   "cell_type": "code",
   "execution_count": null,
   "metadata": {},
   "outputs": [],
   "source": []
  }
 ],
 "metadata": {
  "kernelspec": {
   "display_name": "Python 3",
   "language": "python",
   "name": "python3"
  },
  "language_info": {
   "codemirror_mode": {
    "name": "ipython",
    "version": 3
   },
   "file_extension": ".py",
   "mimetype": "text/x-python",
   "name": "python",
   "nbconvert_exporter": "python",
   "pygments_lexer": "ipython3",
   "version": "3.8.3"
  }
 },
 "nbformat": 4,
 "nbformat_minor": 2
}
